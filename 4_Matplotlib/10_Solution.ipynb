{
 "metadata": {
  "language_info": {
   "codemirror_mode": {
    "name": "ipython",
    "version": 3
   },
   "file_extension": ".py",
   "mimetype": "text/x-python",
   "name": "python",
   "nbconvert_exporter": "python",
   "pygments_lexer": "ipython3",
   "version": "3.8.5"
  },
  "orig_nbformat": 2,
  "kernelspec": {
   "name": "python385jvsc74a57bd0cbdf93e4b08e4d7f581a343ef3794943ed85d3bca0f82a88e5f832e9cb7f1c99",
   "display_name": "Python 3.8.5 64-bit ('pyData': conda)"
  }
 },
 "nbformat": 4,
 "nbformat_minor": 2,
 "cells": [
  {
   "source": [
    "# Exercise"
   ],
   "cell_type": "markdown",
   "metadata": {}
  },
  {
   "cell_type": "code",
   "execution_count": 11,
   "metadata": {},
   "outputs": [],
   "source": [
    "%matplotlib widget\n",
    "import numpy as np\n",
    "np.random.seed(0)\n",
    "import pandas as pd\n",
    "\n",
    "import matplotlib.pyplot as plt\n",
    "import seaborn as sns"
   ]
  },
  {
   "cell_type": "code",
   "execution_count": 12,
   "metadata": {},
   "outputs": [],
   "source": [
    "def array_info(array: np.ndarray) -> None:\n",
    "    print(f\"ndim: {array.ndim}\")\n",
    "    print(f\"shape: {array.shape}\")\n",
    "    print(f\"size: {array.size}\")\n",
    "    print(f\"dtype: {array.dtype}\")\n",
    "    print(f\"values:\\n{array}\\n\")"
   ]
  },
  {
   "source": [
    "# Exercise 1\n",
    "\n",
    "- Generate a feature dataset (x) of 100 samples with 2 features by sampling from a multivariate normal distribution.  \n",
    "    - With a mean of $\\mu = (-5, 5)^T$  \n",
    "    - With a covariance matrix of $C = \\begin{pmatrix}\n",
    "1 & 0\\\\\n",
    "0 & 1\n",
    "\\end{pmatrix}$\n",
    "- Generate a target dataset (y) of 100 samples by adding up the two features of each row of x"
   ],
   "cell_type": "markdown",
   "metadata": {}
  },
  {
   "cell_type": "code",
   "execution_count": 13,
   "metadata": {},
   "outputs": [],
   "source": [
    "num_samples = 100\n",
    "num_features = 2"
   ]
  },
  {
   "cell_type": "code",
   "execution_count": 14,
   "metadata": {},
   "outputs": [],
   "source": [
    "mean = np.array([-5, 5])\n",
    "cov = np.eye(2)"
   ]
  },
  {
   "cell_type": "code",
   "execution_count": 15,
   "metadata": {},
   "outputs": [],
   "source": [
    "x = np.random.multivariate_normal(mean=mean, cov=cov, size=(num_samples,))"
   ]
  },
  {
   "cell_type": "code",
   "execution_count": 16,
   "metadata": {},
   "outputs": [
    {
     "output_type": "stream",
     "name": "stdout",
     "text": [
      "ndim: 2\nshape: (100, 2)\nsize: 200\ndtype: float64\nvalues:\n[[-3.23594765  5.40015721]\n [-4.02126202  7.2408932 ]\n [-3.13244201  4.02272212]\n [-4.04991158  4.84864279]\n [-5.10321885  5.4105985 ]\n [-4.85595643  6.45427351]\n [-4.23896227  5.12167502]\n [-4.55613677  5.33367433]\n [-3.50592093  4.79484174]\n [-4.6869323   4.14590426]\n [-7.55298982  5.6536186 ]\n [-4.1355638   4.25783498]\n [-2.73024538  3.54563433]\n [-4.95424148  4.81281615]\n [-3.46722079  6.46935877]\n [-4.84505257  5.37816252]\n [-5.88778575  3.01920353]\n [-5.34791215  5.15634897]\n [-3.76970932  6.20237985]\n [-5.38732682  4.69769725]\n [-6.04855297  3.57998206]\n [-6.70627019  6.9507754 ]\n [-5.50965218  4.5619257 ]\n [-6.25279536  5.77749036]\n [-6.61389785  4.78725972]\n [-5.89546656  5.3869025 ]\n [-5.51080514  3.81936782]\n [-5.02818223  5.42833187]\n [-4.93348278  5.3024719 ]\n [-5.63432209  4.63725883]\n [-5.67246045  4.64044684]\n [-5.81314628  3.2737174 ]\n [-4.82257386  4.59821906]\n [-6.63019835  5.46278226]\n [-5.90729836  5.0519454 ]\n [-4.27090944  5.12898291]\n [-3.86059932  3.76517418]\n [-4.59765836  4.31518991]\n [-5.87079715  4.42115034]\n [-5.31155253  5.05616534]\n [-6.16514984  5.90082649]\n [-4.53433756  3.46375631]\n [-3.51174781  6.89588918]\n [-3.82122043  4.82007516]\n [-6.07075262  6.05445173]\n [-5.40317695  6.22244507]\n [-4.79172502  5.97663904]\n [-4.6436336   5.70657317]\n [-4.98949998  6.78587049]\n [-4.87308791  5.40198936]\n [-3.1168493   3.65224094]\n [-6.270485    5.96939671]\n [-6.17312341  6.94362119]\n [-5.41361898  4.25254519]\n [-3.07705797  6.48051479]\n [-3.13244104  5.90604466]\n [-5.86122569  6.91006495]\n [-5.26800337  5.8024564 ]\n [-4.05274803  4.84498991]\n [-4.38592063  5.92220667]\n [-4.62357447  3.90059921]\n [-4.70176183  6.3263859 ]\n [-5.69456786  4.85036546]\n [-5.43515355  6.84926373]\n [-4.32770524  5.40746184]\n [-5.76991607  5.53924919]\n [-5.67433266  5.03183056]\n [-5.63584608  5.67643329]\n [-4.42340918  4.79170124]\n [-4.60399329  3.90693849]\n [-6.49125759  5.4393917 ]\n [-4.8333265   5.63503144]\n [-2.61685523  5.94447949]\n [-5.91282223  6.11701629]\n [-6.31590741  4.5384154 ]\n [-5.06824161  6.71334272]\n [-5.74475482  4.17356146]\n [-5.09845252  4.33652171]\n [-3.87336408  3.92006849]\n [-6.14746865  4.56217996]\n [-5.49803245  6.92953205]\n [-4.05057919  5.08755124]\n [-6.22543552  5.84436298]\n [-6.00021535  3.4552289 ]\n [-3.81197021  5.31694261]\n [-4.07914118  5.31872765]\n [-4.14316939  4.34897441]\n [-6.03424284  5.68159452]\n [-5.80340966  4.31045022]\n [-5.4555325   5.01747916]\n [-5.35399391  3.62504871]\n [-5.6436184   2.77659685]\n [-4.37476855  3.39794234]\n [-6.10438334  5.05216508]\n [-5.739563    6.5430146 ]\n [-6.29285691  5.26705087]\n [-5.03928282  3.8319065 ]\n [-4.47672334  4.82845367]\n [-4.22820945  5.82350415]\n [-2.83676405  6.33652795]]\n\n"
     ]
    }
   ],
   "source": [
    "array_info(x)"
   ]
  },
  {
   "cell_type": "code",
   "execution_count": 17,
   "metadata": {},
   "outputs": [],
   "source": [
    "y = np.sum(x, axis=1)"
   ]
  },
  {
   "cell_type": "code",
   "execution_count": 18,
   "metadata": {},
   "outputs": [
    {
     "output_type": "stream",
     "name": "stdout",
     "text": [
      "ndim: 1\nshape: (100,)\nsize: 100\ndtype: float64\nvalues:\n[ 2.16420955  3.21963118  0.89028011  0.79873121  0.30737965  1.59831708\n  0.88271274  0.77753756  1.28892081 -0.54102804 -1.89937122  0.12227118\n  0.81538895 -0.14142533  3.00213798  0.53310995 -2.86858222 -0.19156318\n  2.43267053 -0.68962957 -2.4685709   0.2445052  -0.94772648 -0.475305\n -1.82663813 -0.50856406 -1.69143732  0.40014964  0.36898912 -0.99706326\n -1.03201361 -2.53942888 -0.22435479 -1.16741609 -0.85535297  0.85807347\n -0.09542514 -0.28246845 -1.44964681 -0.25538719 -0.26432335 -1.07058125\n  3.38414137  0.99885474 -0.01630089  0.81926812  1.18491401  1.06293957\n  1.79637051  0.52890146  0.53539164 -0.30108829  0.77049778 -1.16107379\n  3.40345682  2.77360362  1.04883927  0.53445302  0.79224187  1.53628604\n -0.72297526  1.62462407 -0.8442024   1.41411018  1.07975659 -0.23066688\n -0.6425021   0.04058722  0.36829206 -0.6970548  -1.05186589  0.80170493\n  3.32762426  0.20419406 -1.77749202  1.64510112 -1.57119336 -0.76193081\n  0.04670441 -1.5852887   1.4314996   1.03697205 -0.38107254 -2.54498644\n  1.5049724   1.23958648  0.20580502 -0.35264832 -1.49295944 -0.43805334\n -1.7289452  -2.86702156 -0.9768262  -1.05221826  0.8034516  -1.02580604\n -1.20737632  0.35173033  1.59529471  3.4997639 ]\n\n"
     ]
    }
   ],
   "source": [
    "array_info(y)"
   ]
  },
  {
   "source": [
    "# Exercise 2\n",
    "\n",
    "Plot the data such that the following figure will be displayed:\n",
    "\n",
    "![img](../media/exercise_plt.png)\n",
    "\n",
    "Hint:\n",
    "The colorbar is *coolwarm*"
   ],
   "cell_type": "markdown",
   "metadata": {}
  },
  {
   "cell_type": "code",
   "execution_count": 19,
   "metadata": {},
   "outputs": [
    {
     "output_type": "display_data",
     "data": {
      "text/plain": "Canvas(toolbar=Toolbar(toolitems=[('Home', 'Reset original view', 'home', 'home'), ('Back', 'Back to previous …",
      "application/vnd.jupyter.widget-view+json": {
       "version_major": 2,
       "version_minor": 0,
       "model_id": "1efdf92ee9df40bbb3c303ac5f2e0c0c"
      }
     },
     "metadata": {}
    }
   ],
   "source": [
    "fig, ax = plt.subplots()\n",
    "\n",
    "scatter = ax.scatter(x[:,0], x[:, 1], c=y, cmap='coolwarm')\n",
    "ax.axis('equal')\n",
    "ax.set_xlabel(\"$x_1^i$\")\n",
    "ax.set_ylabel(\"$x_2^i$\")\n",
    "\n",
    "plt.colorbar(scatter)\n",
    "plt.plot();"
   ]
  },
  {
   "source": [
    "# Exercise 3\n",
    "\n",
    "- Plot the data from exercise 2 with a 3D Plot:\n",
    "    - The X, Y axis are the two features from the x array\n",
    "    - The Z axis is the y array\n",
    "\n",
    "![img](../media/exercise_plt2.png)"
   ],
   "cell_type": "markdown",
   "metadata": {}
  },
  {
   "cell_type": "code",
   "execution_count": 20,
   "metadata": {},
   "outputs": [
    {
     "output_type": "display_data",
     "data": {
      "text/plain": "Canvas(toolbar=Toolbar(toolitems=[('Home', 'Reset original view', 'home', 'home'), ('Back', 'Back to previous …",
      "application/vnd.jupyter.widget-view+json": {
       "version_major": 2,
       "version_minor": 0,
       "model_id": "cd52bf4f59f94e0997ddeb579134cb22"
      }
     },
     "metadata": {}
    }
   ],
   "source": [
    "fig = plt.figure()\n",
    "ax = fig.add_subplot(projection='3d')\n",
    "\n",
    "scatter = ax.scatter(x[:,0], x[:,1], y, c=y, cmap='coolwarm')\n",
    "\n",
    "ax.set_xlabel(\"$x_1^i$\")\n",
    "ax.set_ylabel(\"$x_2^i$\")\n",
    "ax.set_zlabel(\"$y^i$\")\n",
    "\n",
    "cbar = plt.colorbar(scatter, ax=ax)\n",
    "plt.show();"
   ]
  }
 ]
}