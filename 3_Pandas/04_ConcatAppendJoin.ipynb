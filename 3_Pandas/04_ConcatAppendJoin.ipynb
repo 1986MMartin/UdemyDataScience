{
 "cells": [
  {
   "cell_type": "markdown",
   "metadata": {},
   "source": [
    "# Concat, Join and Compare with Pandas\n",
    "\n",
    "Pandas provides various facilities for easily combining together Series or DataFrame with various kinds of set logic for the indexes and relational algebra functionality in the case of join / merge-type operations.\n",
    "\n",
    "Note: Adding a column to a DataFrame is relatively fast. However, adding a row requires a copy, and may be expensive."
   ]
  },
  {
   "cell_type": "code",
   "execution_count": 1,
   "metadata": {
    "collapsed": true
   },
   "outputs": [],
   "source": [
    "import numpy as np\n",
    "np.random.seed(0)\n",
    "import pandas as pd"
   ]
  },
  {
   "cell_type": "markdown",
   "metadata": {},
   "source": [
    "## Recap: Concatenation of np.ndarrays"
   ]
  },
  {
   "cell_type": "code",
   "execution_count": 2,
   "metadata": {
    "collapsed": false
   },
   "outputs": [
    {
     "output_type": "stream",
     "name": "stdout",
     "text": [
      "[1 2 3 4 5 6 7 8 9]\n"
     ]
    }
   ],
   "source": [
    "x = [1, 2, 3]\n",
    "y = [4, 5, 6]\n",
    "z = [7, 8, 9]\n",
    "\n",
    "print(np.concatenate([x, y, z]))"
   ]
  },
  {
   "cell_type": "code",
   "execution_count": 3,
   "metadata": {
    "collapsed": false
   },
   "outputs": [
    {
     "output_type": "stream",
     "name": "stdout",
     "text": [
      "[[1 2 1 2]\n [3 4 3 4]]\n"
     ]
    }
   ],
   "source": [
    "x = [[1, 2],\n",
    "     [3, 4]]\n",
    "\n",
    "print(np.concatenate([x, x], axis=1))"
   ]
  },
  {
   "cell_type": "markdown",
   "metadata": {},
   "source": [
    "## Concatenation with Pandas\n",
    "\n",
    "Like its sibling function on ndarrays, numpy.concatenate, pandas.concat takes a list or dict of homogeneously-typed objects and concatenates them with some configurable handling of “what to do with the other axes\".\n",
    "\n",
    "```python\n",
    "pd.concat(\n",
    "    objs,\n",
    "    axis=0,\n",
    "    join=\"outer\",\n",
    "    copy=True,\n",
    "    ...\n",
    ")\n",
    "```\n",
    "\n",
    "- objs : a sequence or mapping of Series or DataFrame objects.\n",
    "- axis : {0, 1, …}, default 0. The axis to concatenate along.\n",
    "- join : {‘inner’, ‘outer’}, default ‘outer’. How to handle indexes on other axis(es). Outer for union and inner for intersection."
   ]
  },
  {
   "cell_type": "code",
   "execution_count": 4,
   "metadata": {
    "collapsed": false
   },
   "outputs": [],
   "source": [
    "s1 = pd.Series([1, 2, 3], index=['A', 'B', 'C'])\n",
    "s2 = pd.Series([4, 5, 6], index=['D', 'E', 'F'])"
   ]
  },
  {
   "cell_type": "code",
   "execution_count": 5,
   "metadata": {},
   "outputs": [
    {
     "output_type": "stream",
     "name": "stdout",
     "text": [
      "A    1\nB    2\nC    3\nD    4\nE    5\nF    6\ndtype: int64\n"
     ]
    }
   ],
   "source": [
    "print(pd.concat([s1, s2]))"
   ]
  },
  {
   "cell_type": "code",
   "execution_count": 6,
   "metadata": {},
   "outputs": [],
   "source": [
    "df1 = pd.DataFrame(\n",
    "    {\n",
    "        \"A\": [\"A0\", \"A1\", \"A2\", \"A3\"],\n",
    "        \"B\": [\"B0\", \"B1\", \"B2\", \"B3\"],\n",
    "        \"C\": [\"C0\", \"C1\", \"C2\", \"C3\"],\n",
    "        \"D\": [\"D0\", \"D1\", \"D2\", \"D3\"],\n",
    "    },\n",
    "    index=[0, 1, 2, 3]\n",
    ")\n",
    "\n",
    "df2 = pd.DataFrame(\n",
    "    {\n",
    "        \"A\": [\"A4\", \"A5\", \"A6\", \"A7\"],\n",
    "        \"B\": [\"B4\", \"B5\", \"B6\", \"B7\"],\n",
    "        \"C\": [\"C4\", \"C5\", \"C6\", \"C7\"],\n",
    "        \"D\": [\"D4\", \"D5\", \"D6\", \"D7\"],\n",
    "    },\n",
    "    index=[4, 5, 6, 7]\n",
    ")\n",
    "\n",
    "df3 = pd.DataFrame(\n",
    "    {\n",
    "        \"A\": [\"A4\", \"A5\", \"A6\", \"A7\"],\n",
    "        \"B\": [\"B4\", \"B5\", \"B6\", \"B7\"],\n",
    "        \"C\": [\"C4\", \"C5\", \"C6\", \"C7\"],\n",
    "        \"E\": [\"D4\", \"D5\", \"D6\", \"D7\"],\n",
    "    },\n",
    "    index=[8, 9, 10, 11]\n",
    ")"
   ]
  },
  {
   "cell_type": "code",
   "execution_count": 7,
   "metadata": {},
   "outputs": [
    {
     "output_type": "stream",
     "name": "stdout",
     "text": [
      "    A   B   C   D\n0  A0  B0  C0  D0\n1  A1  B1  C1  D1\n2  A2  B2  C2  D2\n3  A3  B3  C3  D3\n4  A4  B4  C4  D4\n5  A5  B5  C5  D5\n6  A6  B6  C6  D6\n7  A7  B7  C7  D7\n"
     ]
    }
   ],
   "source": [
    "df_concat1 = pd.concat([df1, df2])\n",
    "\n",
    "print(df_concat1)"
   ]
  },
  {
   "cell_type": "code",
   "execution_count": 8,
   "metadata": {},
   "outputs": [
    {
     "output_type": "stream",
     "name": "stdout",
     "text": [
      "     A   B   C    D    E\n0   A0  B0  C0   D0  NaN\n1   A1  B1  C1   D1  NaN\n2   A2  B2  C2   D2  NaN\n3   A3  B3  C3   D3  NaN\n8   A4  B4  C4  NaN   D4\n9   A5  B5  C5  NaN   D5\n10  A6  B6  C6  NaN   D6\n11  A7  B7  C7  NaN   D7\n"
     ]
    }
   ],
   "source": [
    "df_concat2 = pd.concat(\n",
    "    [df1, df3],\n",
    "    axis=0,\n",
    "    join=\"outer\"\n",
    ")\n",
    "\n",
    "print(df_concat2)"
   ]
  },
  {
   "cell_type": "code",
   "execution_count": 9,
   "metadata": {},
   "outputs": [
    {
     "output_type": "stream",
     "name": "stdout",
     "text": [
      "     A   B   C\n0   A0  B0  C0\n1   A1  B1  C1\n2   A2  B2  C2\n3   A3  B3  C3\n8   A4  B4  C4\n9   A5  B5  C5\n10  A6  B6  C6\n11  A7  B7  C7\n"
     ]
    }
   ],
   "source": [
    "df_concat3 = pd.concat(\n",
    "    [df1, df3],\n",
    "    axis=0,\n",
    "    join=\"inner\"\n",
    ")\n",
    "\n",
    "print(df_concat3)"
   ]
  },
  {
   "cell_type": "markdown",
   "metadata": {},
   "source": [
    "## Append with Pandas\n",
    "\n",
    "A useful shortcut to concat() are the append() instance methods on Series and DataFrame. They concatenate along axis=0, namely the index."
   ]
  },
  {
   "cell_type": "code",
   "execution_count": 10,
   "metadata": {},
   "outputs": [
    {
     "output_type": "stream",
     "name": "stdout",
     "text": [
      "     A   B   C    D    E\n",
      "0   A0  B0  C0   D0  NaN\n",
      "1   A1  B1  C1   D1  NaN\n",
      "2   A2  B2  C2   D2  NaN\n",
      "3   A3  B3  C3   D3  NaN\n",
      "8   A4  B4  C4  NaN   D4\n",
      "9   A5  B5  C5  NaN   D5\n",
      "10  A6  B6  C6  NaN   D6\n",
      "11  A7  B7  C7  NaN   D7\n"
     ]
    }
   ],
   "source": [
    "df_append = df1.append(df3)\n",
    "\n",
    "print(df_append)"
   ]
  },
  {
   "source": [
    "## Joining and Merging Data Frames\n",
    "\n",
    "Pandas provides a single function, merge(), as the entry point for all standard database join operations between DataFrame or named Series objects.\n",
    "\n",
    "```python\n",
    "pd.merge(\n",
    "    left,\n",
    "    right,\n",
    "    how=\"inner\",\n",
    "    on=None,\n",
    "    ...\n",
    ")\n",
    "````\n",
    "\n",
    "- left: A DataFrame or named Series object.\n",
    "- right: Another DataFrame or named Series object.\n",
    "- on: Column or index level names to join on. Must be found in both the left and right DataFrame and/or Series objects."
   ],
   "cell_type": "markdown",
   "metadata": {}
  },
  {
   "source": [
    "#### Brief primer on merge methods (relational algebra)\n",
    "\n",
    "- one-to-one joins: for example when joining two DataFrame objects on their indexes (which must contain unique values).\n",
    "- many-to-one joins: for example when joining an index (unique) to one or more columns in a different DataFrame.\n",
    "- many-to-many joins: joining columns on columns.\n",
    "\n",
    "| Merge method \t| SQL Join Name \t| Description \t|\n",
    "|-\t|-\t|-\t|\n",
    "| left \t| LEFT OUTER JOIN \t| Use keys from left frame only \t|\n",
    "| right \t| RIGHT OUTER JOIN \t| Use keys from right frame only \t|\n",
    "| outer \t| FULL OUTER JOIN \t| Use union of keys from both frames \t|\n",
    "| inner \t| INNER JOIN \t| Use intersection of keys from both frames \t|"
   ],
   "cell_type": "markdown",
   "metadata": {}
  },
  {
   "cell_type": "code",
   "execution_count": 17,
   "metadata": {},
   "outputs": [
    {
     "output_type": "stream",
     "name": "stdout",
     "text": [
      "  key   A   B\n0  K0  A0  B0\n1  K1  A1  B1\n2  K2  A2  B2\n3  K3  A3  B3\n  key   C   D\n0  K0  C0  D0\n1  K1  C1  D1\n2  K2  C2  D2\n3  K3  C3  D3\n"
     ]
    }
   ],
   "source": [
    "left = pd.DataFrame(\n",
    "    {\n",
    "        \"key\": [\"K0\", \"K1\", \"K2\", \"K3\"],\n",
    "        \"A\": [\"A0\", \"A1\", \"A2\", \"A3\"],\n",
    "        \"B\": [\"B0\", \"B1\", \"B2\", \"B3\"],\n",
    "    }\n",
    ")\n",
    "\n",
    "\n",
    "right = pd.DataFrame(\n",
    "    {\n",
    "        \"key\": [\"K0\", \"K1\", \"K2\", \"K3\"],\n",
    "        \"C\": [\"C0\", \"C1\", \"C2\", \"C3\"],\n",
    "        \"D\": [\"D0\", \"D1\", \"D2\", \"D3\"],\n",
    "    }\n",
    ")\n",
    "\n",
    "print(left)\n",
    "print(right)"
   ]
  },
  {
   "cell_type": "code",
   "execution_count": 12,
   "metadata": {},
   "outputs": [
    {
     "output_type": "stream",
     "name": "stdout",
     "text": [
      "  key   A   B   C   D\n0  K0  A0  B0  C0  D0\n1  K1  A1  B1  C1  D1\n2  K2  A2  B2  C2  D2\n3  K3  A3  B3  C3  D3\n"
     ]
    }
   ],
   "source": [
    "print(pd.merge(left, right, on=\"key\"))"
   ]
  },
  {
   "cell_type": "code",
   "execution_count": 15,
   "metadata": {},
   "outputs": [
    {
     "output_type": "stream",
     "name": "stdout",
     "text": [
      "      A    B    C    D\nK0   A0   B0   C0   D0\nK1   A1   B1  NaN  NaN\nK2   A2   B2   C2   D2\nK3  NaN  NaN   C3   D3\n"
     ]
    }
   ],
   "source": [
    "print(left.join(right, how=\"outer\"))"
   ]
  },
  {
   "cell_type": "code",
   "execution_count": 16,
   "metadata": {},
   "outputs": [
    {
     "output_type": "stream",
     "name": "stdout",
     "text": [
      "     A   B   C   D\nK0  A0  B0  C0  D0\nK2  A2  B2  C2  D2\n"
     ]
    }
   ],
   "source": [
    "print(left.join(right, how=\"inner\"))"
   ]
  }
 ],
 "metadata": {
  "anaconda-cloud": {},
  "kernelspec": {
   "name": "python385jvsc74a57bd0630de26a36415a4d3a1dc65b80feee4049a43a89fa89aed6ddf66c570dbcbff3",
   "display_name": "Python 3.8.5 64-bit ('tensorflow': conda)"
  },
  "language_info": {
   "codemirror_mode": {
    "name": "ipython",
    "version": 3
   },
   "file_extension": ".py",
   "mimetype": "text/x-python",
   "name": "python",
   "nbconvert_exporter": "python",
   "pygments_lexer": "ipython3",
   "version": "3.8.5"
  }
 },
 "nbformat": 4,
 "nbformat_minor": 0
}