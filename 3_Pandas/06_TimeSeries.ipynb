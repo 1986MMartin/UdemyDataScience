{
 "metadata": {
  "language_info": {
   "codemirror_mode": {
    "name": "ipython",
    "version": 3
   },
   "file_extension": ".py",
   "mimetype": "text/x-python",
   "name": "python",
   "nbconvert_exporter": "python",
   "pygments_lexer": "ipython3",
   "version": "3.9.4"
  },
  "orig_nbformat": 2,
  "kernelspec": {
   "name": "python394jvsc74a57bd0522fdde40ba75a445b4c7d16655156023622a06d0cbc06ae1181d92925378299",
   "display_name": "Python 3.9.4 64-bit ('pyData': conda)"
  },
  "metadata": {
   "interpreter": {
    "hash": "522fdde40ba75a445b4c7d16655156023622a06d0cbc06ae1181d92925378299"
   }
  }
 },
 "nbformat": 4,
 "nbformat_minor": 2,
 "cells": [
  {
   "source": [
    "# Time Series in Pandas\n",
    "\n",
    "| Concept \t| Scalar Class \t| pandas Data Type \t| Primary Creation Method \t|\n",
    "|-\t|-\t|-\t|-\t|-\t|\n",
    "| Date times \t| Timestamp \t| datetime64\\[ns\\] or datetime64\\[ns, tz\\] \t| to_datetime or date_range \t|\n",
    "| Time deltas \t| Timedelta \t| timedelta64\\[ns\\] \t| to_timedelta or timedelta_range \t|\n",
    "| Time spans \t| Period \t| period\\[freq\\] \t| Period or period_range \t|"
   ],
   "cell_type": "markdown",
   "metadata": {}
  },
  {
   "cell_type": "code",
   "execution_count": 2,
   "metadata": {},
   "outputs": [],
   "source": [
    "import datetime\n",
    "\n",
    "import numpy as np\n",
    "np.random.seed(0)\n",
    "import pandas as pd"
   ]
  },
  {
   "cell_type": "code",
   "execution_count": 3,
   "metadata": {},
   "outputs": [],
   "source": [
    "ds = pd.date_range(\n",
    "    \"21/4/2021\",\n",
    "    periods=3,\n",
    "    freq=\"H\"\n",
    ")"
   ]
  },
  {
   "cell_type": "code",
   "execution_count": 4,
   "metadata": {},
   "outputs": [
    {
     "output_type": "stream",
     "name": "stdout",
     "text": [
      "DatetimeIndex(['2021-04-21 00:00:00', '2021-04-21 01:00:00',\n               '2021-04-21 02:00:00'],\n              dtype='datetime64[ns]', freq='H')\n"
     ]
    }
   ],
   "source": [
    "print(ds)"
   ]
  },
  {
   "cell_type": "code",
   "execution_count": 5,
   "metadata": {},
   "outputs": [
    {
     "output_type": "stream",
     "name": "stdout",
     "text": [
      "DatetimeIndex(['2021-04-21 00:00:00+00:00', '2021-04-21 01:00:00+00:00',\n               '2021-04-21 02:00:00+00:00'],\n              dtype='datetime64[ns, UTC]', freq='H')\n"
     ]
    }
   ],
   "source": [
    "print(ds.tz_localize(\"UTC\"))"
   ]
  },
  {
   "cell_type": "code",
   "execution_count": 6,
   "metadata": {},
   "outputs": [
    {
     "output_type": "stream",
     "name": "stdout",
     "text": [
      "2018-01-05 00:00:00-05:00\n"
     ]
    }
   ],
   "source": [
    "friday = pd.Timestamp(\"2018-01-05\").tz_localize(\"EST\")\n",
    "\n",
    "print(friday)"
   ]
  },
  {
   "cell_type": "code",
   "execution_count": 7,
   "metadata": {},
   "outputs": [
    {
     "output_type": "stream",
     "name": "stdout",
     "text": [
      "2018-01-06 00:00:00-05:00\n"
     ]
    }
   ],
   "source": [
    "saturday = friday + pd.Timedelta(\"1 day\")\n",
    "\n",
    "print(saturday)"
   ]
  },
  {
   "cell_type": "code",
   "execution_count": 8,
   "metadata": {},
   "outputs": [],
   "source": [
    "num_samples = 100\n",
    "\n",
    "dates = pd.date_range(\n",
    "    \"21/4/2021\",\n",
    "    periods=num_samples\n",
    ")\n",
    "\n",
    "df = pd.DataFrame(\n",
    "    {\n",
    "        \"Date\": dates,\n",
    "        \"Value\": np.random.randn(num_samples)\n",
    "    }\n",
    ")"
   ]
  },
  {
   "cell_type": "code",
   "execution_count": 9,
   "metadata": {},
   "outputs": [
    {
     "output_type": "stream",
     "name": "stdout",
     "text": [
      "         Date     Value\n0  2021-04-21 -0.692481\n1  2021-04-22  0.421712\n2  2021-04-23  1.604853\n3  2021-04-24  0.581752\n4  2021-04-25 -0.358903\n..        ...       ...\n95 2021-07-25  0.516345\n96 2021-07-26 -0.333712\n97 2021-07-27 -0.040857\n98 2021-07-28  0.404502\n99 2021-07-29  0.195865\n\n[100 rows x 2 columns]\n"
     ]
    }
   ],
   "source": [
    "print(df)"
   ]
  },
  {
   "cell_type": "code",
   "execution_count": 10,
   "metadata": {},
   "outputs": [
    {
     "output_type": "execute_result",
     "data": {
      "text/plain": [
       "Period('2021-05', 'M')"
      ]
     },
     "metadata": {},
     "execution_count": 10
    }
   ],
   "source": [
    "pd.Period(\"2021-05\")"
   ]
  },
  {
   "cell_type": "code",
   "execution_count": 11,
   "metadata": {},
   "outputs": [
    {
     "output_type": "execute_result",
     "data": {
      "text/plain": [
       "Period('2021-05-01', 'D')"
      ]
     },
     "metadata": {},
     "execution_count": 11
    }
   ],
   "source": [
    "pd.Period(\"2021-05\", freq=\"D\")"
   ]
  },
  {
   "cell_type": "code",
   "execution_count": 15,
   "metadata": {},
   "outputs": [],
   "source": [
    "dates = [\n",
    "    pd.Timestamp(\"2021-05-01\"),\n",
    "    pd.Timestamp(\"2021-05-02\"),\n",
    "    pd.Timestamp(\"2021-05-03\"),\n",
    "]\n",
    "\n",
    "ts = pd.Series(np.random.randn(3), dates)"
   ]
  },
  {
   "cell_type": "code",
   "execution_count": 16,
   "metadata": {},
   "outputs": [
    {
     "output_type": "stream",
     "name": "stdout",
     "text": [
      "2012-05-01    0.368054\n2012-05-02   -0.168449\n2012-05-03    1.941113\ndtype: float64\n"
     ]
    }
   ],
   "source": [
    "print(ts)"
   ]
  },
  {
   "cell_type": "code",
   "execution_count": 19,
   "metadata": {},
   "outputs": [
    {
     "output_type": "stream",
     "name": "stdout",
     "text": [
      "DatetimeIndex(['2021-05-01', '2021-05-02', '2021-05-03', '2021-05-04',\n               '2021-05-05', '2021-05-06', '2021-05-07', '2021-05-08',\n               '2021-05-09', '2021-05-10', '2021-05-11', '2021-05-12',\n               '2021-05-13', '2021-05-14', '2021-05-15', '2021-05-16',\n               '2021-05-17', '2021-05-18', '2021-05-19', '2021-05-20',\n               '2021-05-21', '2021-05-22', '2021-05-23', '2021-05-24',\n               '2021-05-25', '2021-05-26', '2021-05-27', '2021-05-28',\n               '2021-05-29', '2021-05-30', '2021-05-31'],\n              dtype='datetime64[ns]', freq='D')\n"
     ]
    }
   ],
   "source": [
    "start = datetime.datetime(2021, 5, 1)\n",
    "end = datetime.datetime(2021, 5, 31)\n",
    "\n",
    "index = pd.date_range(start, end)\n",
    "\n",
    "print(index)"
   ]
  },
  {
   "cell_type": "code",
   "execution_count": 21,
   "metadata": {},
   "outputs": [
    {
     "output_type": "stream",
     "name": "stdout",
     "text": [
      "DatetimeIndex(['2021-05-01', '2021-05-02', '2021-05-03', '2021-05-04',\n               '2021-05-05', '2021-05-06', '2021-05-07', '2021-05-08',\n               '2021-05-09', '2021-05-10', '2021-05-11', '2021-05-12',\n               '2021-05-13', '2021-05-14', '2021-05-15', '2021-05-16',\n               '2021-05-17', '2021-05-18', '2021-05-19', '2021-05-20',\n               '2021-05-21', '2021-05-22', '2021-05-23', '2021-05-24',\n               '2021-05-25', '2021-05-26', '2021-05-27', '2021-05-28',\n               '2021-05-29', '2021-05-30', '2021-05-31'],\n              dtype='datetime64[ns]', freq='D')\n"
     ]
    }
   ],
   "source": [
    "print(pd.date_range(start, end, freq=\"D\"))"
   ]
  },
  {
   "cell_type": "code",
   "execution_count": 22,
   "metadata": {},
   "outputs": [
    {
     "output_type": "stream",
     "name": "stdout",
     "text": [
      "DatetimeIndex(['2021-05-01', '2021-05-02', '2021-05-03', '2021-05-04',\n               '2021-05-05', '2021-05-06', '2021-05-07', '2021-05-08',\n               '2021-05-09', '2021-05-10', '2021-05-11', '2021-05-12',\n               '2021-05-13', '2021-05-14', '2021-05-15', '2021-05-16',\n               '2021-05-17', '2021-05-18', '2021-05-19', '2021-05-20',\n               '2021-05-21', '2021-05-22', '2021-05-23', '2021-05-24',\n               '2021-05-25', '2021-05-26', '2021-05-27', '2021-05-28',\n               '2021-05-29', '2021-05-30', '2021-05-31'],\n              dtype='datetime64[ns]', freq='D')\n"
     ]
    }
   ],
   "source": [
    "print(pd.date_range('2021-05-01', '2021-05-31', freq=\"D\"))"
   ]
  }
 ]
}