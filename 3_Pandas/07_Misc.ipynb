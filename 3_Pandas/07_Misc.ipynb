{
 "metadata": {
  "language_info": {
   "codemirror_mode": {
    "name": "ipython",
    "version": 3
   },
   "file_extension": ".py",
   "mimetype": "text/x-python",
   "name": "python",
   "nbconvert_exporter": "python",
   "pygments_lexer": "ipython3",
   "version": "3.9.4"
  },
  "orig_nbformat": 2,
  "kernelspec": {
   "name": "python394jvsc74a57bd0522fdde40ba75a445b4c7d16655156023622a06d0cbc06ae1181d92925378299",
   "display_name": "Python 3.9.4 64-bit ('pyData': conda)"
  },
  "metadata": {
   "interpreter": {
    "hash": "522fdde40ba75a445b4c7d16655156023622a06d0cbc06ae1181d92925378299"
   }
  }
 },
 "nbformat": 4,
 "nbformat_minor": 2,
 "cells": [
  {
   "source": [
    "# IO Operations and Statistical Method"
   ],
   "cell_type": "markdown",
   "metadata": {}
  },
  {
   "cell_type": "code",
   "execution_count": 182,
   "metadata": {},
   "outputs": [],
   "source": [
    "import matplotlib.pyplot as plt\n",
    "import numpy as np\n",
    "np.random.seed(0)\n",
    "import pandas as pd"
   ]
  },
  {
   "cell_type": "code",
   "execution_count": 183,
   "metadata": {},
   "outputs": [],
   "source": [
    "def df_info(df: pd.DataFrame) -> None:\n",
    "    return df.head(n=20).style"
   ]
  },
  {
   "source": [
    "## File Operations"
   ],
   "cell_type": "markdown",
   "metadata": {}
  },
  {
   "cell_type": "code",
   "execution_count": 184,
   "metadata": {},
   "outputs": [
    {
     "output_type": "stream",
     "name": "stdout",
     "text": [
      "Index(['PassengerId', 'Survived', 'Pclass', 'Name', 'Sex', 'Age', 'SibSp',\n       'Parch', 'Ticket', 'Fare', 'Cabin', 'Embarked'],\n      dtype='object')\n"
     ]
    }
   ],
   "source": [
    "cols = [\n",
    "    'Survived', 'Pclass', 'Sex', 'Age', 'SibSp',\n",
    "    'Parch', 'Fare', 'Cabin', 'Embarked'\n",
    "]\n",
    "\n",
    "df = pd.read_csv(\"../data/titanic/dataset.csv\")\n",
    "print(df.columns)\n",
    "\n",
    "df = pd.DataFrame(df[cols], index=df[\"PassengerId\"])\n",
    "df.index.name = 'ID'"
   ]
  },
  {
   "cell_type": "code",
   "execution_count": 185,
   "metadata": {},
   "outputs": [
    {
     "output_type": "execute_result",
     "data": {
      "text/plain": [
       "<pandas.io.formats.style.Styler at 0x227ba2e7b80>"
      ],
      "text/html": "<style  type=\"text/css\" >\n</style><table id=\"T_f0e4c_\" ><thead>    <tr>        <th class=\"blank level0\" ></th>        <th class=\"col_heading level0 col0\" >Survived</th>        <th class=\"col_heading level0 col1\" >Pclass</th>        <th class=\"col_heading level0 col2\" >Sex</th>        <th class=\"col_heading level0 col3\" >Age</th>        <th class=\"col_heading level0 col4\" >SibSp</th>        <th class=\"col_heading level0 col5\" >Parch</th>        <th class=\"col_heading level0 col6\" >Fare</th>        <th class=\"col_heading level0 col7\" >Cabin</th>        <th class=\"col_heading level0 col8\" >Embarked</th>    </tr>    <tr>        <th class=\"index_name level0\" >ID</th>        <th class=\"blank\" ></th>        <th class=\"blank\" ></th>        <th class=\"blank\" ></th>        <th class=\"blank\" ></th>        <th class=\"blank\" ></th>        <th class=\"blank\" ></th>        <th class=\"blank\" ></th>        <th class=\"blank\" ></th>        <th class=\"blank\" ></th>    </tr></thead><tbody>\n                <tr>\n                        <th id=\"T_f0e4c_level0_row0\" class=\"row_heading level0 row0\" >1</th>\n                        <td id=\"T_f0e4c_row0_col0\" class=\"data row0 col0\" >1.000000</td>\n                        <td id=\"T_f0e4c_row0_col1\" class=\"data row0 col1\" >1.000000</td>\n                        <td id=\"T_f0e4c_row0_col2\" class=\"data row0 col2\" >female</td>\n                        <td id=\"T_f0e4c_row0_col3\" class=\"data row0 col3\" >38.000000</td>\n                        <td id=\"T_f0e4c_row0_col4\" class=\"data row0 col4\" >1.000000</td>\n                        <td id=\"T_f0e4c_row0_col5\" class=\"data row0 col5\" >0.000000</td>\n                        <td id=\"T_f0e4c_row0_col6\" class=\"data row0 col6\" >71.283300</td>\n                        <td id=\"T_f0e4c_row0_col7\" class=\"data row0 col7\" >C85</td>\n                        <td id=\"T_f0e4c_row0_col8\" class=\"data row0 col8\" >C</td>\n            </tr>\n            <tr>\n                        <th id=\"T_f0e4c_level0_row1\" class=\"row_heading level0 row1\" >2</th>\n                        <td id=\"T_f0e4c_row1_col0\" class=\"data row1 col0\" >1.000000</td>\n                        <td id=\"T_f0e4c_row1_col1\" class=\"data row1 col1\" >3.000000</td>\n                        <td id=\"T_f0e4c_row1_col2\" class=\"data row1 col2\" >female</td>\n                        <td id=\"T_f0e4c_row1_col3\" class=\"data row1 col3\" >26.000000</td>\n                        <td id=\"T_f0e4c_row1_col4\" class=\"data row1 col4\" >0.000000</td>\n                        <td id=\"T_f0e4c_row1_col5\" class=\"data row1 col5\" >0.000000</td>\n                        <td id=\"T_f0e4c_row1_col6\" class=\"data row1 col6\" >7.925000</td>\n                        <td id=\"T_f0e4c_row1_col7\" class=\"data row1 col7\" >nan</td>\n                        <td id=\"T_f0e4c_row1_col8\" class=\"data row1 col8\" >S</td>\n            </tr>\n            <tr>\n                        <th id=\"T_f0e4c_level0_row2\" class=\"row_heading level0 row2\" >3</th>\n                        <td id=\"T_f0e4c_row2_col0\" class=\"data row2 col0\" >1.000000</td>\n                        <td id=\"T_f0e4c_row2_col1\" class=\"data row2 col1\" >1.000000</td>\n                        <td id=\"T_f0e4c_row2_col2\" class=\"data row2 col2\" >female</td>\n                        <td id=\"T_f0e4c_row2_col3\" class=\"data row2 col3\" >35.000000</td>\n                        <td id=\"T_f0e4c_row2_col4\" class=\"data row2 col4\" >1.000000</td>\n                        <td id=\"T_f0e4c_row2_col5\" class=\"data row2 col5\" >0.000000</td>\n                        <td id=\"T_f0e4c_row2_col6\" class=\"data row2 col6\" >53.100000</td>\n                        <td id=\"T_f0e4c_row2_col7\" class=\"data row2 col7\" >C123</td>\n                        <td id=\"T_f0e4c_row2_col8\" class=\"data row2 col8\" >S</td>\n            </tr>\n            <tr>\n                        <th id=\"T_f0e4c_level0_row3\" class=\"row_heading level0 row3\" >4</th>\n                        <td id=\"T_f0e4c_row3_col0\" class=\"data row3 col0\" >0.000000</td>\n                        <td id=\"T_f0e4c_row3_col1\" class=\"data row3 col1\" >3.000000</td>\n                        <td id=\"T_f0e4c_row3_col2\" class=\"data row3 col2\" >male</td>\n                        <td id=\"T_f0e4c_row3_col3\" class=\"data row3 col3\" >35.000000</td>\n                        <td id=\"T_f0e4c_row3_col4\" class=\"data row3 col4\" >0.000000</td>\n                        <td id=\"T_f0e4c_row3_col5\" class=\"data row3 col5\" >0.000000</td>\n                        <td id=\"T_f0e4c_row3_col6\" class=\"data row3 col6\" >8.050000</td>\n                        <td id=\"T_f0e4c_row3_col7\" class=\"data row3 col7\" >nan</td>\n                        <td id=\"T_f0e4c_row3_col8\" class=\"data row3 col8\" >S</td>\n            </tr>\n            <tr>\n                        <th id=\"T_f0e4c_level0_row4\" class=\"row_heading level0 row4\" >5</th>\n                        <td id=\"T_f0e4c_row4_col0\" class=\"data row4 col0\" >0.000000</td>\n                        <td id=\"T_f0e4c_row4_col1\" class=\"data row4 col1\" >3.000000</td>\n                        <td id=\"T_f0e4c_row4_col2\" class=\"data row4 col2\" >male</td>\n                        <td id=\"T_f0e4c_row4_col3\" class=\"data row4 col3\" >nan</td>\n                        <td id=\"T_f0e4c_row4_col4\" class=\"data row4 col4\" >0.000000</td>\n                        <td id=\"T_f0e4c_row4_col5\" class=\"data row4 col5\" >0.000000</td>\n                        <td id=\"T_f0e4c_row4_col6\" class=\"data row4 col6\" >8.458300</td>\n                        <td id=\"T_f0e4c_row4_col7\" class=\"data row4 col7\" >nan</td>\n                        <td id=\"T_f0e4c_row4_col8\" class=\"data row4 col8\" >Q</td>\n            </tr>\n            <tr>\n                        <th id=\"T_f0e4c_level0_row5\" class=\"row_heading level0 row5\" >6</th>\n                        <td id=\"T_f0e4c_row5_col0\" class=\"data row5 col0\" >0.000000</td>\n                        <td id=\"T_f0e4c_row5_col1\" class=\"data row5 col1\" >1.000000</td>\n                        <td id=\"T_f0e4c_row5_col2\" class=\"data row5 col2\" >male</td>\n                        <td id=\"T_f0e4c_row5_col3\" class=\"data row5 col3\" >54.000000</td>\n                        <td id=\"T_f0e4c_row5_col4\" class=\"data row5 col4\" >0.000000</td>\n                        <td id=\"T_f0e4c_row5_col5\" class=\"data row5 col5\" >0.000000</td>\n                        <td id=\"T_f0e4c_row5_col6\" class=\"data row5 col6\" >51.862500</td>\n                        <td id=\"T_f0e4c_row5_col7\" class=\"data row5 col7\" >E46</td>\n                        <td id=\"T_f0e4c_row5_col8\" class=\"data row5 col8\" >S</td>\n            </tr>\n            <tr>\n                        <th id=\"T_f0e4c_level0_row6\" class=\"row_heading level0 row6\" >7</th>\n                        <td id=\"T_f0e4c_row6_col0\" class=\"data row6 col0\" >0.000000</td>\n                        <td id=\"T_f0e4c_row6_col1\" class=\"data row6 col1\" >3.000000</td>\n                        <td id=\"T_f0e4c_row6_col2\" class=\"data row6 col2\" >male</td>\n                        <td id=\"T_f0e4c_row6_col3\" class=\"data row6 col3\" >2.000000</td>\n                        <td id=\"T_f0e4c_row6_col4\" class=\"data row6 col4\" >3.000000</td>\n                        <td id=\"T_f0e4c_row6_col5\" class=\"data row6 col5\" >1.000000</td>\n                        <td id=\"T_f0e4c_row6_col6\" class=\"data row6 col6\" >21.075000</td>\n                        <td id=\"T_f0e4c_row6_col7\" class=\"data row6 col7\" >nan</td>\n                        <td id=\"T_f0e4c_row6_col8\" class=\"data row6 col8\" >S</td>\n            </tr>\n            <tr>\n                        <th id=\"T_f0e4c_level0_row7\" class=\"row_heading level0 row7\" >8</th>\n                        <td id=\"T_f0e4c_row7_col0\" class=\"data row7 col0\" >1.000000</td>\n                        <td id=\"T_f0e4c_row7_col1\" class=\"data row7 col1\" >3.000000</td>\n                        <td id=\"T_f0e4c_row7_col2\" class=\"data row7 col2\" >female</td>\n                        <td id=\"T_f0e4c_row7_col3\" class=\"data row7 col3\" >27.000000</td>\n                        <td id=\"T_f0e4c_row7_col4\" class=\"data row7 col4\" >0.000000</td>\n                        <td id=\"T_f0e4c_row7_col5\" class=\"data row7 col5\" >2.000000</td>\n                        <td id=\"T_f0e4c_row7_col6\" class=\"data row7 col6\" >11.133300</td>\n                        <td id=\"T_f0e4c_row7_col7\" class=\"data row7 col7\" >nan</td>\n                        <td id=\"T_f0e4c_row7_col8\" class=\"data row7 col8\" >S</td>\n            </tr>\n            <tr>\n                        <th id=\"T_f0e4c_level0_row8\" class=\"row_heading level0 row8\" >9</th>\n                        <td id=\"T_f0e4c_row8_col0\" class=\"data row8 col0\" >1.000000</td>\n                        <td id=\"T_f0e4c_row8_col1\" class=\"data row8 col1\" >2.000000</td>\n                        <td id=\"T_f0e4c_row8_col2\" class=\"data row8 col2\" >female</td>\n                        <td id=\"T_f0e4c_row8_col3\" class=\"data row8 col3\" >14.000000</td>\n                        <td id=\"T_f0e4c_row8_col4\" class=\"data row8 col4\" >1.000000</td>\n                        <td id=\"T_f0e4c_row8_col5\" class=\"data row8 col5\" >0.000000</td>\n                        <td id=\"T_f0e4c_row8_col6\" class=\"data row8 col6\" >30.070800</td>\n                        <td id=\"T_f0e4c_row8_col7\" class=\"data row8 col7\" >nan</td>\n                        <td id=\"T_f0e4c_row8_col8\" class=\"data row8 col8\" >C</td>\n            </tr>\n            <tr>\n                        <th id=\"T_f0e4c_level0_row9\" class=\"row_heading level0 row9\" >10</th>\n                        <td id=\"T_f0e4c_row9_col0\" class=\"data row9 col0\" >1.000000</td>\n                        <td id=\"T_f0e4c_row9_col1\" class=\"data row9 col1\" >3.000000</td>\n                        <td id=\"T_f0e4c_row9_col2\" class=\"data row9 col2\" >female</td>\n                        <td id=\"T_f0e4c_row9_col3\" class=\"data row9 col3\" >4.000000</td>\n                        <td id=\"T_f0e4c_row9_col4\" class=\"data row9 col4\" >1.000000</td>\n                        <td id=\"T_f0e4c_row9_col5\" class=\"data row9 col5\" >1.000000</td>\n                        <td id=\"T_f0e4c_row9_col6\" class=\"data row9 col6\" >16.700000</td>\n                        <td id=\"T_f0e4c_row9_col7\" class=\"data row9 col7\" >G6</td>\n                        <td id=\"T_f0e4c_row9_col8\" class=\"data row9 col8\" >S</td>\n            </tr>\n            <tr>\n                        <th id=\"T_f0e4c_level0_row10\" class=\"row_heading level0 row10\" >11</th>\n                        <td id=\"T_f0e4c_row10_col0\" class=\"data row10 col0\" >1.000000</td>\n                        <td id=\"T_f0e4c_row10_col1\" class=\"data row10 col1\" >1.000000</td>\n                        <td id=\"T_f0e4c_row10_col2\" class=\"data row10 col2\" >female</td>\n                        <td id=\"T_f0e4c_row10_col3\" class=\"data row10 col3\" >58.000000</td>\n                        <td id=\"T_f0e4c_row10_col4\" class=\"data row10 col4\" >0.000000</td>\n                        <td id=\"T_f0e4c_row10_col5\" class=\"data row10 col5\" >0.000000</td>\n                        <td id=\"T_f0e4c_row10_col6\" class=\"data row10 col6\" >26.550000</td>\n                        <td id=\"T_f0e4c_row10_col7\" class=\"data row10 col7\" >C103</td>\n                        <td id=\"T_f0e4c_row10_col8\" class=\"data row10 col8\" >S</td>\n            </tr>\n            <tr>\n                        <th id=\"T_f0e4c_level0_row11\" class=\"row_heading level0 row11\" >12</th>\n                        <td id=\"T_f0e4c_row11_col0\" class=\"data row11 col0\" >0.000000</td>\n                        <td id=\"T_f0e4c_row11_col1\" class=\"data row11 col1\" >3.000000</td>\n                        <td id=\"T_f0e4c_row11_col2\" class=\"data row11 col2\" >male</td>\n                        <td id=\"T_f0e4c_row11_col3\" class=\"data row11 col3\" >20.000000</td>\n                        <td id=\"T_f0e4c_row11_col4\" class=\"data row11 col4\" >0.000000</td>\n                        <td id=\"T_f0e4c_row11_col5\" class=\"data row11 col5\" >0.000000</td>\n                        <td id=\"T_f0e4c_row11_col6\" class=\"data row11 col6\" >8.050000</td>\n                        <td id=\"T_f0e4c_row11_col7\" class=\"data row11 col7\" >nan</td>\n                        <td id=\"T_f0e4c_row11_col8\" class=\"data row11 col8\" >S</td>\n            </tr>\n            <tr>\n                        <th id=\"T_f0e4c_level0_row12\" class=\"row_heading level0 row12\" >13</th>\n                        <td id=\"T_f0e4c_row12_col0\" class=\"data row12 col0\" >0.000000</td>\n                        <td id=\"T_f0e4c_row12_col1\" class=\"data row12 col1\" >3.000000</td>\n                        <td id=\"T_f0e4c_row12_col2\" class=\"data row12 col2\" >male</td>\n                        <td id=\"T_f0e4c_row12_col3\" class=\"data row12 col3\" >39.000000</td>\n                        <td id=\"T_f0e4c_row12_col4\" class=\"data row12 col4\" >1.000000</td>\n                        <td id=\"T_f0e4c_row12_col5\" class=\"data row12 col5\" >5.000000</td>\n                        <td id=\"T_f0e4c_row12_col6\" class=\"data row12 col6\" >31.275000</td>\n                        <td id=\"T_f0e4c_row12_col7\" class=\"data row12 col7\" >nan</td>\n                        <td id=\"T_f0e4c_row12_col8\" class=\"data row12 col8\" >S</td>\n            </tr>\n            <tr>\n                        <th id=\"T_f0e4c_level0_row13\" class=\"row_heading level0 row13\" >14</th>\n                        <td id=\"T_f0e4c_row13_col0\" class=\"data row13 col0\" >0.000000</td>\n                        <td id=\"T_f0e4c_row13_col1\" class=\"data row13 col1\" >3.000000</td>\n                        <td id=\"T_f0e4c_row13_col2\" class=\"data row13 col2\" >female</td>\n                        <td id=\"T_f0e4c_row13_col3\" class=\"data row13 col3\" >14.000000</td>\n                        <td id=\"T_f0e4c_row13_col4\" class=\"data row13 col4\" >0.000000</td>\n                        <td id=\"T_f0e4c_row13_col5\" class=\"data row13 col5\" >0.000000</td>\n                        <td id=\"T_f0e4c_row13_col6\" class=\"data row13 col6\" >7.854200</td>\n                        <td id=\"T_f0e4c_row13_col7\" class=\"data row13 col7\" >nan</td>\n                        <td id=\"T_f0e4c_row13_col8\" class=\"data row13 col8\" >S</td>\n            </tr>\n            <tr>\n                        <th id=\"T_f0e4c_level0_row14\" class=\"row_heading level0 row14\" >15</th>\n                        <td id=\"T_f0e4c_row14_col0\" class=\"data row14 col0\" >1.000000</td>\n                        <td id=\"T_f0e4c_row14_col1\" class=\"data row14 col1\" >2.000000</td>\n                        <td id=\"T_f0e4c_row14_col2\" class=\"data row14 col2\" >female</td>\n                        <td id=\"T_f0e4c_row14_col3\" class=\"data row14 col3\" >55.000000</td>\n                        <td id=\"T_f0e4c_row14_col4\" class=\"data row14 col4\" >0.000000</td>\n                        <td id=\"T_f0e4c_row14_col5\" class=\"data row14 col5\" >0.000000</td>\n                        <td id=\"T_f0e4c_row14_col6\" class=\"data row14 col6\" >16.000000</td>\n                        <td id=\"T_f0e4c_row14_col7\" class=\"data row14 col7\" >nan</td>\n                        <td id=\"T_f0e4c_row14_col8\" class=\"data row14 col8\" >S</td>\n            </tr>\n            <tr>\n                        <th id=\"T_f0e4c_level0_row15\" class=\"row_heading level0 row15\" >16</th>\n                        <td id=\"T_f0e4c_row15_col0\" class=\"data row15 col0\" >0.000000</td>\n                        <td id=\"T_f0e4c_row15_col1\" class=\"data row15 col1\" >3.000000</td>\n                        <td id=\"T_f0e4c_row15_col2\" class=\"data row15 col2\" >male</td>\n                        <td id=\"T_f0e4c_row15_col3\" class=\"data row15 col3\" >2.000000</td>\n                        <td id=\"T_f0e4c_row15_col4\" class=\"data row15 col4\" >4.000000</td>\n                        <td id=\"T_f0e4c_row15_col5\" class=\"data row15 col5\" >1.000000</td>\n                        <td id=\"T_f0e4c_row15_col6\" class=\"data row15 col6\" >29.125000</td>\n                        <td id=\"T_f0e4c_row15_col7\" class=\"data row15 col7\" >nan</td>\n                        <td id=\"T_f0e4c_row15_col8\" class=\"data row15 col8\" >Q</td>\n            </tr>\n            <tr>\n                        <th id=\"T_f0e4c_level0_row16\" class=\"row_heading level0 row16\" >17</th>\n                        <td id=\"T_f0e4c_row16_col0\" class=\"data row16 col0\" >1.000000</td>\n                        <td id=\"T_f0e4c_row16_col1\" class=\"data row16 col1\" >2.000000</td>\n                        <td id=\"T_f0e4c_row16_col2\" class=\"data row16 col2\" >male</td>\n                        <td id=\"T_f0e4c_row16_col3\" class=\"data row16 col3\" >nan</td>\n                        <td id=\"T_f0e4c_row16_col4\" class=\"data row16 col4\" >0.000000</td>\n                        <td id=\"T_f0e4c_row16_col5\" class=\"data row16 col5\" >0.000000</td>\n                        <td id=\"T_f0e4c_row16_col6\" class=\"data row16 col6\" >13.000000</td>\n                        <td id=\"T_f0e4c_row16_col7\" class=\"data row16 col7\" >nan</td>\n                        <td id=\"T_f0e4c_row16_col8\" class=\"data row16 col8\" >S</td>\n            </tr>\n            <tr>\n                        <th id=\"T_f0e4c_level0_row17\" class=\"row_heading level0 row17\" >18</th>\n                        <td id=\"T_f0e4c_row17_col0\" class=\"data row17 col0\" >0.000000</td>\n                        <td id=\"T_f0e4c_row17_col1\" class=\"data row17 col1\" >3.000000</td>\n                        <td id=\"T_f0e4c_row17_col2\" class=\"data row17 col2\" >female</td>\n                        <td id=\"T_f0e4c_row17_col3\" class=\"data row17 col3\" >31.000000</td>\n                        <td id=\"T_f0e4c_row17_col4\" class=\"data row17 col4\" >1.000000</td>\n                        <td id=\"T_f0e4c_row17_col5\" class=\"data row17 col5\" >0.000000</td>\n                        <td id=\"T_f0e4c_row17_col6\" class=\"data row17 col6\" >18.000000</td>\n                        <td id=\"T_f0e4c_row17_col7\" class=\"data row17 col7\" >nan</td>\n                        <td id=\"T_f0e4c_row17_col8\" class=\"data row17 col8\" >S</td>\n            </tr>\n            <tr>\n                        <th id=\"T_f0e4c_level0_row18\" class=\"row_heading level0 row18\" >19</th>\n                        <td id=\"T_f0e4c_row18_col0\" class=\"data row18 col0\" >1.000000</td>\n                        <td id=\"T_f0e4c_row18_col1\" class=\"data row18 col1\" >3.000000</td>\n                        <td id=\"T_f0e4c_row18_col2\" class=\"data row18 col2\" >female</td>\n                        <td id=\"T_f0e4c_row18_col3\" class=\"data row18 col3\" >nan</td>\n                        <td id=\"T_f0e4c_row18_col4\" class=\"data row18 col4\" >0.000000</td>\n                        <td id=\"T_f0e4c_row18_col5\" class=\"data row18 col5\" >0.000000</td>\n                        <td id=\"T_f0e4c_row18_col6\" class=\"data row18 col6\" >7.225000</td>\n                        <td id=\"T_f0e4c_row18_col7\" class=\"data row18 col7\" >nan</td>\n                        <td id=\"T_f0e4c_row18_col8\" class=\"data row18 col8\" >C</td>\n            </tr>\n            <tr>\n                        <th id=\"T_f0e4c_level0_row19\" class=\"row_heading level0 row19\" >20</th>\n                        <td id=\"T_f0e4c_row19_col0\" class=\"data row19 col0\" >0.000000</td>\n                        <td id=\"T_f0e4c_row19_col1\" class=\"data row19 col1\" >2.000000</td>\n                        <td id=\"T_f0e4c_row19_col2\" class=\"data row19 col2\" >male</td>\n                        <td id=\"T_f0e4c_row19_col3\" class=\"data row19 col3\" >35.000000</td>\n                        <td id=\"T_f0e4c_row19_col4\" class=\"data row19 col4\" >0.000000</td>\n                        <td id=\"T_f0e4c_row19_col5\" class=\"data row19 col5\" >0.000000</td>\n                        <td id=\"T_f0e4c_row19_col6\" class=\"data row19 col6\" >26.000000</td>\n                        <td id=\"T_f0e4c_row19_col7\" class=\"data row19 col7\" >nan</td>\n                        <td id=\"T_f0e4c_row19_col8\" class=\"data row19 col8\" >S</td>\n            </tr>\n    </tbody></table>"
     },
     "metadata": {},
     "execution_count": 185
    }
   ],
   "source": [
    "df_info(df)"
   ]
  },
  {
   "cell_type": "code",
   "execution_count": 186,
   "metadata": {},
   "outputs": [],
   "source": [
    "df.to_csv(\"../data/titanic/modified_dataset.csv\")"
   ]
  },
  {
   "source": [
    "### Statistical Functions"
   ],
   "cell_type": "markdown",
   "metadata": {}
  },
  {
   "cell_type": "code",
   "execution_count": 187,
   "metadata": {},
   "outputs": [
    {
     "output_type": "stream",
     "name": "stdout",
     "text": [
      "-5.919861369328288\n"
     ]
    }
   ],
   "source": [
    "print(df[\"Age\"].cov(s2))"
   ]
  },
  {
   "cell_type": "code",
   "execution_count": 188,
   "metadata": {},
   "outputs": [
    {
     "output_type": "stream",
     "name": "stdout",
     "text": [
      "-0.9803265963228514\n"
     ]
    }
   ],
   "source": [
    "print(df[\"Age\"].corr(s2))"
   ]
  },
  {
   "cell_type": "code",
   "execution_count": 192,
   "metadata": {},
   "outputs": [
    {
     "output_type": "execute_result",
     "data": {
      "text/plain": [
       "<pandas.io.formats.style.Styler at 0x227b778cb20>"
      ],
      "text/html": "<style  type=\"text/css\" >\n</style><table id=\"T_9f5e0_\" ><thead>    <tr>        <th class=\"blank level0\" ></th>        <th class=\"col_heading level0 col0\" >Survived</th>        <th class=\"col_heading level0 col1\" >Pclass</th>        <th class=\"col_heading level0 col2\" >Age</th>        <th class=\"col_heading level0 col3\" >SibSp</th>        <th class=\"col_heading level0 col4\" >Parch</th>        <th class=\"col_heading level0 col5\" >Fare</th>    </tr></thead><tbody>\n                <tr>\n                        <th id=\"T_9f5e0_level0_row0\" class=\"row_heading level0 row0\" >count</th>\n                        <td id=\"T_9f5e0_row0_col0\" class=\"data row0 col0\" >890.000000</td>\n                        <td id=\"T_9f5e0_row0_col1\" class=\"data row0 col1\" >890.000000</td>\n                        <td id=\"T_9f5e0_row0_col2\" class=\"data row0 col2\" >713.000000</td>\n                        <td id=\"T_9f5e0_row0_col3\" class=\"data row0 col3\" >890.000000</td>\n                        <td id=\"T_9f5e0_row0_col4\" class=\"data row0 col4\" >890.000000</td>\n                        <td id=\"T_9f5e0_row0_col5\" class=\"data row0 col5\" >890.000000</td>\n            </tr>\n            <tr>\n                        <th id=\"T_9f5e0_level0_row1\" class=\"row_heading level0 row1\" >mean</th>\n                        <td id=\"T_9f5e0_row1_col0\" class=\"data row1 col0\" >0.384270</td>\n                        <td id=\"T_9f5e0_row1_col1\" class=\"data row1 col1\" >2.307865</td>\n                        <td id=\"T_9f5e0_row1_col2\" class=\"data row1 col2\" >29.709916</td>\n                        <td id=\"T_9f5e0_row1_col3\" class=\"data row1 col3\" >0.522472</td>\n                        <td id=\"T_9f5e0_row1_col4\" class=\"data row1 col4\" >0.382022</td>\n                        <td id=\"T_9f5e0_row1_col5\" class=\"data row1 col5\" >32.232246</td>\n            </tr>\n            <tr>\n                        <th id=\"T_9f5e0_level0_row2\" class=\"row_heading level0 row2\" >std</th>\n                        <td id=\"T_9f5e0_row2_col0\" class=\"data row2 col0\" >0.486696</td>\n                        <td id=\"T_9f5e0_row2_col1\" class=\"data row2 col1\" >0.836220</td>\n                        <td id=\"T_9f5e0_row2_col2\" class=\"data row2 col2\" >14.533827</td>\n                        <td id=\"T_9f5e0_row2_col3\" class=\"data row2 col3\" >1.103247</td>\n                        <td id=\"T_9f5e0_row2_col4\" class=\"data row2 col4\" >0.806409</td>\n                        <td id=\"T_9f5e0_row2_col5\" class=\"data row2 col5\" >49.714317</td>\n            </tr>\n            <tr>\n                        <th id=\"T_9f5e0_level0_row3\" class=\"row_heading level0 row3\" >min</th>\n                        <td id=\"T_9f5e0_row3_col0\" class=\"data row3 col0\" >0.000000</td>\n                        <td id=\"T_9f5e0_row3_col1\" class=\"data row3 col1\" >1.000000</td>\n                        <td id=\"T_9f5e0_row3_col2\" class=\"data row3 col2\" >0.420000</td>\n                        <td id=\"T_9f5e0_row3_col3\" class=\"data row3 col3\" >0.000000</td>\n                        <td id=\"T_9f5e0_row3_col4\" class=\"data row3 col4\" >0.000000</td>\n                        <td id=\"T_9f5e0_row3_col5\" class=\"data row3 col5\" >0.000000</td>\n            </tr>\n            <tr>\n                        <th id=\"T_9f5e0_level0_row4\" class=\"row_heading level0 row4\" >25%</th>\n                        <td id=\"T_9f5e0_row4_col0\" class=\"data row4 col0\" >0.000000</td>\n                        <td id=\"T_9f5e0_row4_col1\" class=\"data row4 col1\" >2.000000</td>\n                        <td id=\"T_9f5e0_row4_col2\" class=\"data row4 col2\" >20.000000</td>\n                        <td id=\"T_9f5e0_row4_col3\" class=\"data row4 col3\" >0.000000</td>\n                        <td id=\"T_9f5e0_row4_col4\" class=\"data row4 col4\" >0.000000</td>\n                        <td id=\"T_9f5e0_row4_col5\" class=\"data row4 col5\" >7.925000</td>\n            </tr>\n            <tr>\n                        <th id=\"T_9f5e0_level0_row5\" class=\"row_heading level0 row5\" >50%</th>\n                        <td id=\"T_9f5e0_row5_col0\" class=\"data row5 col0\" >0.000000</td>\n                        <td id=\"T_9f5e0_row5_col1\" class=\"data row5 col1\" >3.000000</td>\n                        <td id=\"T_9f5e0_row5_col2\" class=\"data row5 col2\" >28.000000</td>\n                        <td id=\"T_9f5e0_row5_col3\" class=\"data row5 col3\" >0.000000</td>\n                        <td id=\"T_9f5e0_row5_col4\" class=\"data row5 col4\" >0.000000</td>\n                        <td id=\"T_9f5e0_row5_col5\" class=\"data row5 col5\" >14.454200</td>\n            </tr>\n            <tr>\n                        <th id=\"T_9f5e0_level0_row6\" class=\"row_heading level0 row6\" >75%</th>\n                        <td id=\"T_9f5e0_row6_col0\" class=\"data row6 col0\" >1.000000</td>\n                        <td id=\"T_9f5e0_row6_col1\" class=\"data row6 col1\" >3.000000</td>\n                        <td id=\"T_9f5e0_row6_col2\" class=\"data row6 col2\" >38.000000</td>\n                        <td id=\"T_9f5e0_row6_col3\" class=\"data row6 col3\" >1.000000</td>\n                        <td id=\"T_9f5e0_row6_col4\" class=\"data row6 col4\" >0.000000</td>\n                        <td id=\"T_9f5e0_row6_col5\" class=\"data row6 col5\" >31.000000</td>\n            </tr>\n            <tr>\n                        <th id=\"T_9f5e0_level0_row7\" class=\"row_heading level0 row7\" >max</th>\n                        <td id=\"T_9f5e0_row7_col0\" class=\"data row7 col0\" >1.000000</td>\n                        <td id=\"T_9f5e0_row7_col1\" class=\"data row7 col1\" >3.000000</td>\n                        <td id=\"T_9f5e0_row7_col2\" class=\"data row7 col2\" >80.000000</td>\n                        <td id=\"T_9f5e0_row7_col3\" class=\"data row7 col3\" >8.000000</td>\n                        <td id=\"T_9f5e0_row7_col4\" class=\"data row7 col4\" >6.000000</td>\n                        <td id=\"T_9f5e0_row7_col5\" class=\"data row7 col5\" >512.329200</td>\n            </tr>\n    </tbody></table>"
     },
     "metadata": {},
     "execution_count": 192
    }
   ],
   "source": [
    "df_info(df.describe())"
   ]
  },
  {
   "cell_type": "code",
   "execution_count": 190,
   "metadata": {},
   "outputs": [
    {
     "output_type": "execute_result",
     "data": {
      "text/plain": [
       "        Survived    Pclass         Age     SibSp     Parch         Fare\n",
       "min     0.000000  1.000000    0.420000  0.000000  0.000000     0.000000\n",
       "max     1.000000  3.000000   80.000000  8.000000  6.000000   512.329200\n",
       "median  0.000000  3.000000   28.000000  0.000000  0.000000    14.454200\n",
       "mean    0.384270  2.307865   29.709916  0.522472  0.382022    32.232246\n",
       "var     0.236873  0.699263  211.232130  1.217155  0.650295  2471.513364\n",
       "std     0.486696  0.836220   14.533827  1.103247  0.806409    49.714317"
      ],
      "text/html": "<div>\n<style scoped>\n    .dataframe tbody tr th:only-of-type {\n        vertical-align: middle;\n    }\n\n    .dataframe tbody tr th {\n        vertical-align: top;\n    }\n\n    .dataframe thead th {\n        text-align: right;\n    }\n</style>\n<table border=\"1\" class=\"dataframe\">\n  <thead>\n    <tr style=\"text-align: right;\">\n      <th></th>\n      <th>Survived</th>\n      <th>Pclass</th>\n      <th>Age</th>\n      <th>SibSp</th>\n      <th>Parch</th>\n      <th>Fare</th>\n    </tr>\n  </thead>\n  <tbody>\n    <tr>\n      <th>min</th>\n      <td>0.000000</td>\n      <td>1.000000</td>\n      <td>0.420000</td>\n      <td>0.000000</td>\n      <td>0.000000</td>\n      <td>0.000000</td>\n    </tr>\n    <tr>\n      <th>max</th>\n      <td>1.000000</td>\n      <td>3.000000</td>\n      <td>80.000000</td>\n      <td>8.000000</td>\n      <td>6.000000</td>\n      <td>512.329200</td>\n    </tr>\n    <tr>\n      <th>median</th>\n      <td>0.000000</td>\n      <td>3.000000</td>\n      <td>28.000000</td>\n      <td>0.000000</td>\n      <td>0.000000</td>\n      <td>14.454200</td>\n    </tr>\n    <tr>\n      <th>mean</th>\n      <td>0.384270</td>\n      <td>2.307865</td>\n      <td>29.709916</td>\n      <td>0.522472</td>\n      <td>0.382022</td>\n      <td>32.232246</td>\n    </tr>\n    <tr>\n      <th>var</th>\n      <td>0.236873</td>\n      <td>0.699263</td>\n      <td>211.232130</td>\n      <td>1.217155</td>\n      <td>0.650295</td>\n      <td>2471.513364</td>\n    </tr>\n    <tr>\n      <th>std</th>\n      <td>0.486696</td>\n      <td>0.836220</td>\n      <td>14.533827</td>\n      <td>1.103247</td>\n      <td>0.806409</td>\n      <td>49.714317</td>\n    </tr>\n  </tbody>\n</table>\n</div>"
     },
     "metadata": {},
     "execution_count": 190
    }
   ],
   "source": [
    "df.agg([\"min\", \"max\", \"median\", \"mean\", \"var\", \"std\"])"
   ]
  },
  {
   "cell_type": "code",
   "execution_count": 191,
   "metadata": {},
   "outputs": [
    {
     "output_type": "stream",
     "name": "stdout",
     "text": [
      "0.0    548\n1.0    342\nName: Survived, dtype: int64\n"
     ]
    }
   ],
   "source": [
    "print(df[\"Survived\"].value_counts())"
   ]
  }
 ]
}