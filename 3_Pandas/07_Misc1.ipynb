{
 "metadata": {
  "language_info": {
   "codemirror_mode": {
    "name": "ipython",
    "version": 3
   },
   "file_extension": ".py",
   "mimetype": "text/x-python",
   "name": "python",
   "nbconvert_exporter": "python",
   "pygments_lexer": "ipython3",
   "version": "3.8.5"
  },
  "orig_nbformat": 2,
  "kernelspec": {
   "name": "python385jvsc74a57bd0630de26a36415a4d3a1dc65b80feee4049a43a89fa89aed6ddf66c570dbcbff3",
   "display_name": "Python 3.8.5 64-bit ('tensorflow': conda)"
  }
 },
 "nbformat": 4,
 "nbformat_minor": 2,
 "cells": [
  {
   "source": [
    "# Tips and Tricks for Pandas"
   ],
   "cell_type": "markdown",
   "metadata": {}
  },
  {
   "cell_type": "code",
   "execution_count": 228,
   "metadata": {},
   "outputs": [],
   "source": [
    "import numpy as np\n",
    "np.random.seed(0)\n",
    "import pandas as pd"
   ]
  },
  {
   "cell_type": "code",
   "execution_count": 229,
   "metadata": {},
   "outputs": [],
   "source": [
    "def series_info(series: pd.Series) -> None:\n",
    "    print(f\"ndim: {series.ndim}\")\n",
    "    print(f\"shape: {series.shape}\")\n",
    "    print(f\"size: {series.size}\")\n",
    "    print(f\"dtype: {series.dtype}\")\n",
    "    print(f\"values:\\n{series}\\n\")"
   ]
  },
  {
   "cell_type": "code",
   "execution_count": 230,
   "metadata": {},
   "outputs": [],
   "source": [
    "def df_info(df: pd.DataFrame) -> None:\n",
    "    print(f\"ndim: {df.ndim}\")\n",
    "    print(f\"shape: {df.shape}\")\n",
    "    print(f\"size: {df.size}\")\n",
    "    print(f\"dtype: {df.dtypes}\")\n",
    "    print(f\"values:\\n{df}\\n\")"
   ]
  },
  {
   "cell_type": "code",
   "execution_count": 231,
   "metadata": {},
   "outputs": [],
   "source": [
    "df = pd.DataFrame(\n",
    "    np.random.rand(10_000, 3),\n",
    "    columns=[\"A\", \"B\", \"C\"]\n",
    ")"
   ]
  },
  {
   "cell_type": "code",
   "execution_count": 232,
   "metadata": {},
   "outputs": [
    {
     "output_type": "stream",
     "name": "stdout",
     "text": [
      "ndim: 2\nshape: (10000, 3)\nsize: 30000\ndtype: A    float64\nB    float64\nC    float64\ndtype: object\nvalues:\n             A         B         C\n0     0.548814  0.715189  0.602763\n1     0.544883  0.423655  0.645894\n2     0.437587  0.891773  0.963663\n3     0.383442  0.791725  0.528895\n4     0.568045  0.925597  0.071036\n...        ...       ...       ...\n9995  0.744256  0.833002  0.177207\n9996  0.463218  0.581561  0.390984\n9997  0.763993  0.886611  0.535190\n9998  0.820328  0.622359  0.531140\n9999  0.852904  0.734230  0.638997\n\n[10000 rows x 3 columns]\n\n"
     ]
    }
   ],
   "source": [
    "df_info(df)"
   ]
  },
  {
   "source": [
    "## Speed-Up Apply\n",
    "\n",
    "Use-Case:\n",
    "Replace the value in a column by 0.0 if it is less than 0.5"
   ],
   "cell_type": "markdown",
   "metadata": {}
  },
  {
   "cell_type": "code",
   "execution_count": 233,
   "metadata": {},
   "outputs": [],
   "source": [
    "def slow_function(df):\n",
    "    col = \"A\"\n",
    "    for idx, row in df.iterrows():\n",
    "        if row[col] < 0.5:\n",
    "            row[col] = 0.0"
   ]
  },
  {
   "cell_type": "code",
   "execution_count": 234,
   "metadata": {},
   "outputs": [
    {
     "output_type": "stream",
     "name": "stdout",
     "text": [
      "606 ms ± 66.7 ms per loop (mean ± std. dev. of 7 runs, 1 loop each)\n          A         B         C\n0  0.548814  0.715189  0.602763\n1  0.544883  0.423655  0.645894\n2  0.000000  0.891773  0.963663\n3  0.000000  0.791725  0.528895\n4  0.568045  0.925597  0.071036\n"
     ]
    }
   ],
   "source": [
    "%timeit slow_function(df)\n",
    "\n",
    "print(df.head())"
   ]
  },
  {
   "cell_type": "code",
   "execution_count": 235,
   "metadata": {},
   "outputs": [],
   "source": [
    "def faster_function(df):\n",
    "    df[\"B\"] = df[\"B\"].apply(lambda x: 0.0 if x < 0.5 else x)"
   ]
  },
  {
   "cell_type": "code",
   "execution_count": 236,
   "metadata": {},
   "outputs": [
    {
     "output_type": "stream",
     "name": "stdout",
     "text": [
      "4.22 ms ± 1.17 ms per loop (mean ± std. dev. of 7 runs, 100 loops each)\n          A         B         C\n0  0.548814  0.715189  0.602763\n1  0.544883  0.000000  0.645894\n2  0.000000  0.891773  0.963663\n3  0.000000  0.791725  0.528895\n4  0.568045  0.925597  0.071036\n"
     ]
    }
   ],
   "source": [
    "%timeit faster_function(df)\n",
    "\n",
    "print(df.head())"
   ]
  },
  {
   "cell_type": "code",
   "execution_count": 237,
   "metadata": {},
   "outputs": [
    {
     "output_type": "stream",
     "name": "stdout",
     "text": [
      "Speedup by 186x\n"
     ]
    }
   ],
   "source": [
    "print(f\"Speedup by {int(585 / 3.14)}x\")"
   ]
  },
  {
   "cell_type": "code",
   "execution_count": 238,
   "metadata": {},
   "outputs": [],
   "source": [
    "def even_faster_function(df):\n",
    "    df[\"C\"] = np.where(df[\"C\"] < 0.0, 0.5, df[\"C\"])"
   ]
  },
  {
   "cell_type": "code",
   "execution_count": 239,
   "metadata": {},
   "outputs": [
    {
     "output_type": "stream",
     "name": "stdout",
     "text": [
      "609 µs ± 21 µs per loop (mean ± std. dev. of 7 runs, 1000 loops each)\n          A         B         C\n0  0.548814  0.715189  0.602763\n1  0.544883  0.000000  0.645894\n2  0.000000  0.891773  0.963663\n3  0.000000  0.791725  0.528895\n4  0.568045  0.925597  0.071036\n"
     ]
    }
   ],
   "source": [
    "%timeit even_faster_function(df)\n",
    "\n",
    "print(df.head())"
   ]
  },
  {
   "cell_type": "code",
   "execution_count": 240,
   "metadata": {},
   "outputs": [
    {
     "output_type": "stream",
     "name": "stdout",
     "text": [
      "Speedup by 11016x\n"
     ]
    }
   ],
   "source": [
    "print(f\"Speedup by {int(585 * 1000.0 / 53.1)}x\")"
   ]
  },
  {
   "source": [
    "# Speed-Up Transform"
   ],
   "cell_type": "markdown",
   "metadata": {}
  },
  {
   "cell_type": "code",
   "execution_count": 241,
   "metadata": {},
   "outputs": [],
   "source": [
    "def slow_function(df):\n",
    "    col = \"A\"\n",
    "    for idx, row in df.iterrows():\n",
    "        row[col] = row[col] + 1.0"
   ]
  },
  {
   "cell_type": "code",
   "execution_count": 242,
   "metadata": {},
   "outputs": [
    {
     "output_type": "stream",
     "name": "stdout",
     "text": [
      "1.01 s ± 54.7 ms per loop (mean ± std. dev. of 7 runs, 1 loop each)\n"
     ]
    }
   ],
   "source": [
    "%timeit slow_function(df)"
   ]
  },
  {
   "cell_type": "code",
   "execution_count": 243,
   "metadata": {},
   "outputs": [],
   "source": [
    "def faster_function(df):\n",
    "    df[\"B\"] = df[\"B\"].transform(lambda x: x + 1.0)"
   ]
  },
  {
   "cell_type": "code",
   "execution_count": 244,
   "metadata": {},
   "outputs": [
    {
     "output_type": "stream",
     "name": "stdout",
     "text": [
      "5.47 ms ± 295 µs per loop (mean ± std. dev. of 7 runs, 100 loops each)\n"
     ]
    }
   ],
   "source": [
    "%timeit faster_function(df)"
   ]
  },
  {
   "cell_type": "code",
   "execution_count": 245,
   "metadata": {},
   "outputs": [],
   "source": [
    "def even_faster_function(df):\n",
    "    df[\"C\"] = df[\"C\"] + 1.0"
   ]
  },
  {
   "cell_type": "code",
   "execution_count": 246,
   "metadata": {},
   "outputs": [
    {
     "output_type": "stream",
     "name": "stdout",
     "text": [
      "233 µs ± 23.9 µs per loop (mean ± std. dev. of 7 runs, 1000 loops each)\n"
     ]
    }
   ],
   "source": [
    "%timeit even_faster_function(df)"
   ]
  },
  {
   "cell_type": "code",
   "execution_count": 256,
   "metadata": {},
   "outputs": [],
   "source": [
    "%load_ext Cython"
   ]
  },
  {
   "cell_type": "code",
   "execution_count": 273,
   "metadata": {},
   "outputs": [],
   "source": [
    "%%cython\n",
    "cimport numpy as np\n",
    "\n",
    "cpdef np.ndarray[double] f(np.ndarray vals):\n",
    "    return vals + 1.0\n",
    "\n",
    "def function(df):\n",
    "    df[\"C\"] = f(df[\"C\"].values)"
   ]
  },
  {
   "cell_type": "code",
   "execution_count": 274,
   "metadata": {},
   "outputs": [
    {
     "output_type": "stream",
     "name": "stdout",
     "text": [
      "169 µs ± 50.9 µs per loop (mean ± std. dev. of 7 runs, 1000 loops each)\n"
     ]
    }
   ],
   "source": [
    "%timeit function(df)"
   ]
  },
  {
   "cell_type": "code",
   "execution_count": 280,
   "metadata": {},
   "outputs": [
    {
     "output_type": "error",
     "ename": "TypeError",
     "evalue": "The decorated object is not a function (got type <class 'numba.np.ufunc.dufunc.DUFunc'>).",
     "traceback": [
      "\u001b[1;31m---------------------------------------------------------------------------\u001b[0m",
      "\u001b[1;31mTypeError\u001b[0m                                 Traceback (most recent call last)",
      "\u001b[1;32m<ipython-input-280-9932dde4e7e8>\u001b[0m in \u001b[0;36m<module>\u001b[1;34m\u001b[0m\n\u001b[0;32m      3\u001b[0m \u001b[1;33m@\u001b[0m\u001b[0mnumba\u001b[0m\u001b[1;33m.\u001b[0m\u001b[0mjit\u001b[0m\u001b[1;33m\u001b[0m\u001b[1;33m\u001b[0m\u001b[0m\n\u001b[0;32m      4\u001b[0m \u001b[1;33m@\u001b[0m\u001b[0mnumba\u001b[0m\u001b[1;33m.\u001b[0m\u001b[0mvectorize\u001b[0m\u001b[1;33m\u001b[0m\u001b[1;33m\u001b[0m\u001b[0m\n\u001b[1;32m----> 5\u001b[1;33m \u001b[1;32mdef\u001b[0m \u001b[0mf\u001b[0m\u001b[1;33m(\u001b[0m\u001b[0mx\u001b[0m\u001b[1;33m)\u001b[0m\u001b[1;33m:\u001b[0m\u001b[1;33m\u001b[0m\u001b[1;33m\u001b[0m\u001b[0m\n\u001b[0m\u001b[0;32m      6\u001b[0m     \u001b[1;32mreturn\u001b[0m \u001b[0mx\u001b[0m \u001b[1;33m+\u001b[0m \u001b[1;36m1.0\u001b[0m\u001b[1;33m\u001b[0m\u001b[1;33m\u001b[0m\u001b[0m\n\u001b[0;32m      7\u001b[0m \u001b[1;33m\u001b[0m\u001b[0m\n",
      "\u001b[1;32m~\\Anaconda3\\envs\\tensorflow\\lib\\site-packages\\numba\\core\\decorators.py\u001b[0m in \u001b[0;36mjit\u001b[1;34m(signature_or_function, locals, cache, pipeline_class, boundscheck, **options)\u001b[0m\n\u001b[0;32m    181\u001b[0m                    targetoptions=options, **dispatcher_args)\n\u001b[0;32m    182\u001b[0m     \u001b[1;32mif\u001b[0m \u001b[0mpyfunc\u001b[0m \u001b[1;32mis\u001b[0m \u001b[1;32mnot\u001b[0m \u001b[1;32mNone\u001b[0m\u001b[1;33m:\u001b[0m\u001b[1;33m\u001b[0m\u001b[1;33m\u001b[0m\u001b[0m\n\u001b[1;32m--> 183\u001b[1;33m         \u001b[1;32mreturn\u001b[0m \u001b[0mwrapper\u001b[0m\u001b[1;33m(\u001b[0m\u001b[0mpyfunc\u001b[0m\u001b[1;33m)\u001b[0m\u001b[1;33m\u001b[0m\u001b[1;33m\u001b[0m\u001b[0m\n\u001b[0m\u001b[0;32m    184\u001b[0m     \u001b[1;32melse\u001b[0m\u001b[1;33m:\u001b[0m\u001b[1;33m\u001b[0m\u001b[1;33m\u001b[0m\u001b[0m\n\u001b[0;32m    185\u001b[0m         \u001b[1;32mreturn\u001b[0m \u001b[0mwrapper\u001b[0m\u001b[1;33m\u001b[0m\u001b[1;33m\u001b[0m\u001b[0m\n",
      "\u001b[1;32m~\\Anaconda3\\envs\\tensorflow\\lib\\site-packages\\numba\\core\\decorators.py\u001b[0m in \u001b[0;36mwrapper\u001b[1;34m(func)\u001b[0m\n\u001b[0;32m    198\u001b[0m \u001b[1;33m\u001b[0m\u001b[0m\n\u001b[0;32m    199\u001b[0m         \u001b[1;32mif\u001b[0m \u001b[1;32mnot\u001b[0m \u001b[0minspect\u001b[0m\u001b[1;33m.\u001b[0m\u001b[0misfunction\u001b[0m\u001b[1;33m(\u001b[0m\u001b[0mfunc\u001b[0m\u001b[1;33m)\u001b[0m\u001b[1;33m:\u001b[0m\u001b[1;33m\u001b[0m\u001b[1;33m\u001b[0m\u001b[0m\n\u001b[1;32m--> 200\u001b[1;33m             raise TypeError(\n\u001b[0m\u001b[0;32m    201\u001b[0m                 \u001b[1;34m\"The decorated object is not a function (got type \"\u001b[0m\u001b[1;33m\u001b[0m\u001b[1;33m\u001b[0m\u001b[0m\n\u001b[0;32m    202\u001b[0m                 \u001b[1;34mf\"{type(func)}).\"\u001b[0m\u001b[1;33m\u001b[0m\u001b[1;33m\u001b[0m\u001b[0m\n",
      "\u001b[1;31mTypeError\u001b[0m: The decorated object is not a function (got type <class 'numba.np.ufunc.dufunc.DUFunc'>)."
     ]
    }
   ],
   "source": [
    "import numba\n",
    "\n",
    "@numba.vectorize\n",
    "def f(x):\n",
    "    return x + 1.0\n",
    "\n",
    "def function(df):\n",
    "    df[\"C\"] = f(df[\"C\"].values)"
   ]
  },
  {
   "cell_type": "code",
   "execution_count": 279,
   "metadata": {},
   "outputs": [
    {
     "output_type": "stream",
     "name": "stdout",
     "text": [
      "246 µs ± 71.6 µs per loop (mean ± std. dev. of 7 runs, 10000 loops each)\n"
     ]
    }
   ],
   "source": [
    "%timeit function(df)"
   ]
  },
  {
   "source": [
    "## Speed-Up Filter"
   ],
   "cell_type": "markdown",
   "metadata": {}
  },
  {
   "cell_type": "code",
   "execution_count": 247,
   "metadata": {},
   "outputs": [],
   "source": [
    "def function(df):\n",
    "    boolean_idxs = (df[\"A\"] >= 0.5)\n",
    "    df = df[boolean_idxs]"
   ]
  },
  {
   "cell_type": "code",
   "execution_count": 248,
   "metadata": {},
   "outputs": [
    {
     "output_type": "stream",
     "name": "stdout",
     "text": [
      "850 µs ± 36.5 µs per loop (mean ± std. dev. of 7 runs, 1000 loops each)\n"
     ]
    }
   ],
   "source": [
    "%timeit function(df)"
   ]
  },
  {
   "cell_type": "code",
   "execution_count": 249,
   "metadata": {},
   "outputs": [],
   "source": [
    "def faster_function(df):\n",
    "    boolean_idxs = (df[\"A\"].values >= 0.5)\n",
    "    df = df.loc[boolean_idxs]"
   ]
  },
  {
   "cell_type": "code",
   "execution_count": 250,
   "metadata": {},
   "outputs": [
    {
     "output_type": "stream",
     "name": "stdout",
     "text": [
      "562 µs ± 25.7 µs per loop (mean ± std. dev. of 7 runs, 1000 loops each)\n"
     ]
    }
   ],
   "source": [
    "%timeit faster_function(df)"
   ]
  },
  {
   "cell_type": "code",
   "execution_count": 253,
   "metadata": {},
   "outputs": [],
   "source": [
    "def even_faster_function(df):\n",
    "    boolean_idxs = np.where(df[\"A\"].values >= 0.5)\n",
    "    df = df.iloc[boolean_idxs]"
   ]
  },
  {
   "cell_type": "code",
   "execution_count": 254,
   "metadata": {},
   "outputs": [
    {
     "output_type": "stream",
     "name": "stdout",
     "text": [
      "595 µs ± 40.2 µs per loop (mean ± std. dev. of 7 runs, 1000 loops each)\n"
     ]
    }
   ],
   "source": [
    "%timeit even_faster_function(df)"
   ]
  }
 ]
}