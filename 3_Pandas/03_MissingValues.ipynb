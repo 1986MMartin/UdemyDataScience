{
 "cells": [
  {
   "cell_type": "markdown",
   "metadata": {},
   "source": [
    "# Missing Data\n",
    "\n",
    "NaN is the default missing value marker for reasons of computational speed and convenience.  \n",
    "Pandas will be able to easily detect a NaN value with data of different types: floating point, integer, boolean, and general object."
   ]
  },
  {
   "cell_type": "code",
   "execution_count": 209,
   "metadata": {
    "collapsed": true
   },
   "outputs": [],
   "source": [
    "import numpy as np\n",
    "np.random.seed(0)\n",
    "import pandas as pd"
   ]
  },
  {
   "cell_type": "code",
   "execution_count": 210,
   "metadata": {
    "collapsed": false
   },
   "outputs": [
    {
     "output_type": "stream",
     "name": "stdout",
     "text": [
      "nan\n"
     ]
    }
   ],
   "source": [
    "print(1 + np.nan)"
   ]
  },
  {
   "cell_type": "code",
   "execution_count": 211,
   "metadata": {
    "collapsed": false
   },
   "outputs": [
    {
     "output_type": "stream",
     "name": "stdout",
     "text": [
      "nan\n"
     ]
    }
   ],
   "source": [
    "print(0 *  np.nan)"
   ]
  },
  {
   "cell_type": "code",
   "execution_count": 212,
   "metadata": {},
   "outputs": [
    {
     "output_type": "stream",
     "name": "stdout",
     "text": [
      "True\n"
     ]
    }
   ],
   "source": [
    "print(np.nan != np.nan)"
   ]
  },
  {
   "cell_type": "code",
   "execution_count": 213,
   "metadata": {
    "collapsed": false
   },
   "outputs": [
    {
     "output_type": "stream",
     "name": "stdout",
     "text": [
      "[1 None 3 4]\n"
     ]
    }
   ],
   "source": [
    "data = np.array([1, None, 3, 4])\n",
    "\n",
    "print(data)"
   ]
  },
  {
   "cell_type": "code",
   "execution_count": 214,
   "metadata": {},
   "outputs": [
    {
     "output_type": "stream",
     "name": "stdout",
     "text": [
      "[ 1. nan  3.  4.]\n"
     ]
    }
   ],
   "source": [
    "data = np.array([1, np.nan, 3, 4]) \n",
    "\n",
    "print(data)"
   ]
  },
  {
   "cell_type": "code",
   "execution_count": 215,
   "metadata": {
    "collapsed": false
   },
   "outputs": [
    {
     "output_type": "stream",
     "name": "stdout",
     "text": [
      "nan\n"
     ]
    }
   ],
   "source": [
    "print(np.sum(data))"
   ]
  },
  {
   "cell_type": "code",
   "execution_count": 216,
   "metadata": {
    "collapsed": false
   },
   "outputs": [
    {
     "output_type": "stream",
     "name": "stdout",
     "text": [
      "8.0\n"
     ]
    }
   ],
   "source": [
    "print(np.nansum(data))"
   ]
  },
  {
   "cell_type": "code",
   "execution_count": 217,
   "metadata": {
    "collapsed": false
   },
   "outputs": [
    {
     "output_type": "execute_result",
     "data": {
      "text/plain": [
       "0    1.0\n",
       "1    NaN\n",
       "2    2.0\n",
       "3    NaN\n",
       "dtype: float64"
      ]
     },
     "metadata": {},
     "execution_count": 217
    }
   ],
   "source": [
    "pd.Series([1, np.nan, 2, None])"
   ]
  },
  {
   "source": [
    "## Pandas NaN Examples"
   ],
   "cell_type": "markdown",
   "metadata": {}
  },
  {
   "cell_type": "code",
   "execution_count": 218,
   "metadata": {},
   "outputs": [],
   "source": [
    "def highlight_nan(data: pd.DataFrame, color: str) -> pd.DataFrame:\n",
    "    attr = f'background-color: {color}'\n",
    "    is_nan = pd.isna(data)\n",
    "    return pd.DataFrame(\n",
    "        np.where(is_nan, attr, ''),\n",
    "        index=data.index,\n",
    "        columns=data.columns\n",
    "    )\n",
    "\n",
    "def df_info(df: pd.DataFrame) -> None:\n",
    "    return df.style.apply(\n",
    "        highlight_nan,\n",
    "        color='darkorange',\n",
    "        axis=None\n",
    "    )"
   ]
  },
  {
   "cell_type": "code",
   "execution_count": 219,
   "metadata": {
    "collapsed": false
   },
   "outputs": [
    {
     "output_type": "execute_result",
     "data": {
      "text/plain": [
       "<pandas.io.formats.style.Styler at 0x25083018820>"
      ],
      "text/html": "<style  type=\"text/css\" >\n</style><table id=\"T_827c397a_a7f2_11eb_843b_f83441d003d0\" ><thead>    <tr>        <th class=\"blank level0\" ></th>        <th class=\"col_heading level0 col0\" >one</th>        <th class=\"col_heading level0 col1\" >two</th>        <th class=\"col_heading level0 col2\" >three</th>    </tr></thead><tbody>\n                <tr>\n                        <th id=\"T_827c397a_a7f2_11eb_843b_f83441d003d0level0_row0\" class=\"row_heading level0 row0\" >a</th>\n                        <td id=\"T_827c397a_a7f2_11eb_843b_f83441d003d0row0_col0\" class=\"data row0 col0\" >1.764052</td>\n                        <td id=\"T_827c397a_a7f2_11eb_843b_f83441d003d0row0_col1\" class=\"data row0 col1\" >0.400157</td>\n                        <td id=\"T_827c397a_a7f2_11eb_843b_f83441d003d0row0_col2\" class=\"data row0 col2\" >0.978738</td>\n            </tr>\n            <tr>\n                        <th id=\"T_827c397a_a7f2_11eb_843b_f83441d003d0level0_row1\" class=\"row_heading level0 row1\" >c</th>\n                        <td id=\"T_827c397a_a7f2_11eb_843b_f83441d003d0row1_col0\" class=\"data row1 col0\" >2.240893</td>\n                        <td id=\"T_827c397a_a7f2_11eb_843b_f83441d003d0row1_col1\" class=\"data row1 col1\" >1.867558</td>\n                        <td id=\"T_827c397a_a7f2_11eb_843b_f83441d003d0row1_col2\" class=\"data row1 col2\" >-0.977278</td>\n            </tr>\n            <tr>\n                        <th id=\"T_827c397a_a7f2_11eb_843b_f83441d003d0level0_row2\" class=\"row_heading level0 row2\" >e</th>\n                        <td id=\"T_827c397a_a7f2_11eb_843b_f83441d003d0row2_col0\" class=\"data row2 col0\" >0.950088</td>\n                        <td id=\"T_827c397a_a7f2_11eb_843b_f83441d003d0row2_col1\" class=\"data row2 col1\" >-0.151357</td>\n                        <td id=\"T_827c397a_a7f2_11eb_843b_f83441d003d0row2_col2\" class=\"data row2 col2\" >-0.103219</td>\n            </tr>\n            <tr>\n                        <th id=\"T_827c397a_a7f2_11eb_843b_f83441d003d0level0_row3\" class=\"row_heading level0 row3\" >f</th>\n                        <td id=\"T_827c397a_a7f2_11eb_843b_f83441d003d0row3_col0\" class=\"data row3 col0\" >0.410599</td>\n                        <td id=\"T_827c397a_a7f2_11eb_843b_f83441d003d0row3_col1\" class=\"data row3 col1\" >0.144044</td>\n                        <td id=\"T_827c397a_a7f2_11eb_843b_f83441d003d0row3_col2\" class=\"data row3 col2\" >1.454274</td>\n            </tr>\n            <tr>\n                        <th id=\"T_827c397a_a7f2_11eb_843b_f83441d003d0level0_row4\" class=\"row_heading level0 row4\" >h</th>\n                        <td id=\"T_827c397a_a7f2_11eb_843b_f83441d003d0row4_col0\" class=\"data row4 col0\" >0.761038</td>\n                        <td id=\"T_827c397a_a7f2_11eb_843b_f83441d003d0row4_col1\" class=\"data row4 col1\" >0.121675</td>\n                        <td id=\"T_827c397a_a7f2_11eb_843b_f83441d003d0row4_col2\" class=\"data row4 col2\" >0.443863</td>\n            </tr>\n    </tbody></table>"
     },
     "metadata": {},
     "execution_count": 219
    }
   ],
   "source": [
    "df = pd.DataFrame(\n",
    "    np.random.randn(5, 3),\n",
    "    index=[\"a\", \"c\", \"e\", \"f\", \"h\"],\n",
    "    columns=[\"one\", \"two\", \"three\"],\n",
    ")\n",
    "\n",
    "df_info(df)"
   ]
  },
  {
   "cell_type": "code",
   "execution_count": 220,
   "metadata": {},
   "outputs": [
    {
     "output_type": "execute_result",
     "data": {
      "text/plain": [
       "<pandas.io.formats.style.Styler at 0x2508306a2b0>"
      ],
      "text/html": "<style  type=\"text/css\" >\n#T_8281181a_a7f2_11eb_bea7_f83441d003d0row0_col0,#T_8281181a_a7f2_11eb_bea7_f83441d003d0row3_col1{\n            background-color:  darkorange;\n        }</style><table id=\"T_8281181a_a7f2_11eb_bea7_f83441d003d0\" ><thead>    <tr>        <th class=\"blank level0\" ></th>        <th class=\"col_heading level0 col0\" >one</th>        <th class=\"col_heading level0 col1\" >two</th>        <th class=\"col_heading level0 col2\" >three</th>    </tr></thead><tbody>\n                <tr>\n                        <th id=\"T_8281181a_a7f2_11eb_bea7_f83441d003d0level0_row0\" class=\"row_heading level0 row0\" >a</th>\n                        <td id=\"T_8281181a_a7f2_11eb_bea7_f83441d003d0row0_col0\" class=\"data row0 col0\" >nan</td>\n                        <td id=\"T_8281181a_a7f2_11eb_bea7_f83441d003d0row0_col1\" class=\"data row0 col1\" >0.400157</td>\n                        <td id=\"T_8281181a_a7f2_11eb_bea7_f83441d003d0row0_col2\" class=\"data row0 col2\" >0.978738</td>\n            </tr>\n            <tr>\n                        <th id=\"T_8281181a_a7f2_11eb_bea7_f83441d003d0level0_row1\" class=\"row_heading level0 row1\" >c</th>\n                        <td id=\"T_8281181a_a7f2_11eb_bea7_f83441d003d0row1_col0\" class=\"data row1 col0\" >2.240893</td>\n                        <td id=\"T_8281181a_a7f2_11eb_bea7_f83441d003d0row1_col1\" class=\"data row1 col1\" >1.867558</td>\n                        <td id=\"T_8281181a_a7f2_11eb_bea7_f83441d003d0row1_col2\" class=\"data row1 col2\" >-0.977278</td>\n            </tr>\n            <tr>\n                        <th id=\"T_8281181a_a7f2_11eb_bea7_f83441d003d0level0_row2\" class=\"row_heading level0 row2\" >e</th>\n                        <td id=\"T_8281181a_a7f2_11eb_bea7_f83441d003d0row2_col0\" class=\"data row2 col0\" >0.950088</td>\n                        <td id=\"T_8281181a_a7f2_11eb_bea7_f83441d003d0row2_col1\" class=\"data row2 col1\" >-0.151357</td>\n                        <td id=\"T_8281181a_a7f2_11eb_bea7_f83441d003d0row2_col2\" class=\"data row2 col2\" >-0.103219</td>\n            </tr>\n            <tr>\n                        <th id=\"T_8281181a_a7f2_11eb_bea7_f83441d003d0level0_row3\" class=\"row_heading level0 row3\" >f</th>\n                        <td id=\"T_8281181a_a7f2_11eb_bea7_f83441d003d0row3_col0\" class=\"data row3 col0\" >0.410599</td>\n                        <td id=\"T_8281181a_a7f2_11eb_bea7_f83441d003d0row3_col1\" class=\"data row3 col1\" >nan</td>\n                        <td id=\"T_8281181a_a7f2_11eb_bea7_f83441d003d0row3_col2\" class=\"data row3 col2\" >1.454274</td>\n            </tr>\n            <tr>\n                        <th id=\"T_8281181a_a7f2_11eb_bea7_f83441d003d0level0_row4\" class=\"row_heading level0 row4\" >h</th>\n                        <td id=\"T_8281181a_a7f2_11eb_bea7_f83441d003d0row4_col0\" class=\"data row4 col0\" >0.761038</td>\n                        <td id=\"T_8281181a_a7f2_11eb_bea7_f83441d003d0row4_col1\" class=\"data row4 col1\" >0.121675</td>\n                        <td id=\"T_8281181a_a7f2_11eb_bea7_f83441d003d0row4_col2\" class=\"data row4 col2\" >0.443863</td>\n            </tr>\n    </tbody></table>"
     },
     "metadata": {},
     "execution_count": 220
    }
   ],
   "source": [
    "df[\"one\"][\"a\"] = None\n",
    "df[\"two\"][\"f\"] = None\n",
    "\n",
    "df_info(df)"
   ]
  },
  {
   "cell_type": "code",
   "execution_count": 221,
   "metadata": {},
   "outputs": [
    {
     "output_type": "execute_result",
     "data": {
      "text/plain": [
       "<pandas.io.formats.style.Styler at 0x25083016ca0>"
      ],
      "text/html": "<style  type=\"text/css\" >\n</style><table id=\"T_82853403_a7f2_11eb_ab64_f83441d003d0\" ><thead>    <tr>        <th class=\"blank level0\" ></th>        <th class=\"col_heading level0 col0\" >one</th>        <th class=\"col_heading level0 col1\" >two</th>        <th class=\"col_heading level0 col2\" >three</th>    </tr></thead><tbody>\n                <tr>\n                        <th id=\"T_82853403_a7f2_11eb_ab64_f83441d003d0level0_row0\" class=\"row_heading level0 row0\" >a</th>\n                        <td id=\"T_82853403_a7f2_11eb_ab64_f83441d003d0row0_col0\" class=\"data row0 col0\" >True</td>\n                        <td id=\"T_82853403_a7f2_11eb_ab64_f83441d003d0row0_col1\" class=\"data row0 col1\" >False</td>\n                        <td id=\"T_82853403_a7f2_11eb_ab64_f83441d003d0row0_col2\" class=\"data row0 col2\" >False</td>\n            </tr>\n            <tr>\n                        <th id=\"T_82853403_a7f2_11eb_ab64_f83441d003d0level0_row1\" class=\"row_heading level0 row1\" >c</th>\n                        <td id=\"T_82853403_a7f2_11eb_ab64_f83441d003d0row1_col0\" class=\"data row1 col0\" >False</td>\n                        <td id=\"T_82853403_a7f2_11eb_ab64_f83441d003d0row1_col1\" class=\"data row1 col1\" >False</td>\n                        <td id=\"T_82853403_a7f2_11eb_ab64_f83441d003d0row1_col2\" class=\"data row1 col2\" >False</td>\n            </tr>\n            <tr>\n                        <th id=\"T_82853403_a7f2_11eb_ab64_f83441d003d0level0_row2\" class=\"row_heading level0 row2\" >e</th>\n                        <td id=\"T_82853403_a7f2_11eb_ab64_f83441d003d0row2_col0\" class=\"data row2 col0\" >False</td>\n                        <td id=\"T_82853403_a7f2_11eb_ab64_f83441d003d0row2_col1\" class=\"data row2 col1\" >False</td>\n                        <td id=\"T_82853403_a7f2_11eb_ab64_f83441d003d0row2_col2\" class=\"data row2 col2\" >False</td>\n            </tr>\n            <tr>\n                        <th id=\"T_82853403_a7f2_11eb_ab64_f83441d003d0level0_row3\" class=\"row_heading level0 row3\" >f</th>\n                        <td id=\"T_82853403_a7f2_11eb_ab64_f83441d003d0row3_col0\" class=\"data row3 col0\" >False</td>\n                        <td id=\"T_82853403_a7f2_11eb_ab64_f83441d003d0row3_col1\" class=\"data row3 col1\" >True</td>\n                        <td id=\"T_82853403_a7f2_11eb_ab64_f83441d003d0row3_col2\" class=\"data row3 col2\" >False</td>\n            </tr>\n            <tr>\n                        <th id=\"T_82853403_a7f2_11eb_ab64_f83441d003d0level0_row4\" class=\"row_heading level0 row4\" >h</th>\n                        <td id=\"T_82853403_a7f2_11eb_ab64_f83441d003d0row4_col0\" class=\"data row4 col0\" >False</td>\n                        <td id=\"T_82853403_a7f2_11eb_ab64_f83441d003d0row4_col1\" class=\"data row4 col1\" >False</td>\n                        <td id=\"T_82853403_a7f2_11eb_ab64_f83441d003d0row4_col2\" class=\"data row4 col2\" >False</td>\n            </tr>\n    </tbody></table>"
     },
     "metadata": {},
     "execution_count": 221
    }
   ],
   "source": [
    "df_info(pd.isna(df))"
   ]
  },
  {
   "source": [
    "#### Remove NaN Values"
   ],
   "cell_type": "markdown",
   "metadata": {}
  },
  {
   "cell_type": "code",
   "execution_count": 222,
   "metadata": {
    "collapsed": false
   },
   "outputs": [
    {
     "output_type": "execute_result",
     "data": {
      "text/plain": [
       "<pandas.io.formats.style.Styler at 0x250820c51c0>"
      ],
      "text/html": "<style  type=\"text/css\" >\n</style><table id=\"T_8287ca58_a7f2_11eb_8a77_f83441d003d0\" ><thead>    <tr>        <th class=\"blank level0\" ></th>        <th class=\"col_heading level0 col0\" >one</th>        <th class=\"col_heading level0 col1\" >two</th>        <th class=\"col_heading level0 col2\" >three</th>    </tr></thead><tbody>\n                <tr>\n                        <th id=\"T_8287ca58_a7f2_11eb_8a77_f83441d003d0level0_row0\" class=\"row_heading level0 row0\" >c</th>\n                        <td id=\"T_8287ca58_a7f2_11eb_8a77_f83441d003d0row0_col0\" class=\"data row0 col0\" >2.240893</td>\n                        <td id=\"T_8287ca58_a7f2_11eb_8a77_f83441d003d0row0_col1\" class=\"data row0 col1\" >1.867558</td>\n                        <td id=\"T_8287ca58_a7f2_11eb_8a77_f83441d003d0row0_col2\" class=\"data row0 col2\" >-0.977278</td>\n            </tr>\n            <tr>\n                        <th id=\"T_8287ca58_a7f2_11eb_8a77_f83441d003d0level0_row1\" class=\"row_heading level0 row1\" >e</th>\n                        <td id=\"T_8287ca58_a7f2_11eb_8a77_f83441d003d0row1_col0\" class=\"data row1 col0\" >0.950088</td>\n                        <td id=\"T_8287ca58_a7f2_11eb_8a77_f83441d003d0row1_col1\" class=\"data row1 col1\" >-0.151357</td>\n                        <td id=\"T_8287ca58_a7f2_11eb_8a77_f83441d003d0row1_col2\" class=\"data row1 col2\" >-0.103219</td>\n            </tr>\n            <tr>\n                        <th id=\"T_8287ca58_a7f2_11eb_8a77_f83441d003d0level0_row2\" class=\"row_heading level0 row2\" >h</th>\n                        <td id=\"T_8287ca58_a7f2_11eb_8a77_f83441d003d0row2_col0\" class=\"data row2 col0\" >0.761038</td>\n                        <td id=\"T_8287ca58_a7f2_11eb_8a77_f83441d003d0row2_col1\" class=\"data row2 col1\" >0.121675</td>\n                        <td id=\"T_8287ca58_a7f2_11eb_8a77_f83441d003d0row2_col2\" class=\"data row2 col2\" >0.443863</td>\n            </tr>\n    </tbody></table>"
     },
     "metadata": {},
     "execution_count": 222
    }
   ],
   "source": [
    "df_info(df.dropna())"
   ]
  },
  {
   "cell_type": "code",
   "execution_count": 223,
   "metadata": {
    "collapsed": false
   },
   "outputs": [
    {
     "output_type": "execute_result",
     "data": {
      "text/plain": [
       "<pandas.io.formats.style.Styler at 0x2508305a550>"
      ],
      "text/html": "<style  type=\"text/css\" >\n</style><table id=\"T_8289c4c3_a7f2_11eb_9f9d_f83441d003d0\" ><thead>    <tr>        <th class=\"blank level0\" ></th>        <th class=\"col_heading level0 col0\" >three</th>    </tr></thead><tbody>\n                <tr>\n                        <th id=\"T_8289c4c3_a7f2_11eb_9f9d_f83441d003d0level0_row0\" class=\"row_heading level0 row0\" >a</th>\n                        <td id=\"T_8289c4c3_a7f2_11eb_9f9d_f83441d003d0row0_col0\" class=\"data row0 col0\" >0.978738</td>\n            </tr>\n            <tr>\n                        <th id=\"T_8289c4c3_a7f2_11eb_9f9d_f83441d003d0level0_row1\" class=\"row_heading level0 row1\" >c</th>\n                        <td id=\"T_8289c4c3_a7f2_11eb_9f9d_f83441d003d0row1_col0\" class=\"data row1 col0\" >-0.977278</td>\n            </tr>\n            <tr>\n                        <th id=\"T_8289c4c3_a7f2_11eb_9f9d_f83441d003d0level0_row2\" class=\"row_heading level0 row2\" >e</th>\n                        <td id=\"T_8289c4c3_a7f2_11eb_9f9d_f83441d003d0row2_col0\" class=\"data row2 col0\" >-0.103219</td>\n            </tr>\n            <tr>\n                        <th id=\"T_8289c4c3_a7f2_11eb_9f9d_f83441d003d0level0_row3\" class=\"row_heading level0 row3\" >f</th>\n                        <td id=\"T_8289c4c3_a7f2_11eb_9f9d_f83441d003d0row3_col0\" class=\"data row3 col0\" >1.454274</td>\n            </tr>\n            <tr>\n                        <th id=\"T_8289c4c3_a7f2_11eb_9f9d_f83441d003d0level0_row4\" class=\"row_heading level0 row4\" >h</th>\n                        <td id=\"T_8289c4c3_a7f2_11eb_9f9d_f83441d003d0row4_col0\" class=\"data row4 col0\" >0.443863</td>\n            </tr>\n    </tbody></table>"
     },
     "metadata": {},
     "execution_count": 223
    }
   ],
   "source": [
    "df_info(df.dropna(axis='columns'))"
   ]
  },
  {
   "cell_type": "code",
   "execution_count": 224,
   "metadata": {},
   "outputs": [
    {
     "output_type": "execute_result",
     "data": {
      "text/plain": [
       "<pandas.io.formats.style.Styler at 0x25082d717f0>"
      ],
      "text/html": "<style  type=\"text/css\" >\n</style><table id=\"T_828f186e_a7f2_11eb_b842_f83441d003d0\" ><thead>    <tr>        <th class=\"blank level0\" ></th>        <th class=\"col_heading level0 col0\" >one</th>        <th class=\"col_heading level0 col1\" >two</th>        <th class=\"col_heading level0 col2\" >three</th>    </tr></thead><tbody>\n                <tr>\n                        <th id=\"T_828f186e_a7f2_11eb_b842_f83441d003d0level0_row0\" class=\"row_heading level0 row0\" >c</th>\n                        <td id=\"T_828f186e_a7f2_11eb_b842_f83441d003d0row0_col0\" class=\"data row0 col0\" >2.240893</td>\n                        <td id=\"T_828f186e_a7f2_11eb_b842_f83441d003d0row0_col1\" class=\"data row0 col1\" >1.867558</td>\n                        <td id=\"T_828f186e_a7f2_11eb_b842_f83441d003d0row0_col2\" class=\"data row0 col2\" >-0.977278</td>\n            </tr>\n            <tr>\n                        <th id=\"T_828f186e_a7f2_11eb_b842_f83441d003d0level0_row1\" class=\"row_heading level0 row1\" >e</th>\n                        <td id=\"T_828f186e_a7f2_11eb_b842_f83441d003d0row1_col0\" class=\"data row1 col0\" >0.950088</td>\n                        <td id=\"T_828f186e_a7f2_11eb_b842_f83441d003d0row1_col1\" class=\"data row1 col1\" >-0.151357</td>\n                        <td id=\"T_828f186e_a7f2_11eb_b842_f83441d003d0row1_col2\" class=\"data row1 col2\" >-0.103219</td>\n            </tr>\n            <tr>\n                        <th id=\"T_828f186e_a7f2_11eb_b842_f83441d003d0level0_row2\" class=\"row_heading level0 row2\" >h</th>\n                        <td id=\"T_828f186e_a7f2_11eb_b842_f83441d003d0row2_col0\" class=\"data row2 col0\" >0.761038</td>\n                        <td id=\"T_828f186e_a7f2_11eb_b842_f83441d003d0row2_col1\" class=\"data row2 col1\" >0.121675</td>\n                        <td id=\"T_828f186e_a7f2_11eb_b842_f83441d003d0row2_col2\" class=\"data row2 col2\" >0.443863</td>\n            </tr>\n    </tbody></table>"
     },
     "metadata": {},
     "execution_count": 224
    }
   ],
   "source": [
    "df_info(df.dropna(axis='rows'))"
   ]
  },
  {
   "source": [
    "Operations with NaN Values\n",
    "\n",
    "- When summing data, NA (missing) values will be treated as zero.\n",
    "- If the data are all NA, the result will be 0.\n",
    "- Cumulative methods like cumsum() and cumprod() ignore NA values by default, but preserve them in the resulting arrays. To override this behaviour and include NA values, use skipna=False."
   ],
   "cell_type": "markdown",
   "metadata": {}
  },
  {
   "cell_type": "code",
   "execution_count": 225,
   "metadata": {},
   "outputs": [
    {
     "output_type": "execute_result",
     "data": {
      "text/plain": [
       "<pandas.io.formats.style.Styler at 0x25083018d00>"
      ],
      "text/html": "<style  type=\"text/css\" >\n#T_82938220_a7f2_11eb_aebf_f83441d003d0row0_col0,#T_82938220_a7f2_11eb_aebf_f83441d003d0row3_col1{\n            background-color:  darkorange;\n        }</style><table id=\"T_82938220_a7f2_11eb_aebf_f83441d003d0\" ><thead>    <tr>        <th class=\"blank level0\" ></th>        <th class=\"col_heading level0 col0\" >one</th>        <th class=\"col_heading level0 col1\" >two</th>        <th class=\"col_heading level0 col2\" >three</th>    </tr></thead><tbody>\n                <tr>\n                        <th id=\"T_82938220_a7f2_11eb_aebf_f83441d003d0level0_row0\" class=\"row_heading level0 row0\" >a</th>\n                        <td id=\"T_82938220_a7f2_11eb_aebf_f83441d003d0row0_col0\" class=\"data row0 col0\" >nan</td>\n                        <td id=\"T_82938220_a7f2_11eb_aebf_f83441d003d0row0_col1\" class=\"data row0 col1\" >0.400157</td>\n                        <td id=\"T_82938220_a7f2_11eb_aebf_f83441d003d0row0_col2\" class=\"data row0 col2\" >0.978738</td>\n            </tr>\n            <tr>\n                        <th id=\"T_82938220_a7f2_11eb_aebf_f83441d003d0level0_row1\" class=\"row_heading level0 row1\" >c</th>\n                        <td id=\"T_82938220_a7f2_11eb_aebf_f83441d003d0row1_col0\" class=\"data row1 col0\" >2.240893</td>\n                        <td id=\"T_82938220_a7f2_11eb_aebf_f83441d003d0row1_col1\" class=\"data row1 col1\" >1.867558</td>\n                        <td id=\"T_82938220_a7f2_11eb_aebf_f83441d003d0row1_col2\" class=\"data row1 col2\" >-0.977278</td>\n            </tr>\n            <tr>\n                        <th id=\"T_82938220_a7f2_11eb_aebf_f83441d003d0level0_row2\" class=\"row_heading level0 row2\" >e</th>\n                        <td id=\"T_82938220_a7f2_11eb_aebf_f83441d003d0row2_col0\" class=\"data row2 col0\" >0.950088</td>\n                        <td id=\"T_82938220_a7f2_11eb_aebf_f83441d003d0row2_col1\" class=\"data row2 col1\" >-0.151357</td>\n                        <td id=\"T_82938220_a7f2_11eb_aebf_f83441d003d0row2_col2\" class=\"data row2 col2\" >-0.103219</td>\n            </tr>\n            <tr>\n                        <th id=\"T_82938220_a7f2_11eb_aebf_f83441d003d0level0_row3\" class=\"row_heading level0 row3\" >f</th>\n                        <td id=\"T_82938220_a7f2_11eb_aebf_f83441d003d0row3_col0\" class=\"data row3 col0\" >0.410599</td>\n                        <td id=\"T_82938220_a7f2_11eb_aebf_f83441d003d0row3_col1\" class=\"data row3 col1\" >nan</td>\n                        <td id=\"T_82938220_a7f2_11eb_aebf_f83441d003d0row3_col2\" class=\"data row3 col2\" >1.454274</td>\n            </tr>\n            <tr>\n                        <th id=\"T_82938220_a7f2_11eb_aebf_f83441d003d0level0_row4\" class=\"row_heading level0 row4\" >h</th>\n                        <td id=\"T_82938220_a7f2_11eb_aebf_f83441d003d0row4_col0\" class=\"data row4 col0\" >0.761038</td>\n                        <td id=\"T_82938220_a7f2_11eb_aebf_f83441d003d0row4_col1\" class=\"data row4 col1\" >0.121675</td>\n                        <td id=\"T_82938220_a7f2_11eb_aebf_f83441d003d0row4_col2\" class=\"data row4 col2\" >0.443863</td>\n            </tr>\n    </tbody></table>"
     },
     "metadata": {},
     "execution_count": 225
    }
   ],
   "source": [
    "df_info(df)"
   ]
  },
  {
   "cell_type": "code",
   "execution_count": 226,
   "metadata": {},
   "outputs": [
    {
     "output_type": "stream",
     "name": "stdout",
     "text": [
      "2.238033006712321\n"
     ]
    }
   ],
   "source": [
    "print(df[\"two\"].sum())"
   ]
  },
  {
   "cell_type": "code",
   "execution_count": 227,
   "metadata": {},
   "outputs": [
    {
     "output_type": "stream",
     "name": "stdout",
     "text": [
      "one      4.362618\ntwo      2.238033\nthree    1.796378\ndtype: float64\n"
     ]
    }
   ],
   "source": [
    "print(df.sum())"
   ]
  },
  {
   "source": [
    "#### Fill NaN values"
   ],
   "cell_type": "markdown",
   "metadata": {}
  },
  {
   "cell_type": "code",
   "execution_count": 228,
   "metadata": {},
   "outputs": [
    {
     "output_type": "execute_result",
     "data": {
      "text/plain": [
       "<pandas.io.formats.style.Styler at 0x2508305a4c0>"
      ],
      "text/html": "<style  type=\"text/css\" >\n</style><table id=\"T_829aa91b_a7f2_11eb_930d_f83441d003d0\" ><thead>    <tr>        <th class=\"blank level0\" ></th>        <th class=\"col_heading level0 col0\" >one</th>        <th class=\"col_heading level0 col1\" >two</th>        <th class=\"col_heading level0 col2\" >three</th>    </tr></thead><tbody>\n                <tr>\n                        <th id=\"T_829aa91b_a7f2_11eb_930d_f83441d003d0level0_row0\" class=\"row_heading level0 row0\" >a</th>\n                        <td id=\"T_829aa91b_a7f2_11eb_930d_f83441d003d0row0_col0\" class=\"data row0 col0\" >0.000000</td>\n                        <td id=\"T_829aa91b_a7f2_11eb_930d_f83441d003d0row0_col1\" class=\"data row0 col1\" >0.400157</td>\n                        <td id=\"T_829aa91b_a7f2_11eb_930d_f83441d003d0row0_col2\" class=\"data row0 col2\" >0.978738</td>\n            </tr>\n            <tr>\n                        <th id=\"T_829aa91b_a7f2_11eb_930d_f83441d003d0level0_row1\" class=\"row_heading level0 row1\" >c</th>\n                        <td id=\"T_829aa91b_a7f2_11eb_930d_f83441d003d0row1_col0\" class=\"data row1 col0\" >2.240893</td>\n                        <td id=\"T_829aa91b_a7f2_11eb_930d_f83441d003d0row1_col1\" class=\"data row1 col1\" >1.867558</td>\n                        <td id=\"T_829aa91b_a7f2_11eb_930d_f83441d003d0row1_col2\" class=\"data row1 col2\" >-0.977278</td>\n            </tr>\n            <tr>\n                        <th id=\"T_829aa91b_a7f2_11eb_930d_f83441d003d0level0_row2\" class=\"row_heading level0 row2\" >e</th>\n                        <td id=\"T_829aa91b_a7f2_11eb_930d_f83441d003d0row2_col0\" class=\"data row2 col0\" >0.950088</td>\n                        <td id=\"T_829aa91b_a7f2_11eb_930d_f83441d003d0row2_col1\" class=\"data row2 col1\" >-0.151357</td>\n                        <td id=\"T_829aa91b_a7f2_11eb_930d_f83441d003d0row2_col2\" class=\"data row2 col2\" >-0.103219</td>\n            </tr>\n            <tr>\n                        <th id=\"T_829aa91b_a7f2_11eb_930d_f83441d003d0level0_row3\" class=\"row_heading level0 row3\" >f</th>\n                        <td id=\"T_829aa91b_a7f2_11eb_930d_f83441d003d0row3_col0\" class=\"data row3 col0\" >0.410599</td>\n                        <td id=\"T_829aa91b_a7f2_11eb_930d_f83441d003d0row3_col1\" class=\"data row3 col1\" >0.000000</td>\n                        <td id=\"T_829aa91b_a7f2_11eb_930d_f83441d003d0row3_col2\" class=\"data row3 col2\" >1.454274</td>\n            </tr>\n            <tr>\n                        <th id=\"T_829aa91b_a7f2_11eb_930d_f83441d003d0level0_row4\" class=\"row_heading level0 row4\" >h</th>\n                        <td id=\"T_829aa91b_a7f2_11eb_930d_f83441d003d0row4_col0\" class=\"data row4 col0\" >0.761038</td>\n                        <td id=\"T_829aa91b_a7f2_11eb_930d_f83441d003d0row4_col1\" class=\"data row4 col1\" >0.121675</td>\n                        <td id=\"T_829aa91b_a7f2_11eb_930d_f83441d003d0row4_col2\" class=\"data row4 col2\" >0.443863</td>\n            </tr>\n    </tbody></table>"
     },
     "metadata": {},
     "execution_count": 228
    }
   ],
   "source": [
    "df_info(df.fillna(value=0.0))"
   ]
  },
  {
   "cell_type": "code",
   "execution_count": 229,
   "metadata": {},
   "outputs": [
    {
     "output_type": "execute_result",
     "data": {
      "text/plain": [
       "<pandas.io.formats.style.Styler at 0x2508305a0a0>"
      ],
      "text/html": "<style  type=\"text/css\" >\n</style><table id=\"T_829d3f71_a7f2_11eb_b6ae_f83441d003d0\" ><thead>    <tr>        <th class=\"blank level0\" ></th>        <th class=\"col_heading level0 col0\" >one</th>        <th class=\"col_heading level0 col1\" >two</th>        <th class=\"col_heading level0 col2\" >three</th>    </tr></thead><tbody>\n                <tr>\n                        <th id=\"T_829d3f71_a7f2_11eb_b6ae_f83441d003d0level0_row0\" class=\"row_heading level0 row0\" >a</th>\n                        <td id=\"T_829d3f71_a7f2_11eb_b6ae_f83441d003d0row0_col0\" class=\"data row0 col0\" >missing</td>\n                        <td id=\"T_829d3f71_a7f2_11eb_b6ae_f83441d003d0row0_col1\" class=\"data row0 col1\" >0.400157</td>\n                        <td id=\"T_829d3f71_a7f2_11eb_b6ae_f83441d003d0row0_col2\" class=\"data row0 col2\" >0.978738</td>\n            </tr>\n            <tr>\n                        <th id=\"T_829d3f71_a7f2_11eb_b6ae_f83441d003d0level0_row1\" class=\"row_heading level0 row1\" >c</th>\n                        <td id=\"T_829d3f71_a7f2_11eb_b6ae_f83441d003d0row1_col0\" class=\"data row1 col0\" >2.240893</td>\n                        <td id=\"T_829d3f71_a7f2_11eb_b6ae_f83441d003d0row1_col1\" class=\"data row1 col1\" >1.867558</td>\n                        <td id=\"T_829d3f71_a7f2_11eb_b6ae_f83441d003d0row1_col2\" class=\"data row1 col2\" >-0.977278</td>\n            </tr>\n            <tr>\n                        <th id=\"T_829d3f71_a7f2_11eb_b6ae_f83441d003d0level0_row2\" class=\"row_heading level0 row2\" >e</th>\n                        <td id=\"T_829d3f71_a7f2_11eb_b6ae_f83441d003d0row2_col0\" class=\"data row2 col0\" >0.950088</td>\n                        <td id=\"T_829d3f71_a7f2_11eb_b6ae_f83441d003d0row2_col1\" class=\"data row2 col1\" >-0.151357</td>\n                        <td id=\"T_829d3f71_a7f2_11eb_b6ae_f83441d003d0row2_col2\" class=\"data row2 col2\" >-0.103219</td>\n            </tr>\n            <tr>\n                        <th id=\"T_829d3f71_a7f2_11eb_b6ae_f83441d003d0level0_row3\" class=\"row_heading level0 row3\" >f</th>\n                        <td id=\"T_829d3f71_a7f2_11eb_b6ae_f83441d003d0row3_col0\" class=\"data row3 col0\" >0.410599</td>\n                        <td id=\"T_829d3f71_a7f2_11eb_b6ae_f83441d003d0row3_col1\" class=\"data row3 col1\" >missing</td>\n                        <td id=\"T_829d3f71_a7f2_11eb_b6ae_f83441d003d0row3_col2\" class=\"data row3 col2\" >1.454274</td>\n            </tr>\n            <tr>\n                        <th id=\"T_829d3f71_a7f2_11eb_b6ae_f83441d003d0level0_row4\" class=\"row_heading level0 row4\" >h</th>\n                        <td id=\"T_829d3f71_a7f2_11eb_b6ae_f83441d003d0row4_col0\" class=\"data row4 col0\" >0.761038</td>\n                        <td id=\"T_829d3f71_a7f2_11eb_b6ae_f83441d003d0row4_col1\" class=\"data row4 col1\" >0.121675</td>\n                        <td id=\"T_829d3f71_a7f2_11eb_b6ae_f83441d003d0row4_col2\" class=\"data row4 col2\" >0.443863</td>\n            </tr>\n    </tbody></table>"
     },
     "metadata": {},
     "execution_count": 229
    }
   ],
   "source": [
    "df_info(df.fillna(\"missing\"))"
   ]
  },
  {
   "source": [
    "#### Interpolate"
   ],
   "cell_type": "markdown",
   "metadata": {}
  },
  {
   "cell_type": "code",
   "execution_count": 230,
   "metadata": {},
   "outputs": [
    {
     "output_type": "execute_result",
     "data": {
      "text/plain": [
       "<pandas.io.formats.style.Styler at 0x2508305a6d0>"
      ],
      "text/html": "<style  type=\"text/css\" >\n#T_829fd5ad_a7f2_11eb_82f8_f83441d003d0row2_col0,#T_829fd5ad_a7f2_11eb_82f8_f83441d003d0row6_col0{\n            background-color:  darkorange;\n        }</style><table id=\"T_829fd5ad_a7f2_11eb_82f8_f83441d003d0\" ><thead>    <tr>        <th class=\"blank level0\" ></th>        <th class=\"col_heading level0 col0\" >0</th>    </tr></thead><tbody>\n                <tr>\n                        <th id=\"T_829fd5ad_a7f2_11eb_82f8_f83441d003d0level0_row0\" class=\"row_heading level0 row0\" >2021-04-21 00:00:00</th>\n                        <td id=\"T_829fd5ad_a7f2_11eb_82f8_f83441d003d0row0_col0\" class=\"data row0 col0\" >-4.105980</td>\n            </tr>\n            <tr>\n                        <th id=\"T_829fd5ad_a7f2_11eb_82f8_f83441d003d0level0_row1\" class=\"row_heading level0 row1\" >2021-04-22 00:00:00</th>\n                        <td id=\"T_829fd5ad_a7f2_11eb_82f8_f83441d003d0row1_col0\" class=\"data row1 col0\" >-0.708191</td>\n            </tr>\n            <tr>\n                        <th id=\"T_829fd5ad_a7f2_11eb_82f8_f83441d003d0level0_row2\" class=\"row_heading level0 row2\" >2021-04-23 00:00:00</th>\n                        <td id=\"T_829fd5ad_a7f2_11eb_82f8_f83441d003d0row2_col0\" class=\"data row2 col0\" >nan</td>\n            </tr>\n            <tr>\n                        <th id=\"T_829fd5ad_a7f2_11eb_82f8_f83441d003d0level0_row3\" class=\"row_heading level0 row3\" >2021-04-24 00:00:00</th>\n                        <td id=\"T_829fd5ad_a7f2_11eb_82f8_f83441d003d0row3_col0\" class=\"data row3 col0\" >0.589683</td>\n            </tr>\n            <tr>\n                        <th id=\"T_829fd5ad_a7f2_11eb_82f8_f83441d003d0level0_row4\" class=\"row_heading level0 row4\" >2021-04-25 00:00:00</th>\n                        <td id=\"T_829fd5ad_a7f2_11eb_82f8_f83441d003d0row4_col0\" class=\"data row4 col0\" >1.626135</td>\n            </tr>\n            <tr>\n                        <th id=\"T_829fd5ad_a7f2_11eb_82f8_f83441d003d0level0_row5\" class=\"row_heading level0 row5\" >2021-04-26 00:00:00</th>\n                        <td id=\"T_829fd5ad_a7f2_11eb_82f8_f83441d003d0row5_col0\" class=\"data row5 col0\" >1.667349</td>\n            </tr>\n            <tr>\n                        <th id=\"T_829fd5ad_a7f2_11eb_82f8_f83441d003d0level0_row6\" class=\"row_heading level0 row6\" >2021-04-27 00:00:00</th>\n                        <td id=\"T_829fd5ad_a7f2_11eb_82f8_f83441d003d0row6_col0\" class=\"data row6 col0\" >nan</td>\n            </tr>\n            <tr>\n                        <th id=\"T_829fd5ad_a7f2_11eb_82f8_f83441d003d0level0_row7\" class=\"row_heading level0 row7\" >2021-04-28 00:00:00</th>\n                        <td id=\"T_829fd5ad_a7f2_11eb_82f8_f83441d003d0row7_col0\" class=\"data row7 col0\" >2.728872</td>\n            </tr>\n            <tr>\n                        <th id=\"T_829fd5ad_a7f2_11eb_82f8_f83441d003d0level0_row8\" class=\"row_heading level0 row8\" >2021-04-29 00:00:00</th>\n                        <td id=\"T_829fd5ad_a7f2_11eb_82f8_f83441d003d0row8_col0\" class=\"data row8 col0\" >3.988158</td>\n            </tr>\n            <tr>\n                        <th id=\"T_829fd5ad_a7f2_11eb_82f8_f83441d003d0level0_row9\" class=\"row_heading level0 row9\" >2021-04-30 00:00:00</th>\n                        <td id=\"T_829fd5ad_a7f2_11eb_82f8_f83441d003d0row9_col0\" class=\"data row9 col0\" >5.539509</td>\n            </tr>\n    </tbody></table>"
     },
     "metadata": {},
     "execution_count": 230
    }
   ],
   "source": [
    "num_samples = 10\n",
    "\n",
    "index = pd.date_range(\n",
    "    \"21/4/2021\",\n",
    "    periods=num_samples\n",
    ")\n",
    "\n",
    "values = 2 * np.sort(np.random.randn(num_samples)) + 1\n",
    "df = pd.DataFrame(values, index)\n",
    "df.iloc[2] = None\n",
    "df.iloc[6] = None\n",
    "\n",
    "df_info(df)"
   ]
  },
  {
   "cell_type": "code",
   "execution_count": 231,
   "metadata": {},
   "outputs": [
    {
     "output_type": "display_data",
     "data": {
      "text/plain": "<Figure size 432x288 with 1 Axes>",
      "image/svg+xml": "<?xml version=\"1.0\" encoding=\"utf-8\" standalone=\"no\"?>\r\n<!DOCTYPE svg PUBLIC \"-//W3C//DTD SVG 1.1//EN\"\r\n  \"http://www.w3.org/Graphics/SVG/1.1/DTD/svg11.dtd\">\r\n<!-- Created with matplotlib (https://matplotlib.org/) -->\r\n<svg height=\"274.266538pt\" version=\"1.1\" viewBox=\"0 0 377.304687 274.266538\" width=\"377.304687pt\" xmlns=\"http://www.w3.org/2000/svg\" xmlns:xlink=\"http://www.w3.org/1999/xlink\">\r\n <metadata>\r\n  <rdf:RDF xmlns:cc=\"http://creativecommons.org/ns#\" xmlns:dc=\"http://purl.org/dc/elements/1.1/\" xmlns:rdf=\"http://www.w3.org/1999/02/22-rdf-syntax-ns#\">\r\n   <cc:Work>\r\n    <dc:type rdf:resource=\"http://purl.org/dc/dcmitype/StillImage\"/>\r\n    <dc:date>2021-04-28T09:22:38.219446</dc:date>\r\n    <dc:format>image/svg+xml</dc:format>\r\n    <dc:creator>\r\n     <cc:Agent>\r\n      <dc:title>Matplotlib v3.3.3, https://matplotlib.org/</dc:title>\r\n     </cc:Agent>\r\n    </dc:creator>\r\n   </cc:Work>\r\n  </rdf:RDF>\r\n </metadata>\r\n <defs>\r\n  <style type=\"text/css\">*{stroke-linecap:butt;stroke-linejoin:round;}</style>\r\n </defs>\r\n <g id=\"figure_1\">\r\n  <g id=\"patch_1\">\r\n   <path d=\"M 0 274.266538 \r\nL 377.304687 274.266538 \r\nL 377.304687 0 \r\nL 0 0 \r\nz\r\n\" style=\"fill:none;\"/>\r\n  </g>\r\n  <g id=\"axes_1\">\r\n   <g id=\"patch_2\">\r\n    <path d=\"M 28.942188 227.992788 \r\nL 363.742188 227.992788 \r\nL 363.742188 10.552788 \r\nL 28.942188 10.552788 \r\nz\r\n\" style=\"fill:#ffffff;\"/>\r\n   </g>\r\n   <g id=\"matplotlib.axis_1\">\r\n    <g id=\"xtick_1\">\r\n     <g id=\"line2d_1\">\r\n      <defs>\r\n       <path d=\"M 0 0 \r\nL 0 3.5 \r\n\" id=\"meac60732cd\" style=\"stroke:#000000;stroke-width:0.8;\"/>\r\n      </defs>\r\n      <g>\r\n       <use style=\"stroke:#000000;stroke-width:0.8;\" x=\"28.942187\" xlink:href=\"#meac60732cd\" y=\"227.992788\"/>\r\n      </g>\r\n     </g>\r\n     <g id=\"text_1\">\r\n      <!-- 21 -->\r\n      <g transform=\"translate(22.579687 242.591226)scale(0.1 -0.1)\">\r\n       <defs>\r\n        <path d=\"M 19.1875 8.296875 \r\nL 53.609375 8.296875 \r\nL 53.609375 0 \r\nL 7.328125 0 \r\nL 7.328125 8.296875 \r\nQ 12.9375 14.109375 22.625 23.890625 \r\nQ 32.328125 33.6875 34.8125 36.53125 \r\nQ 39.546875 41.84375 41.421875 45.53125 \r\nQ 43.3125 49.21875 43.3125 52.78125 \r\nQ 43.3125 58.59375 39.234375 62.25 \r\nQ 35.15625 65.921875 28.609375 65.921875 \r\nQ 23.96875 65.921875 18.8125 64.3125 \r\nQ 13.671875 62.703125 7.8125 59.421875 \r\nL 7.8125 69.390625 \r\nQ 13.765625 71.78125 18.9375 73 \r\nQ 24.125 74.21875 28.421875 74.21875 \r\nQ 39.75 74.21875 46.484375 68.546875 \r\nQ 53.21875 62.890625 53.21875 53.421875 \r\nQ 53.21875 48.921875 51.53125 44.890625 \r\nQ 49.859375 40.875 45.40625 35.40625 \r\nQ 44.1875 33.984375 37.640625 27.21875 \r\nQ 31.109375 20.453125 19.1875 8.296875 \r\nz\r\n\" id=\"DejaVuSans-50\"/>\r\n        <path d=\"M 12.40625 8.296875 \r\nL 28.515625 8.296875 \r\nL 28.515625 63.921875 \r\nL 10.984375 60.40625 \r\nL 10.984375 69.390625 \r\nL 28.421875 72.90625 \r\nL 38.28125 72.90625 \r\nL 38.28125 8.296875 \r\nL 54.390625 8.296875 \r\nL 54.390625 0 \r\nL 12.40625 0 \r\nz\r\n\" id=\"DejaVuSans-49\"/>\r\n       </defs>\r\n       <use xlink:href=\"#DejaVuSans-50\"/>\r\n       <use x=\"63.623047\" xlink:href=\"#DejaVuSans-49\"/>\r\n      </g>\r\n      <!-- Apr -->\r\n      <g transform=\"translate(20.292187 253.789038)scale(0.1 -0.1)\">\r\n       <defs>\r\n        <path d=\"M 34.1875 63.1875 \r\nL 20.796875 26.90625 \r\nL 47.609375 26.90625 \r\nz\r\nM 28.609375 72.90625 \r\nL 39.796875 72.90625 \r\nL 67.578125 0 \r\nL 57.328125 0 \r\nL 50.6875 18.703125 \r\nL 17.828125 18.703125 \r\nL 11.1875 0 \r\nL 0.78125 0 \r\nz\r\n\" id=\"DejaVuSans-65\"/>\r\n        <path d=\"M 18.109375 8.203125 \r\nL 18.109375 -20.796875 \r\nL 9.078125 -20.796875 \r\nL 9.078125 54.6875 \r\nL 18.109375 54.6875 \r\nL 18.109375 46.390625 \r\nQ 20.953125 51.265625 25.265625 53.625 \r\nQ 29.59375 56 35.59375 56 \r\nQ 45.5625 56 51.78125 48.09375 \r\nQ 58.015625 40.1875 58.015625 27.296875 \r\nQ 58.015625 14.40625 51.78125 6.484375 \r\nQ 45.5625 -1.421875 35.59375 -1.421875 \r\nQ 29.59375 -1.421875 25.265625 0.953125 \r\nQ 20.953125 3.328125 18.109375 8.203125 \r\nz\r\nM 48.6875 27.296875 \r\nQ 48.6875 37.203125 44.609375 42.84375 \r\nQ 40.53125 48.484375 33.40625 48.484375 \r\nQ 26.265625 48.484375 22.1875 42.84375 \r\nQ 18.109375 37.203125 18.109375 27.296875 \r\nQ 18.109375 17.390625 22.1875 11.75 \r\nQ 26.265625 6.109375 33.40625 6.109375 \r\nQ 40.53125 6.109375 44.609375 11.75 \r\nQ 48.6875 17.390625 48.6875 27.296875 \r\nz\r\n\" id=\"DejaVuSans-112\"/>\r\n        <path d=\"M 41.109375 46.296875 \r\nQ 39.59375 47.171875 37.8125 47.578125 \r\nQ 36.03125 48 33.890625 48 \r\nQ 26.265625 48 22.1875 43.046875 \r\nQ 18.109375 38.09375 18.109375 28.8125 \r\nL 18.109375 0 \r\nL 9.078125 0 \r\nL 9.078125 54.6875 \r\nL 18.109375 54.6875 \r\nL 18.109375 46.1875 \r\nQ 20.953125 51.171875 25.484375 53.578125 \r\nQ 30.03125 56 36.53125 56 \r\nQ 37.453125 56 38.578125 55.875 \r\nQ 39.703125 55.765625 41.0625 55.515625 \r\nz\r\n\" id=\"DejaVuSans-114\"/>\r\n       </defs>\r\n       <use xlink:href=\"#DejaVuSans-65\"/>\r\n       <use x=\"68.408203\" xlink:href=\"#DejaVuSans-112\"/>\r\n       <use x=\"131.884766\" xlink:href=\"#DejaVuSans-114\"/>\r\n      </g>\r\n      <!-- 2021 -->\r\n      <g transform=\"translate(16.217187 264.986851)scale(0.1 -0.1)\">\r\n       <defs>\r\n        <path d=\"M 31.78125 66.40625 \r\nQ 24.171875 66.40625 20.328125 58.90625 \r\nQ 16.5 51.421875 16.5 36.375 \r\nQ 16.5 21.390625 20.328125 13.890625 \r\nQ 24.171875 6.390625 31.78125 6.390625 \r\nQ 39.453125 6.390625 43.28125 13.890625 \r\nQ 47.125 21.390625 47.125 36.375 \r\nQ 47.125 51.421875 43.28125 58.90625 \r\nQ 39.453125 66.40625 31.78125 66.40625 \r\nz\r\nM 31.78125 74.21875 \r\nQ 44.046875 74.21875 50.515625 64.515625 \r\nQ 56.984375 54.828125 56.984375 36.375 \r\nQ 56.984375 17.96875 50.515625 8.265625 \r\nQ 44.046875 -1.421875 31.78125 -1.421875 \r\nQ 19.53125 -1.421875 13.0625 8.265625 \r\nQ 6.59375 17.96875 6.59375 36.375 \r\nQ 6.59375 54.828125 13.0625 64.515625 \r\nQ 19.53125 74.21875 31.78125 74.21875 \r\nz\r\n\" id=\"DejaVuSans-48\"/>\r\n       </defs>\r\n       <use xlink:href=\"#DejaVuSans-50\"/>\r\n       <use x=\"63.623047\" xlink:href=\"#DejaVuSans-48\"/>\r\n       <use x=\"127.246094\" xlink:href=\"#DejaVuSans-50\"/>\r\n       <use x=\"190.869141\" xlink:href=\"#DejaVuSans-49\"/>\r\n      </g>\r\n     </g>\r\n    </g>\r\n    <g id=\"xtick_2\">\r\n     <g id=\"line2d_2\">\r\n      <g>\r\n       <use style=\"stroke:#000000;stroke-width:0.8;\" x=\"363.742187\" xlink:href=\"#meac60732cd\" y=\"227.992788\"/>\r\n      </g>\r\n     </g>\r\n     <g id=\"text_2\">\r\n      <!-- 30 -->\r\n      <g transform=\"translate(357.379687 242.591226)scale(0.1 -0.1)\">\r\n       <defs>\r\n        <path d=\"M 40.578125 39.3125 \r\nQ 47.65625 37.796875 51.625 33 \r\nQ 55.609375 28.21875 55.609375 21.1875 \r\nQ 55.609375 10.40625 48.1875 4.484375 \r\nQ 40.765625 -1.421875 27.09375 -1.421875 \r\nQ 22.515625 -1.421875 17.65625 -0.515625 \r\nQ 12.796875 0.390625 7.625 2.203125 \r\nL 7.625 11.71875 \r\nQ 11.71875 9.328125 16.59375 8.109375 \r\nQ 21.484375 6.890625 26.8125 6.890625 \r\nQ 36.078125 6.890625 40.9375 10.546875 \r\nQ 45.796875 14.203125 45.796875 21.1875 \r\nQ 45.796875 27.640625 41.28125 31.265625 \r\nQ 36.765625 34.90625 28.71875 34.90625 \r\nL 20.21875 34.90625 \r\nL 20.21875 43.015625 \r\nL 29.109375 43.015625 \r\nQ 36.375 43.015625 40.234375 45.921875 \r\nQ 44.09375 48.828125 44.09375 54.296875 \r\nQ 44.09375 59.90625 40.109375 62.90625 \r\nQ 36.140625 65.921875 28.71875 65.921875 \r\nQ 24.65625 65.921875 20.015625 65.03125 \r\nQ 15.375 64.15625 9.8125 62.3125 \r\nL 9.8125 71.09375 \r\nQ 15.4375 72.65625 20.34375 73.4375 \r\nQ 25.25 74.21875 29.59375 74.21875 \r\nQ 40.828125 74.21875 47.359375 69.109375 \r\nQ 53.90625 64.015625 53.90625 55.328125 \r\nQ 53.90625 49.265625 50.4375 45.09375 \r\nQ 46.96875 40.921875 40.578125 39.3125 \r\nz\r\n\" id=\"DejaVuSans-51\"/>\r\n       </defs>\r\n       <use xlink:href=\"#DejaVuSans-51\"/>\r\n       <use x=\"63.623047\" xlink:href=\"#DejaVuSans-48\"/>\r\n      </g>\r\n     </g>\r\n    </g>\r\n    <g id=\"xtick_3\">\r\n     <g id=\"line2d_3\">\r\n      <defs>\r\n       <path d=\"M 0 0 \r\nL 0 2 \r\n\" id=\"mce7effcd3a\" style=\"stroke:#000000;stroke-width:0.6;\"/>\r\n      </defs>\r\n      <g>\r\n       <use style=\"stroke:#000000;stroke-width:0.6;\" x=\"66.142187\" xlink:href=\"#mce7effcd3a\" y=\"227.992788\"/>\r\n      </g>\r\n     </g>\r\n     <g id=\"text_3\">\r\n      <!-- 22 -->\r\n      <g transform=\"translate(59.779687 240.991226)scale(0.1 -0.1)\">\r\n       <use xlink:href=\"#DejaVuSans-50\"/>\r\n       <use x=\"63.623047\" xlink:href=\"#DejaVuSans-50\"/>\r\n      </g>\r\n     </g>\r\n    </g>\r\n    <g id=\"xtick_4\">\r\n     <g id=\"line2d_4\">\r\n      <g>\r\n       <use style=\"stroke:#000000;stroke-width:0.6;\" x=\"103.342187\" xlink:href=\"#mce7effcd3a\" y=\"227.992788\"/>\r\n      </g>\r\n     </g>\r\n     <g id=\"text_4\">\r\n      <!-- 23 -->\r\n      <g transform=\"translate(96.979687 240.991226)scale(0.1 -0.1)\">\r\n       <use xlink:href=\"#DejaVuSans-50\"/>\r\n       <use x=\"63.623047\" xlink:href=\"#DejaVuSans-51\"/>\r\n      </g>\r\n     </g>\r\n    </g>\r\n    <g id=\"xtick_5\">\r\n     <g id=\"line2d_5\">\r\n      <g>\r\n       <use style=\"stroke:#000000;stroke-width:0.6;\" x=\"140.542187\" xlink:href=\"#mce7effcd3a\" y=\"227.992788\"/>\r\n      </g>\r\n     </g>\r\n     <g id=\"text_5\">\r\n      <!-- 24 -->\r\n      <g transform=\"translate(134.179687 240.991226)scale(0.1 -0.1)\">\r\n       <defs>\r\n        <path d=\"M 37.796875 64.3125 \r\nL 12.890625 25.390625 \r\nL 37.796875 25.390625 \r\nz\r\nM 35.203125 72.90625 \r\nL 47.609375 72.90625 \r\nL 47.609375 25.390625 \r\nL 58.015625 25.390625 \r\nL 58.015625 17.1875 \r\nL 47.609375 17.1875 \r\nL 47.609375 0 \r\nL 37.796875 0 \r\nL 37.796875 17.1875 \r\nL 4.890625 17.1875 \r\nL 4.890625 26.703125 \r\nz\r\n\" id=\"DejaVuSans-52\"/>\r\n       </defs>\r\n       <use xlink:href=\"#DejaVuSans-50\"/>\r\n       <use x=\"63.623047\" xlink:href=\"#DejaVuSans-52\"/>\r\n      </g>\r\n     </g>\r\n    </g>\r\n    <g id=\"xtick_6\">\r\n     <g id=\"line2d_6\">\r\n      <g>\r\n       <use style=\"stroke:#000000;stroke-width:0.6;\" x=\"177.742187\" xlink:href=\"#mce7effcd3a\" y=\"227.992788\"/>\r\n      </g>\r\n     </g>\r\n     <g id=\"text_6\">\r\n      <!-- 25 -->\r\n      <g transform=\"translate(171.379687 240.991226)scale(0.1 -0.1)\">\r\n       <defs>\r\n        <path d=\"M 10.796875 72.90625 \r\nL 49.515625 72.90625 \r\nL 49.515625 64.59375 \r\nL 19.828125 64.59375 \r\nL 19.828125 46.734375 \r\nQ 21.96875 47.46875 24.109375 47.828125 \r\nQ 26.265625 48.1875 28.421875 48.1875 \r\nQ 40.625 48.1875 47.75 41.5 \r\nQ 54.890625 34.8125 54.890625 23.390625 \r\nQ 54.890625 11.625 47.5625 5.09375 \r\nQ 40.234375 -1.421875 26.90625 -1.421875 \r\nQ 22.3125 -1.421875 17.546875 -0.640625 \r\nQ 12.796875 0.140625 7.71875 1.703125 \r\nL 7.71875 11.625 \r\nQ 12.109375 9.234375 16.796875 8.0625 \r\nQ 21.484375 6.890625 26.703125 6.890625 \r\nQ 35.15625 6.890625 40.078125 11.328125 \r\nQ 45.015625 15.765625 45.015625 23.390625 \r\nQ 45.015625 31 40.078125 35.4375 \r\nQ 35.15625 39.890625 26.703125 39.890625 \r\nQ 22.75 39.890625 18.8125 39.015625 \r\nQ 14.890625 38.140625 10.796875 36.28125 \r\nz\r\n\" id=\"DejaVuSans-53\"/>\r\n       </defs>\r\n       <use xlink:href=\"#DejaVuSans-50\"/>\r\n       <use x=\"63.623047\" xlink:href=\"#DejaVuSans-53\"/>\r\n      </g>\r\n     </g>\r\n    </g>\r\n    <g id=\"xtick_7\">\r\n     <g id=\"line2d_7\">\r\n      <g>\r\n       <use style=\"stroke:#000000;stroke-width:0.6;\" x=\"214.942187\" xlink:href=\"#mce7effcd3a\" y=\"227.992788\"/>\r\n      </g>\r\n     </g>\r\n     <g id=\"text_7\">\r\n      <!-- 26 -->\r\n      <g transform=\"translate(208.579687 240.991226)scale(0.1 -0.1)\">\r\n       <defs>\r\n        <path d=\"M 33.015625 40.375 \r\nQ 26.375 40.375 22.484375 35.828125 \r\nQ 18.609375 31.296875 18.609375 23.390625 \r\nQ 18.609375 15.53125 22.484375 10.953125 \r\nQ 26.375 6.390625 33.015625 6.390625 \r\nQ 39.65625 6.390625 43.53125 10.953125 \r\nQ 47.40625 15.53125 47.40625 23.390625 \r\nQ 47.40625 31.296875 43.53125 35.828125 \r\nQ 39.65625 40.375 33.015625 40.375 \r\nz\r\nM 52.59375 71.296875 \r\nL 52.59375 62.3125 \r\nQ 48.875 64.0625 45.09375 64.984375 \r\nQ 41.3125 65.921875 37.59375 65.921875 \r\nQ 27.828125 65.921875 22.671875 59.328125 \r\nQ 17.53125 52.734375 16.796875 39.40625 \r\nQ 19.671875 43.65625 24.015625 45.921875 \r\nQ 28.375 48.1875 33.59375 48.1875 \r\nQ 44.578125 48.1875 50.953125 41.515625 \r\nQ 57.328125 34.859375 57.328125 23.390625 \r\nQ 57.328125 12.15625 50.6875 5.359375 \r\nQ 44.046875 -1.421875 33.015625 -1.421875 \r\nQ 20.359375 -1.421875 13.671875 8.265625 \r\nQ 6.984375 17.96875 6.984375 36.375 \r\nQ 6.984375 53.65625 15.1875 63.9375 \r\nQ 23.390625 74.21875 37.203125 74.21875 \r\nQ 40.921875 74.21875 44.703125 73.484375 \r\nQ 48.484375 72.75 52.59375 71.296875 \r\nz\r\n\" id=\"DejaVuSans-54\"/>\r\n       </defs>\r\n       <use xlink:href=\"#DejaVuSans-50\"/>\r\n       <use x=\"63.623047\" xlink:href=\"#DejaVuSans-54\"/>\r\n      </g>\r\n     </g>\r\n    </g>\r\n    <g id=\"xtick_8\">\r\n     <g id=\"line2d_8\">\r\n      <g>\r\n       <use style=\"stroke:#000000;stroke-width:0.6;\" x=\"252.142187\" xlink:href=\"#mce7effcd3a\" y=\"227.992788\"/>\r\n      </g>\r\n     </g>\r\n     <g id=\"text_8\">\r\n      <!-- 27 -->\r\n      <g transform=\"translate(245.779687 240.991226)scale(0.1 -0.1)\">\r\n       <defs>\r\n        <path d=\"M 8.203125 72.90625 \r\nL 55.078125 72.90625 \r\nL 55.078125 68.703125 \r\nL 28.609375 0 \r\nL 18.3125 0 \r\nL 43.21875 64.59375 \r\nL 8.203125 64.59375 \r\nz\r\n\" id=\"DejaVuSans-55\"/>\r\n       </defs>\r\n       <use xlink:href=\"#DejaVuSans-50\"/>\r\n       <use x=\"63.623047\" xlink:href=\"#DejaVuSans-55\"/>\r\n      </g>\r\n     </g>\r\n    </g>\r\n    <g id=\"xtick_9\">\r\n     <g id=\"line2d_9\">\r\n      <g>\r\n       <use style=\"stroke:#000000;stroke-width:0.6;\" x=\"289.342187\" xlink:href=\"#mce7effcd3a\" y=\"227.992788\"/>\r\n      </g>\r\n     </g>\r\n     <g id=\"text_9\">\r\n      <!-- 28 -->\r\n      <g transform=\"translate(282.979687 240.991226)scale(0.1 -0.1)\">\r\n       <defs>\r\n        <path d=\"M 31.78125 34.625 \r\nQ 24.75 34.625 20.71875 30.859375 \r\nQ 16.703125 27.09375 16.703125 20.515625 \r\nQ 16.703125 13.921875 20.71875 10.15625 \r\nQ 24.75 6.390625 31.78125 6.390625 \r\nQ 38.8125 6.390625 42.859375 10.171875 \r\nQ 46.921875 13.96875 46.921875 20.515625 \r\nQ 46.921875 27.09375 42.890625 30.859375 \r\nQ 38.875 34.625 31.78125 34.625 \r\nz\r\nM 21.921875 38.8125 \r\nQ 15.578125 40.375 12.03125 44.71875 \r\nQ 8.5 49.078125 8.5 55.328125 \r\nQ 8.5 64.0625 14.71875 69.140625 \r\nQ 20.953125 74.21875 31.78125 74.21875 \r\nQ 42.671875 74.21875 48.875 69.140625 \r\nQ 55.078125 64.0625 55.078125 55.328125 \r\nQ 55.078125 49.078125 51.53125 44.71875 \r\nQ 48 40.375 41.703125 38.8125 \r\nQ 48.828125 37.15625 52.796875 32.3125 \r\nQ 56.78125 27.484375 56.78125 20.515625 \r\nQ 56.78125 9.90625 50.3125 4.234375 \r\nQ 43.84375 -1.421875 31.78125 -1.421875 \r\nQ 19.734375 -1.421875 13.25 4.234375 \r\nQ 6.78125 9.90625 6.78125 20.515625 \r\nQ 6.78125 27.484375 10.78125 32.3125 \r\nQ 14.796875 37.15625 21.921875 38.8125 \r\nz\r\nM 18.3125 54.390625 \r\nQ 18.3125 48.734375 21.84375 45.5625 \r\nQ 25.390625 42.390625 31.78125 42.390625 \r\nQ 38.140625 42.390625 41.71875 45.5625 \r\nQ 45.3125 48.734375 45.3125 54.390625 \r\nQ 45.3125 60.0625 41.71875 63.234375 \r\nQ 38.140625 66.40625 31.78125 66.40625 \r\nQ 25.390625 66.40625 21.84375 63.234375 \r\nQ 18.3125 60.0625 18.3125 54.390625 \r\nz\r\n\" id=\"DejaVuSans-56\"/>\r\n       </defs>\r\n       <use xlink:href=\"#DejaVuSans-50\"/>\r\n       <use x=\"63.623047\" xlink:href=\"#DejaVuSans-56\"/>\r\n      </g>\r\n     </g>\r\n    </g>\r\n    <g id=\"xtick_10\">\r\n     <g id=\"line2d_10\">\r\n      <g>\r\n       <use style=\"stroke:#000000;stroke-width:0.6;\" x=\"326.542187\" xlink:href=\"#mce7effcd3a\" y=\"227.992788\"/>\r\n      </g>\r\n     </g>\r\n     <g id=\"text_10\">\r\n      <!-- 29 -->\r\n      <g transform=\"translate(320.179687 240.991226)scale(0.1 -0.1)\">\r\n       <defs>\r\n        <path d=\"M 10.984375 1.515625 \r\nL 10.984375 10.5 \r\nQ 14.703125 8.734375 18.5 7.8125 \r\nQ 22.3125 6.890625 25.984375 6.890625 \r\nQ 35.75 6.890625 40.890625 13.453125 \r\nQ 46.046875 20.015625 46.78125 33.40625 \r\nQ 43.953125 29.203125 39.59375 26.953125 \r\nQ 35.25 24.703125 29.984375 24.703125 \r\nQ 19.046875 24.703125 12.671875 31.3125 \r\nQ 6.296875 37.9375 6.296875 49.421875 \r\nQ 6.296875 60.640625 12.9375 67.421875 \r\nQ 19.578125 74.21875 30.609375 74.21875 \r\nQ 43.265625 74.21875 49.921875 64.515625 \r\nQ 56.59375 54.828125 56.59375 36.375 \r\nQ 56.59375 19.140625 48.40625 8.859375 \r\nQ 40.234375 -1.421875 26.421875 -1.421875 \r\nQ 22.703125 -1.421875 18.890625 -0.6875 \r\nQ 15.09375 0.046875 10.984375 1.515625 \r\nz\r\nM 30.609375 32.421875 \r\nQ 37.25 32.421875 41.125 36.953125 \r\nQ 45.015625 41.5 45.015625 49.421875 \r\nQ 45.015625 57.28125 41.125 61.84375 \r\nQ 37.25 66.40625 30.609375 66.40625 \r\nQ 23.96875 66.40625 20.09375 61.84375 \r\nQ 16.21875 57.28125 16.21875 49.421875 \r\nQ 16.21875 41.5 20.09375 36.953125 \r\nQ 23.96875 32.421875 30.609375 32.421875 \r\nz\r\n\" id=\"DejaVuSans-57\"/>\r\n       </defs>\r\n       <use xlink:href=\"#DejaVuSans-50\"/>\r\n       <use x=\"63.623047\" xlink:href=\"#DejaVuSans-57\"/>\r\n      </g>\r\n     </g>\r\n    </g>\r\n   </g>\r\n   <g id=\"matplotlib.axis_2\">\r\n    <g id=\"ytick_1\">\r\n     <g id=\"line2d_11\">\r\n      <defs>\r\n       <path d=\"M 0 0 \r\nL -3.5 0 \r\n\" id=\"m54cae0282d\" style=\"stroke:#000000;stroke-width:0.8;\"/>\r\n      </defs>\r\n      <g>\r\n       <use style=\"stroke:#000000;stroke-width:0.8;\" x=\"28.942188\" xlink:href=\"#m54cae0282d\" y=\"215.937226\"/>\r\n      </g>\r\n     </g>\r\n     <g id=\"text_11\">\r\n      <!-- −4 -->\r\n      <g transform=\"translate(7.2 219.736445)scale(0.1 -0.1)\">\r\n       <defs>\r\n        <path d=\"M 10.59375 35.5 \r\nL 73.1875 35.5 \r\nL 73.1875 27.203125 \r\nL 10.59375 27.203125 \r\nz\r\n\" id=\"DejaVuSans-8722\"/>\r\n       </defs>\r\n       <use xlink:href=\"#DejaVuSans-8722\"/>\r\n       <use x=\"83.789062\" xlink:href=\"#DejaVuSans-52\"/>\r\n      </g>\r\n     </g>\r\n    </g>\r\n    <g id=\"ytick_2\">\r\n     <g id=\"line2d_12\">\r\n      <g>\r\n       <use style=\"stroke:#000000;stroke-width:0.8;\" x=\"28.942188\" xlink:href=\"#m54cae0282d\" y=\"174.949625\"/>\r\n      </g>\r\n     </g>\r\n     <g id=\"text_12\">\r\n      <!-- −2 -->\r\n      <g transform=\"translate(7.2 178.748844)scale(0.1 -0.1)\">\r\n       <use xlink:href=\"#DejaVuSans-8722\"/>\r\n       <use x=\"83.789062\" xlink:href=\"#DejaVuSans-50\"/>\r\n      </g>\r\n     </g>\r\n    </g>\r\n    <g id=\"ytick_3\">\r\n     <g id=\"line2d_13\">\r\n      <g>\r\n       <use style=\"stroke:#000000;stroke-width:0.8;\" x=\"28.942188\" xlink:href=\"#m54cae0282d\" y=\"133.962023\"/>\r\n      </g>\r\n     </g>\r\n     <g id=\"text_13\">\r\n      <!-- 0 -->\r\n      <g transform=\"translate(15.579688 137.761242)scale(0.1 -0.1)\">\r\n       <use xlink:href=\"#DejaVuSans-48\"/>\r\n      </g>\r\n     </g>\r\n    </g>\r\n    <g id=\"ytick_4\">\r\n     <g id=\"line2d_14\">\r\n      <g>\r\n       <use style=\"stroke:#000000;stroke-width:0.8;\" x=\"28.942188\" xlink:href=\"#m54cae0282d\" y=\"92.974422\"/>\r\n      </g>\r\n     </g>\r\n     <g id=\"text_14\">\r\n      <!-- 2 -->\r\n      <g transform=\"translate(15.579688 96.773641)scale(0.1 -0.1)\">\r\n       <use xlink:href=\"#DejaVuSans-50\"/>\r\n      </g>\r\n     </g>\r\n    </g>\r\n    <g id=\"ytick_5\">\r\n     <g id=\"line2d_15\">\r\n      <g>\r\n       <use style=\"stroke:#000000;stroke-width:0.8;\" x=\"28.942188\" xlink:href=\"#m54cae0282d\" y=\"51.98682\"/>\r\n      </g>\r\n     </g>\r\n     <g id=\"text_15\">\r\n      <!-- 4 -->\r\n      <g transform=\"translate(15.579688 55.786039)scale(0.1 -0.1)\">\r\n       <use xlink:href=\"#DejaVuSans-52\"/>\r\n      </g>\r\n     </g>\r\n    </g>\r\n    <g id=\"ytick_6\">\r\n     <g id=\"line2d_16\">\r\n      <g>\r\n       <use style=\"stroke:#000000;stroke-width:0.8;\" x=\"28.942188\" xlink:href=\"#m54cae0282d\" y=\"10.999219\"/>\r\n      </g>\r\n     </g>\r\n     <g id=\"text_16\">\r\n      <!-- 6 -->\r\n      <g transform=\"translate(15.579688 14.798438)scale(0.1 -0.1)\">\r\n       <use xlink:href=\"#DejaVuSans-54\"/>\r\n      </g>\r\n     </g>\r\n    </g>\r\n   </g>\r\n   <g id=\"line2d_17\">\r\n    <path clip-path=\"url(#p8eee26a99d)\" d=\"M 28.942187 218.109152 \r\nL 66.142187 148.475558 \r\nM 140.542187 121.877168 \r\nL 177.742187 100.636328 \r\nL 214.942187 99.791712 \r\nM 289.342187 78.037056 \r\nL 326.542187 52.229505 \r\nL 363.742187 20.436424 \r\n\" style=\"fill:none;stroke:#1f77b4;stroke-linecap:square;stroke-width:1.5;\"/>\r\n   </g>\r\n   <g id=\"patch_3\">\r\n    <path d=\"M 28.942188 227.992788 \r\nL 28.942188 10.552788 \r\n\" style=\"fill:none;stroke:#000000;stroke-linecap:square;stroke-linejoin:miter;stroke-width:0.8;\"/>\r\n   </g>\r\n   <g id=\"patch_4\">\r\n    <path d=\"M 363.742188 227.992788 \r\nL 363.742188 10.552788 \r\n\" style=\"fill:none;stroke:#000000;stroke-linecap:square;stroke-linejoin:miter;stroke-width:0.8;\"/>\r\n   </g>\r\n   <g id=\"patch_5\">\r\n    <path d=\"M 28.942187 227.992788 \r\nL 363.742187 227.992788 \r\n\" style=\"fill:none;stroke:#000000;stroke-linecap:square;stroke-linejoin:miter;stroke-width:0.8;\"/>\r\n   </g>\r\n   <g id=\"patch_6\">\r\n    <path d=\"M 28.942187 10.552788 \r\nL 363.742187 10.552788 \r\n\" style=\"fill:none;stroke:#000000;stroke-linecap:square;stroke-linejoin:miter;stroke-width:0.8;\"/>\r\n   </g>\r\n   <g id=\"legend_1\">\r\n    <g id=\"patch_7\">\r\n     <path d=\"M 35.942188 33.230913 \r\nL 74.304688 33.230913 \r\nQ 76.304688 33.230913 76.304688 31.230913 \r\nL 76.304688 17.552788 \r\nQ 76.304688 15.552788 74.304688 15.552788 \r\nL 35.942188 15.552788 \r\nQ 33.942188 15.552788 33.942188 17.552788 \r\nL 33.942188 31.230913 \r\nQ 33.942188 33.230913 35.942188 33.230913 \r\nz\r\n\" style=\"fill:#ffffff;opacity:0.8;stroke:#cccccc;stroke-linejoin:miter;\"/>\r\n    </g>\r\n    <g id=\"line2d_18\">\r\n     <path d=\"M 37.942188 23.651226 \r\nL 57.942188 23.651226 \r\n\" style=\"fill:none;stroke:#1f77b4;stroke-linecap:square;stroke-width:1.5;\"/>\r\n    </g>\r\n    <g id=\"line2d_19\"/>\r\n    <g id=\"text_17\">\r\n     <!-- 0 -->\r\n     <g transform=\"translate(65.942188 27.151226)scale(0.1 -0.1)\">\r\n      <use xlink:href=\"#DejaVuSans-48\"/>\r\n     </g>\r\n    </g>\r\n   </g>\r\n  </g>\r\n </g>\r\n <defs>\r\n  <clipPath id=\"p8eee26a99d\">\r\n   <rect height=\"217.44\" width=\"334.8\" x=\"28.942188\" y=\"10.552788\"/>\r\n  </clipPath>\r\n </defs>\r\n</svg>\r\n",
      "image/png": "[encoded data removed]"
     },
     "metadata": {
      "needs_background": "light"
     }
    }
   ],
   "source": [
    "df.plot();"
   ]
  },
  {
   "cell_type": "code",
   "execution_count": 232,
   "metadata": {},
   "outputs": [
    {
     "output_type": "execute_result",
     "data": {
      "text/plain": [
       "<pandas.io.formats.style.Styler at 0x2508306cd00>"
      ],
      "text/html": "<style  type=\"text/css\" >\n</style><table id=\"T_82dda208_a7f2_11eb_b0cb_f83441d003d0\" ><thead>    <tr>        <th class=\"blank level0\" ></th>        <th class=\"col_heading level0 col0\" >0</th>    </tr></thead><tbody>\n                <tr>\n                        <th id=\"T_82dda208_a7f2_11eb_b0cb_f83441d003d0level0_row0\" class=\"row_heading level0 row0\" >2021-04-21 00:00:00</th>\n                        <td id=\"T_82dda208_a7f2_11eb_b0cb_f83441d003d0row0_col0\" class=\"data row0 col0\" >-4.105980</td>\n            </tr>\n            <tr>\n                        <th id=\"T_82dda208_a7f2_11eb_b0cb_f83441d003d0level0_row1\" class=\"row_heading level0 row1\" >2021-04-22 00:00:00</th>\n                        <td id=\"T_82dda208_a7f2_11eb_b0cb_f83441d003d0row1_col0\" class=\"data row1 col0\" >-0.708191</td>\n            </tr>\n            <tr>\n                        <th id=\"T_82dda208_a7f2_11eb_b0cb_f83441d003d0level0_row2\" class=\"row_heading level0 row2\" >2021-04-23 00:00:00</th>\n                        <td id=\"T_82dda208_a7f2_11eb_b0cb_f83441d003d0row2_col0\" class=\"data row2 col0\" >-0.059254</td>\n            </tr>\n            <tr>\n                        <th id=\"T_82dda208_a7f2_11eb_b0cb_f83441d003d0level0_row3\" class=\"row_heading level0 row3\" >2021-04-24 00:00:00</th>\n                        <td id=\"T_82dda208_a7f2_11eb_b0cb_f83441d003d0row3_col0\" class=\"data row3 col0\" >0.589683</td>\n            </tr>\n            <tr>\n                        <th id=\"T_82dda208_a7f2_11eb_b0cb_f83441d003d0level0_row4\" class=\"row_heading level0 row4\" >2021-04-25 00:00:00</th>\n                        <td id=\"T_82dda208_a7f2_11eb_b0cb_f83441d003d0row4_col0\" class=\"data row4 col0\" >1.626135</td>\n            </tr>\n            <tr>\n                        <th id=\"T_82dda208_a7f2_11eb_b0cb_f83441d003d0level0_row5\" class=\"row_heading level0 row5\" >2021-04-26 00:00:00</th>\n                        <td id=\"T_82dda208_a7f2_11eb_b0cb_f83441d003d0row5_col0\" class=\"data row5 col0\" >1.667349</td>\n            </tr>\n            <tr>\n                        <th id=\"T_82dda208_a7f2_11eb_b0cb_f83441d003d0level0_row6\" class=\"row_heading level0 row6\" >2021-04-27 00:00:00</th>\n                        <td id=\"T_82dda208_a7f2_11eb_b0cb_f83441d003d0row6_col0\" class=\"data row6 col0\" >2.198111</td>\n            </tr>\n            <tr>\n                        <th id=\"T_82dda208_a7f2_11eb_b0cb_f83441d003d0level0_row7\" class=\"row_heading level0 row7\" >2021-04-28 00:00:00</th>\n                        <td id=\"T_82dda208_a7f2_11eb_b0cb_f83441d003d0row7_col0\" class=\"data row7 col0\" >2.728872</td>\n            </tr>\n            <tr>\n                        <th id=\"T_82dda208_a7f2_11eb_b0cb_f83441d003d0level0_row8\" class=\"row_heading level0 row8\" >2021-04-29 00:00:00</th>\n                        <td id=\"T_82dda208_a7f2_11eb_b0cb_f83441d003d0row8_col0\" class=\"data row8 col0\" >3.988158</td>\n            </tr>\n            <tr>\n                        <th id=\"T_82dda208_a7f2_11eb_b0cb_f83441d003d0level0_row9\" class=\"row_heading level0 row9\" >2021-04-30 00:00:00</th>\n                        <td id=\"T_82dda208_a7f2_11eb_b0cb_f83441d003d0row9_col0\" class=\"data row9 col0\" >5.539509</td>\n            </tr>\n    </tbody></table>"
     },
     "metadata": {},
     "execution_count": 232
    }
   ],
   "source": [
    "df_info(df.interpolate())"
   ]
  },
  {
   "cell_type": "code",
   "execution_count": 233,
   "metadata": {},
   "outputs": [
    {
     "output_type": "display_data",
     "data": {
      "text/plain": "<Figure size 432x288 with 1 Axes>",
      "image/svg+xml": "<?xml version=\"1.0\" encoding=\"utf-8\" standalone=\"no\"?>\r\n<!DOCTYPE svg PUBLIC \"-//W3C//DTD SVG 1.1//EN\"\r\n  \"http://www.w3.org/Graphics/SVG/1.1/DTD/svg11.dtd\">\r\n<!-- Created with matplotlib (https://matplotlib.org/) -->\r\n<svg height=\"274.266538pt\" version=\"1.1\" viewBox=\"0 0 377.304687 274.266538\" width=\"377.304687pt\" xmlns=\"http://www.w3.org/2000/svg\" xmlns:xlink=\"http://www.w3.org/1999/xlink\">\r\n <metadata>\r\n  <rdf:RDF xmlns:cc=\"http://creativecommons.org/ns#\" xmlns:dc=\"http://purl.org/dc/elements/1.1/\" xmlns:rdf=\"http://www.w3.org/1999/02/22-rdf-syntax-ns#\">\r\n   <cc:Work>\r\n    <dc:type rdf:resource=\"http://purl.org/dc/dcmitype/StillImage\"/>\r\n    <dc:date>2021-04-28T09:22:38.579565</dc:date>\r\n    <dc:format>image/svg+xml</dc:format>\r\n    <dc:creator>\r\n     <cc:Agent>\r\n      <dc:title>Matplotlib v3.3.3, https://matplotlib.org/</dc:title>\r\n     </cc:Agent>\r\n    </dc:creator>\r\n   </cc:Work>\r\n  </rdf:RDF>\r\n </metadata>\r\n <defs>\r\n  <style type=\"text/css\">*{stroke-linecap:butt;stroke-linejoin:round;}</style>\r\n </defs>\r\n <g id=\"figure_1\">\r\n  <g id=\"patch_1\">\r\n   <path d=\"M 0 274.266538 \r\nL 377.304687 274.266538 \r\nL 377.304687 0 \r\nL 0 0 \r\nz\r\n\" style=\"fill:none;\"/>\r\n  </g>\r\n  <g id=\"axes_1\">\r\n   <g id=\"patch_2\">\r\n    <path d=\"M 28.942188 227.992788 \r\nL 363.742188 227.992788 \r\nL 363.742188 10.552788 \r\nL 28.942188 10.552788 \r\nz\r\n\" style=\"fill:#ffffff;\"/>\r\n   </g>\r\n   <g id=\"matplotlib.axis_1\">\r\n    <g id=\"xtick_1\">\r\n     <g id=\"line2d_1\">\r\n      <defs>\r\n       <path d=\"M 0 0 \r\nL 0 3.5 \r\n\" id=\"m283b470468\" style=\"stroke:#000000;stroke-width:0.8;\"/>\r\n      </defs>\r\n      <g>\r\n       <use style=\"stroke:#000000;stroke-width:0.8;\" x=\"28.942187\" xlink:href=\"#m283b470468\" y=\"227.992788\"/>\r\n      </g>\r\n     </g>\r\n     <g id=\"text_1\">\r\n      <!-- 21 -->\r\n      <g transform=\"translate(22.579687 242.591226)scale(0.1 -0.1)\">\r\n       <defs>\r\n        <path d=\"M 19.1875 8.296875 \r\nL 53.609375 8.296875 \r\nL 53.609375 0 \r\nL 7.328125 0 \r\nL 7.328125 8.296875 \r\nQ 12.9375 14.109375 22.625 23.890625 \r\nQ 32.328125 33.6875 34.8125 36.53125 \r\nQ 39.546875 41.84375 41.421875 45.53125 \r\nQ 43.3125 49.21875 43.3125 52.78125 \r\nQ 43.3125 58.59375 39.234375 62.25 \r\nQ 35.15625 65.921875 28.609375 65.921875 \r\nQ 23.96875 65.921875 18.8125 64.3125 \r\nQ 13.671875 62.703125 7.8125 59.421875 \r\nL 7.8125 69.390625 \r\nQ 13.765625 71.78125 18.9375 73 \r\nQ 24.125 74.21875 28.421875 74.21875 \r\nQ 39.75 74.21875 46.484375 68.546875 \r\nQ 53.21875 62.890625 53.21875 53.421875 \r\nQ 53.21875 48.921875 51.53125 44.890625 \r\nQ 49.859375 40.875 45.40625 35.40625 \r\nQ 44.1875 33.984375 37.640625 27.21875 \r\nQ 31.109375 20.453125 19.1875 8.296875 \r\nz\r\n\" id=\"DejaVuSans-50\"/>\r\n        <path d=\"M 12.40625 8.296875 \r\nL 28.515625 8.296875 \r\nL 28.515625 63.921875 \r\nL 10.984375 60.40625 \r\nL 10.984375 69.390625 \r\nL 28.421875 72.90625 \r\nL 38.28125 72.90625 \r\nL 38.28125 8.296875 \r\nL 54.390625 8.296875 \r\nL 54.390625 0 \r\nL 12.40625 0 \r\nz\r\n\" id=\"DejaVuSans-49\"/>\r\n       </defs>\r\n       <use xlink:href=\"#DejaVuSans-50\"/>\r\n       <use x=\"63.623047\" xlink:href=\"#DejaVuSans-49\"/>\r\n      </g>\r\n      <!-- Apr -->\r\n      <g transform=\"translate(20.292187 253.789038)scale(0.1 -0.1)\">\r\n       <defs>\r\n        <path d=\"M 34.1875 63.1875 \r\nL 20.796875 26.90625 \r\nL 47.609375 26.90625 \r\nz\r\nM 28.609375 72.90625 \r\nL 39.796875 72.90625 \r\nL 67.578125 0 \r\nL 57.328125 0 \r\nL 50.6875 18.703125 \r\nL 17.828125 18.703125 \r\nL 11.1875 0 \r\nL 0.78125 0 \r\nz\r\n\" id=\"DejaVuSans-65\"/>\r\n        <path d=\"M 18.109375 8.203125 \r\nL 18.109375 -20.796875 \r\nL 9.078125 -20.796875 \r\nL 9.078125 54.6875 \r\nL 18.109375 54.6875 \r\nL 18.109375 46.390625 \r\nQ 20.953125 51.265625 25.265625 53.625 \r\nQ 29.59375 56 35.59375 56 \r\nQ 45.5625 56 51.78125 48.09375 \r\nQ 58.015625 40.1875 58.015625 27.296875 \r\nQ 58.015625 14.40625 51.78125 6.484375 \r\nQ 45.5625 -1.421875 35.59375 -1.421875 \r\nQ 29.59375 -1.421875 25.265625 0.953125 \r\nQ 20.953125 3.328125 18.109375 8.203125 \r\nz\r\nM 48.6875 27.296875 \r\nQ 48.6875 37.203125 44.609375 42.84375 \r\nQ 40.53125 48.484375 33.40625 48.484375 \r\nQ 26.265625 48.484375 22.1875 42.84375 \r\nQ 18.109375 37.203125 18.109375 27.296875 \r\nQ 18.109375 17.390625 22.1875 11.75 \r\nQ 26.265625 6.109375 33.40625 6.109375 \r\nQ 40.53125 6.109375 44.609375 11.75 \r\nQ 48.6875 17.390625 48.6875 27.296875 \r\nz\r\n\" id=\"DejaVuSans-112\"/>\r\n        <path d=\"M 41.109375 46.296875 \r\nQ 39.59375 47.171875 37.8125 47.578125 \r\nQ 36.03125 48 33.890625 48 \r\nQ 26.265625 48 22.1875 43.046875 \r\nQ 18.109375 38.09375 18.109375 28.8125 \r\nL 18.109375 0 \r\nL 9.078125 0 \r\nL 9.078125 54.6875 \r\nL 18.109375 54.6875 \r\nL 18.109375 46.1875 \r\nQ 20.953125 51.171875 25.484375 53.578125 \r\nQ 30.03125 56 36.53125 56 \r\nQ 37.453125 56 38.578125 55.875 \r\nQ 39.703125 55.765625 41.0625 55.515625 \r\nz\r\n\" id=\"DejaVuSans-114\"/>\r\n       </defs>\r\n       <use xlink:href=\"#DejaVuSans-65\"/>\r\n       <use x=\"68.408203\" xlink:href=\"#DejaVuSans-112\"/>\r\n       <use x=\"131.884766\" xlink:href=\"#DejaVuSans-114\"/>\r\n      </g>\r\n      <!-- 2021 -->\r\n      <g transform=\"translate(16.217187 264.986851)scale(0.1 -0.1)\">\r\n       <defs>\r\n        <path d=\"M 31.78125 66.40625 \r\nQ 24.171875 66.40625 20.328125 58.90625 \r\nQ 16.5 51.421875 16.5 36.375 \r\nQ 16.5 21.390625 20.328125 13.890625 \r\nQ 24.171875 6.390625 31.78125 6.390625 \r\nQ 39.453125 6.390625 43.28125 13.890625 \r\nQ 47.125 21.390625 47.125 36.375 \r\nQ 47.125 51.421875 43.28125 58.90625 \r\nQ 39.453125 66.40625 31.78125 66.40625 \r\nz\r\nM 31.78125 74.21875 \r\nQ 44.046875 74.21875 50.515625 64.515625 \r\nQ 56.984375 54.828125 56.984375 36.375 \r\nQ 56.984375 17.96875 50.515625 8.265625 \r\nQ 44.046875 -1.421875 31.78125 -1.421875 \r\nQ 19.53125 -1.421875 13.0625 8.265625 \r\nQ 6.59375 17.96875 6.59375 36.375 \r\nQ 6.59375 54.828125 13.0625 64.515625 \r\nQ 19.53125 74.21875 31.78125 74.21875 \r\nz\r\n\" id=\"DejaVuSans-48\"/>\r\n       </defs>\r\n       <use xlink:href=\"#DejaVuSans-50\"/>\r\n       <use x=\"63.623047\" xlink:href=\"#DejaVuSans-48\"/>\r\n       <use x=\"127.246094\" xlink:href=\"#DejaVuSans-50\"/>\r\n       <use x=\"190.869141\" xlink:href=\"#DejaVuSans-49\"/>\r\n      </g>\r\n     </g>\r\n    </g>\r\n    <g id=\"xtick_2\">\r\n     <g id=\"line2d_2\">\r\n      <g>\r\n       <use style=\"stroke:#000000;stroke-width:0.8;\" x=\"363.742187\" xlink:href=\"#m283b470468\" y=\"227.992788\"/>\r\n      </g>\r\n     </g>\r\n     <g id=\"text_2\">\r\n      <!-- 30 -->\r\n      <g transform=\"translate(357.379687 242.591226)scale(0.1 -0.1)\">\r\n       <defs>\r\n        <path d=\"M 40.578125 39.3125 \r\nQ 47.65625 37.796875 51.625 33 \r\nQ 55.609375 28.21875 55.609375 21.1875 \r\nQ 55.609375 10.40625 48.1875 4.484375 \r\nQ 40.765625 -1.421875 27.09375 -1.421875 \r\nQ 22.515625 -1.421875 17.65625 -0.515625 \r\nQ 12.796875 0.390625 7.625 2.203125 \r\nL 7.625 11.71875 \r\nQ 11.71875 9.328125 16.59375 8.109375 \r\nQ 21.484375 6.890625 26.8125 6.890625 \r\nQ 36.078125 6.890625 40.9375 10.546875 \r\nQ 45.796875 14.203125 45.796875 21.1875 \r\nQ 45.796875 27.640625 41.28125 31.265625 \r\nQ 36.765625 34.90625 28.71875 34.90625 \r\nL 20.21875 34.90625 \r\nL 20.21875 43.015625 \r\nL 29.109375 43.015625 \r\nQ 36.375 43.015625 40.234375 45.921875 \r\nQ 44.09375 48.828125 44.09375 54.296875 \r\nQ 44.09375 59.90625 40.109375 62.90625 \r\nQ 36.140625 65.921875 28.71875 65.921875 \r\nQ 24.65625 65.921875 20.015625 65.03125 \r\nQ 15.375 64.15625 9.8125 62.3125 \r\nL 9.8125 71.09375 \r\nQ 15.4375 72.65625 20.34375 73.4375 \r\nQ 25.25 74.21875 29.59375 74.21875 \r\nQ 40.828125 74.21875 47.359375 69.109375 \r\nQ 53.90625 64.015625 53.90625 55.328125 \r\nQ 53.90625 49.265625 50.4375 45.09375 \r\nQ 46.96875 40.921875 40.578125 39.3125 \r\nz\r\n\" id=\"DejaVuSans-51\"/>\r\n       </defs>\r\n       <use xlink:href=\"#DejaVuSans-51\"/>\r\n       <use x=\"63.623047\" xlink:href=\"#DejaVuSans-48\"/>\r\n      </g>\r\n     </g>\r\n    </g>\r\n    <g id=\"xtick_3\">\r\n     <g id=\"line2d_3\">\r\n      <defs>\r\n       <path d=\"M 0 0 \r\nL 0 2 \r\n\" id=\"meb52c98c53\" style=\"stroke:#000000;stroke-width:0.6;\"/>\r\n      </defs>\r\n      <g>\r\n       <use style=\"stroke:#000000;stroke-width:0.6;\" x=\"66.142187\" xlink:href=\"#meb52c98c53\" y=\"227.992788\"/>\r\n      </g>\r\n     </g>\r\n     <g id=\"text_3\">\r\n      <!-- 22 -->\r\n      <g transform=\"translate(59.779687 240.991226)scale(0.1 -0.1)\">\r\n       <use xlink:href=\"#DejaVuSans-50\"/>\r\n       <use x=\"63.623047\" xlink:href=\"#DejaVuSans-50\"/>\r\n      </g>\r\n     </g>\r\n    </g>\r\n    <g id=\"xtick_4\">\r\n     <g id=\"line2d_4\">\r\n      <g>\r\n       <use style=\"stroke:#000000;stroke-width:0.6;\" x=\"103.342187\" xlink:href=\"#meb52c98c53\" y=\"227.992788\"/>\r\n      </g>\r\n     </g>\r\n     <g id=\"text_4\">\r\n      <!-- 23 -->\r\n      <g transform=\"translate(96.979687 240.991226)scale(0.1 -0.1)\">\r\n       <use xlink:href=\"#DejaVuSans-50\"/>\r\n       <use x=\"63.623047\" xlink:href=\"#DejaVuSans-51\"/>\r\n      </g>\r\n     </g>\r\n    </g>\r\n    <g id=\"xtick_5\">\r\n     <g id=\"line2d_5\">\r\n      <g>\r\n       <use style=\"stroke:#000000;stroke-width:0.6;\" x=\"140.542187\" xlink:href=\"#meb52c98c53\" y=\"227.992788\"/>\r\n      </g>\r\n     </g>\r\n     <g id=\"text_5\">\r\n      <!-- 24 -->\r\n      <g transform=\"translate(134.179687 240.991226)scale(0.1 -0.1)\">\r\n       <defs>\r\n        <path d=\"M 37.796875 64.3125 \r\nL 12.890625 25.390625 \r\nL 37.796875 25.390625 \r\nz\r\nM 35.203125 72.90625 \r\nL 47.609375 72.90625 \r\nL 47.609375 25.390625 \r\nL 58.015625 25.390625 \r\nL 58.015625 17.1875 \r\nL 47.609375 17.1875 \r\nL 47.609375 0 \r\nL 37.796875 0 \r\nL 37.796875 17.1875 \r\nL 4.890625 17.1875 \r\nL 4.890625 26.703125 \r\nz\r\n\" id=\"DejaVuSans-52\"/>\r\n       </defs>\r\n       <use xlink:href=\"#DejaVuSans-50\"/>\r\n       <use x=\"63.623047\" xlink:href=\"#DejaVuSans-52\"/>\r\n      </g>\r\n     </g>\r\n    </g>\r\n    <g id=\"xtick_6\">\r\n     <g id=\"line2d_6\">\r\n      <g>\r\n       <use style=\"stroke:#000000;stroke-width:0.6;\" x=\"177.742187\" xlink:href=\"#meb52c98c53\" y=\"227.992788\"/>\r\n      </g>\r\n     </g>\r\n     <g id=\"text_6\">\r\n      <!-- 25 -->\r\n      <g transform=\"translate(171.379687 240.991226)scale(0.1 -0.1)\">\r\n       <defs>\r\n        <path d=\"M 10.796875 72.90625 \r\nL 49.515625 72.90625 \r\nL 49.515625 64.59375 \r\nL 19.828125 64.59375 \r\nL 19.828125 46.734375 \r\nQ 21.96875 47.46875 24.109375 47.828125 \r\nQ 26.265625 48.1875 28.421875 48.1875 \r\nQ 40.625 48.1875 47.75 41.5 \r\nQ 54.890625 34.8125 54.890625 23.390625 \r\nQ 54.890625 11.625 47.5625 5.09375 \r\nQ 40.234375 -1.421875 26.90625 -1.421875 \r\nQ 22.3125 -1.421875 17.546875 -0.640625 \r\nQ 12.796875 0.140625 7.71875 1.703125 \r\nL 7.71875 11.625 \r\nQ 12.109375 9.234375 16.796875 8.0625 \r\nQ 21.484375 6.890625 26.703125 6.890625 \r\nQ 35.15625 6.890625 40.078125 11.328125 \r\nQ 45.015625 15.765625 45.015625 23.390625 \r\nQ 45.015625 31 40.078125 35.4375 \r\nQ 35.15625 39.890625 26.703125 39.890625 \r\nQ 22.75 39.890625 18.8125 39.015625 \r\nQ 14.890625 38.140625 10.796875 36.28125 \r\nz\r\n\" id=\"DejaVuSans-53\"/>\r\n       </defs>\r\n       <use xlink:href=\"#DejaVuSans-50\"/>\r\n       <use x=\"63.623047\" xlink:href=\"#DejaVuSans-53\"/>\r\n      </g>\r\n     </g>\r\n    </g>\r\n    <g id=\"xtick_7\">\r\n     <g id=\"line2d_7\">\r\n      <g>\r\n       <use style=\"stroke:#000000;stroke-width:0.6;\" x=\"214.942187\" xlink:href=\"#meb52c98c53\" y=\"227.992788\"/>\r\n      </g>\r\n     </g>\r\n     <g id=\"text_7\">\r\n      <!-- 26 -->\r\n      <g transform=\"translate(208.579687 240.991226)scale(0.1 -0.1)\">\r\n       <defs>\r\n        <path d=\"M 33.015625 40.375 \r\nQ 26.375 40.375 22.484375 35.828125 \r\nQ 18.609375 31.296875 18.609375 23.390625 \r\nQ 18.609375 15.53125 22.484375 10.953125 \r\nQ 26.375 6.390625 33.015625 6.390625 \r\nQ 39.65625 6.390625 43.53125 10.953125 \r\nQ 47.40625 15.53125 47.40625 23.390625 \r\nQ 47.40625 31.296875 43.53125 35.828125 \r\nQ 39.65625 40.375 33.015625 40.375 \r\nz\r\nM 52.59375 71.296875 \r\nL 52.59375 62.3125 \r\nQ 48.875 64.0625 45.09375 64.984375 \r\nQ 41.3125 65.921875 37.59375 65.921875 \r\nQ 27.828125 65.921875 22.671875 59.328125 \r\nQ 17.53125 52.734375 16.796875 39.40625 \r\nQ 19.671875 43.65625 24.015625 45.921875 \r\nQ 28.375 48.1875 33.59375 48.1875 \r\nQ 44.578125 48.1875 50.953125 41.515625 \r\nQ 57.328125 34.859375 57.328125 23.390625 \r\nQ 57.328125 12.15625 50.6875 5.359375 \r\nQ 44.046875 -1.421875 33.015625 -1.421875 \r\nQ 20.359375 -1.421875 13.671875 8.265625 \r\nQ 6.984375 17.96875 6.984375 36.375 \r\nQ 6.984375 53.65625 15.1875 63.9375 \r\nQ 23.390625 74.21875 37.203125 74.21875 \r\nQ 40.921875 74.21875 44.703125 73.484375 \r\nQ 48.484375 72.75 52.59375 71.296875 \r\nz\r\n\" id=\"DejaVuSans-54\"/>\r\n       </defs>\r\n       <use xlink:href=\"#DejaVuSans-50\"/>\r\n       <use x=\"63.623047\" xlink:href=\"#DejaVuSans-54\"/>\r\n      </g>\r\n     </g>\r\n    </g>\r\n    <g id=\"xtick_8\">\r\n     <g id=\"line2d_8\">\r\n      <g>\r\n       <use style=\"stroke:#000000;stroke-width:0.6;\" x=\"252.142187\" xlink:href=\"#meb52c98c53\" y=\"227.992788\"/>\r\n      </g>\r\n     </g>\r\n     <g id=\"text_8\">\r\n      <!-- 27 -->\r\n      <g transform=\"translate(245.779687 240.991226)scale(0.1 -0.1)\">\r\n       <defs>\r\n        <path d=\"M 8.203125 72.90625 \r\nL 55.078125 72.90625 \r\nL 55.078125 68.703125 \r\nL 28.609375 0 \r\nL 18.3125 0 \r\nL 43.21875 64.59375 \r\nL 8.203125 64.59375 \r\nz\r\n\" id=\"DejaVuSans-55\"/>\r\n       </defs>\r\n       <use xlink:href=\"#DejaVuSans-50\"/>\r\n       <use x=\"63.623047\" xlink:href=\"#DejaVuSans-55\"/>\r\n      </g>\r\n     </g>\r\n    </g>\r\n    <g id=\"xtick_9\">\r\n     <g id=\"line2d_9\">\r\n      <g>\r\n       <use style=\"stroke:#000000;stroke-width:0.6;\" x=\"289.342187\" xlink:href=\"#meb52c98c53\" y=\"227.992788\"/>\r\n      </g>\r\n     </g>\r\n     <g id=\"text_9\">\r\n      <!-- 28 -->\r\n      <g transform=\"translate(282.979687 240.991226)scale(0.1 -0.1)\">\r\n       <defs>\r\n        <path d=\"M 31.78125 34.625 \r\nQ 24.75 34.625 20.71875 30.859375 \r\nQ 16.703125 27.09375 16.703125 20.515625 \r\nQ 16.703125 13.921875 20.71875 10.15625 \r\nQ 24.75 6.390625 31.78125 6.390625 \r\nQ 38.8125 6.390625 42.859375 10.171875 \r\nQ 46.921875 13.96875 46.921875 20.515625 \r\nQ 46.921875 27.09375 42.890625 30.859375 \r\nQ 38.875 34.625 31.78125 34.625 \r\nz\r\nM 21.921875 38.8125 \r\nQ 15.578125 40.375 12.03125 44.71875 \r\nQ 8.5 49.078125 8.5 55.328125 \r\nQ 8.5 64.0625 14.71875 69.140625 \r\nQ 20.953125 74.21875 31.78125 74.21875 \r\nQ 42.671875 74.21875 48.875 69.140625 \r\nQ 55.078125 64.0625 55.078125 55.328125 \r\nQ 55.078125 49.078125 51.53125 44.71875 \r\nQ 48 40.375 41.703125 38.8125 \r\nQ 48.828125 37.15625 52.796875 32.3125 \r\nQ 56.78125 27.484375 56.78125 20.515625 \r\nQ 56.78125 9.90625 50.3125 4.234375 \r\nQ 43.84375 -1.421875 31.78125 -1.421875 \r\nQ 19.734375 -1.421875 13.25 4.234375 \r\nQ 6.78125 9.90625 6.78125 20.515625 \r\nQ 6.78125 27.484375 10.78125 32.3125 \r\nQ 14.796875 37.15625 21.921875 38.8125 \r\nz\r\nM 18.3125 54.390625 \r\nQ 18.3125 48.734375 21.84375 45.5625 \r\nQ 25.390625 42.390625 31.78125 42.390625 \r\nQ 38.140625 42.390625 41.71875 45.5625 \r\nQ 45.3125 48.734375 45.3125 54.390625 \r\nQ 45.3125 60.0625 41.71875 63.234375 \r\nQ 38.140625 66.40625 31.78125 66.40625 \r\nQ 25.390625 66.40625 21.84375 63.234375 \r\nQ 18.3125 60.0625 18.3125 54.390625 \r\nz\r\n\" id=\"DejaVuSans-56\"/>\r\n       </defs>\r\n       <use xlink:href=\"#DejaVuSans-50\"/>\r\n       <use x=\"63.623047\" xlink:href=\"#DejaVuSans-56\"/>\r\n      </g>\r\n     </g>\r\n    </g>\r\n    <g id=\"xtick_10\">\r\n     <g id=\"line2d_10\">\r\n      <g>\r\n       <use style=\"stroke:#000000;stroke-width:0.6;\" x=\"326.542187\" xlink:href=\"#meb52c98c53\" y=\"227.992788\"/>\r\n      </g>\r\n     </g>\r\n     <g id=\"text_10\">\r\n      <!-- 29 -->\r\n      <g transform=\"translate(320.179687 240.991226)scale(0.1 -0.1)\">\r\n       <defs>\r\n        <path d=\"M 10.984375 1.515625 \r\nL 10.984375 10.5 \r\nQ 14.703125 8.734375 18.5 7.8125 \r\nQ 22.3125 6.890625 25.984375 6.890625 \r\nQ 35.75 6.890625 40.890625 13.453125 \r\nQ 46.046875 20.015625 46.78125 33.40625 \r\nQ 43.953125 29.203125 39.59375 26.953125 \r\nQ 35.25 24.703125 29.984375 24.703125 \r\nQ 19.046875 24.703125 12.671875 31.3125 \r\nQ 6.296875 37.9375 6.296875 49.421875 \r\nQ 6.296875 60.640625 12.9375 67.421875 \r\nQ 19.578125 74.21875 30.609375 74.21875 \r\nQ 43.265625 74.21875 49.921875 64.515625 \r\nQ 56.59375 54.828125 56.59375 36.375 \r\nQ 56.59375 19.140625 48.40625 8.859375 \r\nQ 40.234375 -1.421875 26.421875 -1.421875 \r\nQ 22.703125 -1.421875 18.890625 -0.6875 \r\nQ 15.09375 0.046875 10.984375 1.515625 \r\nz\r\nM 30.609375 32.421875 \r\nQ 37.25 32.421875 41.125 36.953125 \r\nQ 45.015625 41.5 45.015625 49.421875 \r\nQ 45.015625 57.28125 41.125 61.84375 \r\nQ 37.25 66.40625 30.609375 66.40625 \r\nQ 23.96875 66.40625 20.09375 61.84375 \r\nQ 16.21875 57.28125 16.21875 49.421875 \r\nQ 16.21875 41.5 20.09375 36.953125 \r\nQ 23.96875 32.421875 30.609375 32.421875 \r\nz\r\n\" id=\"DejaVuSans-57\"/>\r\n       </defs>\r\n       <use xlink:href=\"#DejaVuSans-50\"/>\r\n       <use x=\"63.623047\" xlink:href=\"#DejaVuSans-57\"/>\r\n      </g>\r\n     </g>\r\n    </g>\r\n   </g>\r\n   <g id=\"matplotlib.axis_2\">\r\n    <g id=\"ytick_1\">\r\n     <g id=\"line2d_11\">\r\n      <defs>\r\n       <path d=\"M 0 0 \r\nL -3.5 0 \r\n\" id=\"m9991f559e3\" style=\"stroke:#000000;stroke-width:0.8;\"/>\r\n      </defs>\r\n      <g>\r\n       <use style=\"stroke:#000000;stroke-width:0.8;\" x=\"28.942188\" xlink:href=\"#m9991f559e3\" y=\"215.937226\"/>\r\n      </g>\r\n     </g>\r\n     <g id=\"text_11\">\r\n      <!-- −4 -->\r\n      <g transform=\"translate(7.2 219.736445)scale(0.1 -0.1)\">\r\n       <defs>\r\n        <path d=\"M 10.59375 35.5 \r\nL 73.1875 35.5 \r\nL 73.1875 27.203125 \r\nL 10.59375 27.203125 \r\nz\r\n\" id=\"DejaVuSans-8722\"/>\r\n       </defs>\r\n       <use xlink:href=\"#DejaVuSans-8722\"/>\r\n       <use x=\"83.789062\" xlink:href=\"#DejaVuSans-52\"/>\r\n      </g>\r\n     </g>\r\n    </g>\r\n    <g id=\"ytick_2\">\r\n     <g id=\"line2d_12\">\r\n      <g>\r\n       <use style=\"stroke:#000000;stroke-width:0.8;\" x=\"28.942188\" xlink:href=\"#m9991f559e3\" y=\"174.949625\"/>\r\n      </g>\r\n     </g>\r\n     <g id=\"text_12\">\r\n      <!-- −2 -->\r\n      <g transform=\"translate(7.2 178.748844)scale(0.1 -0.1)\">\r\n       <use xlink:href=\"#DejaVuSans-8722\"/>\r\n       <use x=\"83.789062\" xlink:href=\"#DejaVuSans-50\"/>\r\n      </g>\r\n     </g>\r\n    </g>\r\n    <g id=\"ytick_3\">\r\n     <g id=\"line2d_13\">\r\n      <g>\r\n       <use style=\"stroke:#000000;stroke-width:0.8;\" x=\"28.942188\" xlink:href=\"#m9991f559e3\" y=\"133.962023\"/>\r\n      </g>\r\n     </g>\r\n     <g id=\"text_13\">\r\n      <!-- 0 -->\r\n      <g transform=\"translate(15.579688 137.761242)scale(0.1 -0.1)\">\r\n       <use xlink:href=\"#DejaVuSans-48\"/>\r\n      </g>\r\n     </g>\r\n    </g>\r\n    <g id=\"ytick_4\">\r\n     <g id=\"line2d_14\">\r\n      <g>\r\n       <use style=\"stroke:#000000;stroke-width:0.8;\" x=\"28.942188\" xlink:href=\"#m9991f559e3\" y=\"92.974422\"/>\r\n      </g>\r\n     </g>\r\n     <g id=\"text_14\">\r\n      <!-- 2 -->\r\n      <g transform=\"translate(15.579688 96.773641)scale(0.1 -0.1)\">\r\n       <use xlink:href=\"#DejaVuSans-50\"/>\r\n      </g>\r\n     </g>\r\n    </g>\r\n    <g id=\"ytick_5\">\r\n     <g id=\"line2d_15\">\r\n      <g>\r\n       <use style=\"stroke:#000000;stroke-width:0.8;\" x=\"28.942188\" xlink:href=\"#m9991f559e3\" y=\"51.98682\"/>\r\n      </g>\r\n     </g>\r\n     <g id=\"text_15\">\r\n      <!-- 4 -->\r\n      <g transform=\"translate(15.579688 55.786039)scale(0.1 -0.1)\">\r\n       <use xlink:href=\"#DejaVuSans-52\"/>\r\n      </g>\r\n     </g>\r\n    </g>\r\n    <g id=\"ytick_6\">\r\n     <g id=\"line2d_16\">\r\n      <g>\r\n       <use style=\"stroke:#000000;stroke-width:0.8;\" x=\"28.942188\" xlink:href=\"#m9991f559e3\" y=\"10.999219\"/>\r\n      </g>\r\n     </g>\r\n     <g id=\"text_16\">\r\n      <!-- 6 -->\r\n      <g transform=\"translate(15.579688 14.798438)scale(0.1 -0.1)\">\r\n       <use xlink:href=\"#DejaVuSans-54\"/>\r\n      </g>\r\n     </g>\r\n    </g>\r\n   </g>\r\n   <g id=\"line2d_17\">\r\n    <path clip-path=\"url(#p0766f79fdb)\" d=\"M 28.942187 218.109152 \r\nL 66.142187 148.475558 \r\nL 103.342187 135.176363 \r\nL 140.542187 121.877168 \r\nL 177.742187 100.636328 \r\nL 214.942187 99.791712 \r\nL 252.142187 88.914384 \r\nL 289.342187 78.037056 \r\nL 326.542187 52.229505 \r\nL 363.742187 20.436424 \r\n\" style=\"fill:none;stroke:#1f77b4;stroke-linecap:square;stroke-width:1.5;\"/>\r\n   </g>\r\n   <g id=\"patch_3\">\r\n    <path d=\"M 28.942188 227.992788 \r\nL 28.942188 10.552788 \r\n\" style=\"fill:none;stroke:#000000;stroke-linecap:square;stroke-linejoin:miter;stroke-width:0.8;\"/>\r\n   </g>\r\n   <g id=\"patch_4\">\r\n    <path d=\"M 363.742188 227.992788 \r\nL 363.742188 10.552788 \r\n\" style=\"fill:none;stroke:#000000;stroke-linecap:square;stroke-linejoin:miter;stroke-width:0.8;\"/>\r\n   </g>\r\n   <g id=\"patch_5\">\r\n    <path d=\"M 28.942187 227.992788 \r\nL 363.742187 227.992788 \r\n\" style=\"fill:none;stroke:#000000;stroke-linecap:square;stroke-linejoin:miter;stroke-width:0.8;\"/>\r\n   </g>\r\n   <g id=\"patch_6\">\r\n    <path d=\"M 28.942187 10.552788 \r\nL 363.742187 10.552788 \r\n\" style=\"fill:none;stroke:#000000;stroke-linecap:square;stroke-linejoin:miter;stroke-width:0.8;\"/>\r\n   </g>\r\n   <g id=\"legend_1\">\r\n    <g id=\"patch_7\">\r\n     <path d=\"M 35.942188 33.230913 \r\nL 74.304688 33.230913 \r\nQ 76.304688 33.230913 76.304688 31.230913 \r\nL 76.304688 17.552788 \r\nQ 76.304688 15.552788 74.304688 15.552788 \r\nL 35.942188 15.552788 \r\nQ 33.942188 15.552788 33.942188 17.552788 \r\nL 33.942188 31.230913 \r\nQ 33.942188 33.230913 35.942188 33.230913 \r\nz\r\n\" style=\"fill:#ffffff;opacity:0.8;stroke:#cccccc;stroke-linejoin:miter;\"/>\r\n    </g>\r\n    <g id=\"line2d_18\">\r\n     <path d=\"M 37.942188 23.651226 \r\nL 57.942188 23.651226 \r\n\" style=\"fill:none;stroke:#1f77b4;stroke-linecap:square;stroke-width:1.5;\"/>\r\n    </g>\r\n    <g id=\"line2d_19\"/>\r\n    <g id=\"text_17\">\r\n     <!-- 0 -->\r\n     <g transform=\"translate(65.942188 27.151226)scale(0.1 -0.1)\">\r\n      <use xlink:href=\"#DejaVuSans-48\"/>\r\n     </g>\r\n    </g>\r\n   </g>\r\n  </g>\r\n </g>\r\n <defs>\r\n  <clipPath id=\"p0766f79fdb\">\r\n   <rect height=\"217.44\" width=\"334.8\" x=\"28.942188\" y=\"10.552788\"/>\r\n  </clipPath>\r\n </defs>\r\n</svg>\r\n",
      "image/png": "[encoded data removed]"
     },
     "metadata": {
      "needs_background": "light"
     }
    }
   ],
   "source": [
    "df.interpolate().plot();"
   ]
  }
 ],
 "metadata": {
  "anaconda-cloud": {},
  "kernelspec": {
   "name": "python385jvsc74a57bd0630de26a36415a4d3a1dc65b80feee4049a43a89fa89aed6ddf66c570dbcbff3",
   "display_name": "Python 3.8.5 64-bit ('tensorflow': conda)"
  },
  "language_info": {
   "codemirror_mode": {
    "name": "ipython",
    "version": 3
   },
   "file_extension": ".py",
   "mimetype": "text/x-python",
   "name": "python",
   "nbconvert_exporter": "python",
   "pygments_lexer": "ipython3",
   "version": "3.8.5"
  }
 },
 "nbformat": 4,
 "nbformat_minor": 0
}