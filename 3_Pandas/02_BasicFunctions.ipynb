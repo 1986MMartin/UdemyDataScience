{
 "cells": [
  {
   "cell_type": "markdown",
   "metadata": {},
   "source": [
    "# Pandas Basic Functionality"
   ]
  },
  {
   "cell_type": "code",
   "execution_count": 76,
   "metadata": {
    "collapsed": true
   },
   "outputs": [],
   "source": [
    "import numpy as np\n",
    "np.random.seed(0)\n",
    "import pandas as pd"
   ]
  },
  {
   "cell_type": "code",
   "execution_count": 77,
   "metadata": {},
   "outputs": [],
   "source": [
    "def series_info(series: pd.Series) -> None:\n",
    "    print(f\"ndim: {series.ndim}\")\n",
    "    print(f\"shape: {series.shape}\")\n",
    "    print(f\"size: {series.size}\")\n",
    "    print(f\"dtype: {series.dtype}\")\n",
    "    print(f\"values:\\n{series}\\n\")"
   ]
  },
  {
   "cell_type": "code",
   "execution_count": 78,
   "metadata": {},
   "outputs": [],
   "source": [
    "def df_info(df: pd.DataFrame) -> None:\n",
    "    print(f\"ndim: {df.ndim}\")\n",
    "    print(f\"shape: {df.shape}\")\n",
    "    print(f\"size: {df.size}\")\n",
    "    print(f\"dtype: {df.dtypes}\")\n",
    "    print(f\"values:\\n{df}\\n\")"
   ]
  },
  {
   "cell_type": "code",
   "execution_count": 79,
   "metadata": {},
   "outputs": [
    {
     "output_type": "stream",
     "name": "stdout",
     "text": [
      "ndim: 1\nshape: (5,)\nsize: 5\ndtype: int64\nvalues:\na    0\nb    0\nc    1\nd    2\ne    3\ndtype: int64\n\n"
     ]
    }
   ],
   "source": [
    "s = pd.Series(\n",
    "    [0, 0, 1, 2, 3],\n",
    "    index=[\"a\", \"b\", \"c\", \"d\", \"e\"]\n",
    ")\n",
    "\n",
    "series_info(s)"
   ]
  },
  {
   "cell_type": "code",
   "execution_count": 80,
   "metadata": {},
   "outputs": [
    {
     "output_type": "stream",
     "name": "stdout",
     "text": [
      "[0 0 1 2 3]\n"
     ]
    }
   ],
   "source": [
    "print(s.values)"
   ]
  },
  {
   "cell_type": "code",
   "execution_count": 81,
   "metadata": {},
   "outputs": [],
   "source": [
    "num_samples = 10\n",
    "num_features = 3"
   ]
  },
  {
   "cell_type": "code",
   "execution_count": 82,
   "metadata": {},
   "outputs": [
    {
     "output_type": "stream",
     "name": "stdout",
     "text": [
      "ndim: 1\nshape: (10,)\nsize: 10\ndtype: datetime64[ns]\nvalues:\nDatetimeIndex(['2021-04-21', '2021-04-22', '2021-04-23', '2021-04-24',\n               '2021-04-25', '2021-04-26', '2021-04-27', '2021-04-28',\n               '2021-04-29', '2021-04-30'],\n              dtype='datetime64[ns]', freq='D')\n\n"
     ]
    }
   ],
   "source": [
    "index = pd.date_range(\n",
    "    \"21/4/2021\",\n",
    "    periods=num_samples\n",
    ")\n",
    "\n",
    "series_info(index)"
   ]
  },
  {
   "cell_type": "code",
   "execution_count": 83,
   "metadata": {},
   "outputs": [
    {
     "output_type": "stream",
     "name": "stdout",
     "text": [
      "ndim: 2\nshape: (10, 3)\nsize: 30\ndtype: Weight    float64\nTemp      float64\nSpeed     float64\ndtype: object\nvalues:\n              Weight      Temp     Speed\n2021-04-21  1.764052  0.400157  0.978738\n2021-04-22  2.240893  1.867558 -0.977278\n2021-04-23  0.950088 -0.151357 -0.103219\n2021-04-24  0.410599  0.144044  1.454274\n2021-04-25  0.761038  0.121675  0.443863\n2021-04-26  0.333674  1.494079 -0.205158\n2021-04-27  0.313068 -0.854096 -2.552990\n2021-04-28  0.653619  0.864436 -0.742165\n2021-04-29  2.269755 -1.454366  0.045759\n2021-04-30 -0.187184  1.532779  1.469359\n\n"
     ]
    }
   ],
   "source": [
    "df = pd.DataFrame(\n",
    "    np.random.randn(num_samples, num_features),\n",
    "    index=index,\n",
    "    columns=[\"Weight\", \"Temp\", \"Speed\"]\n",
    ")\n",
    "\n",
    "df_info(df)"
   ]
  },
  {
   "cell_type": "code",
   "execution_count": 84,
   "metadata": {},
   "outputs": [
    {
     "output_type": "stream",
     "name": "stdout",
     "text": [
      "ndim: 1\nshape: (10,)\nsize: 10\ndtype: float64\nvalues:\n2021-04-21    1.764052\n2021-04-22    2.240893\n2021-04-23    0.950088\n2021-04-24    0.410599\n2021-04-25    0.761038\n2021-04-26    0.333674\n2021-04-27    0.313068\n2021-04-28    0.653619\n2021-04-29    2.269755\n2021-04-30   -0.187184\nFreq: D, Name: Weight, dtype: float64\n\n"
     ]
    }
   ],
   "source": [
    "series_info(df['Weight'])"
   ]
  },
  {
   "cell_type": "code",
   "execution_count": 85,
   "metadata": {
    "collapsed": false
   },
   "outputs": [
    {
     "output_type": "stream",
     "name": "stdout",
     "text": [
      "9.50960158820738\n"
     ]
    }
   ],
   "source": [
    "print(np.sum(df['Weight']))"
   ]
  },
  {
   "source": [
    "### Data Information"
   ],
   "cell_type": "markdown",
   "metadata": {}
  },
  {
   "cell_type": "code",
   "execution_count": 86,
   "metadata": {},
   "outputs": [
    {
     "output_type": "execute_result",
     "data": {
      "text/plain": [
       "              Weight      Temp     Speed\n",
       "2021-04-21  1.764052  0.400157  0.978738\n",
       "2021-04-22  2.240893  1.867558 -0.977278\n",
       "2021-04-23  0.950088 -0.151357 -0.103219"
      ],
      "text/html": "<div>\n<style scoped>\n    .dataframe tbody tr th:only-of-type {\n        vertical-align: middle;\n    }\n\n    .dataframe tbody tr th {\n        vertical-align: top;\n    }\n\n    .dataframe thead th {\n        text-align: right;\n    }\n</style>\n<table border=\"1\" class=\"dataframe\">\n  <thead>\n    <tr style=\"text-align: right;\">\n      <th></th>\n      <th>Weight</th>\n      <th>Temp</th>\n      <th>Speed</th>\n    </tr>\n  </thead>\n  <tbody>\n    <tr>\n      <th>2021-04-21</th>\n      <td>1.764052</td>\n      <td>0.400157</td>\n      <td>0.978738</td>\n    </tr>\n    <tr>\n      <th>2021-04-22</th>\n      <td>2.240893</td>\n      <td>1.867558</td>\n      <td>-0.977278</td>\n    </tr>\n    <tr>\n      <th>2021-04-23</th>\n      <td>0.950088</td>\n      <td>-0.151357</td>\n      <td>-0.103219</td>\n    </tr>\n  </tbody>\n</table>\n</div>"
     },
     "metadata": {},
     "execution_count": 86
    }
   ],
   "source": [
    "df.head(3)"
   ]
  },
  {
   "cell_type": "code",
   "execution_count": 87,
   "metadata": {},
   "outputs": [
    {
     "output_type": "execute_result",
     "data": {
      "text/plain": [
       "              Weight      Temp     Speed\n",
       "2021-04-28  0.653619  0.864436 -0.742165\n",
       "2021-04-29  2.269755 -1.454366  0.045759\n",
       "2021-04-30 -0.187184  1.532779  1.469359"
      ],
      "text/html": "<div>\n<style scoped>\n    .dataframe tbody tr th:only-of-type {\n        vertical-align: middle;\n    }\n\n    .dataframe tbody tr th {\n        vertical-align: top;\n    }\n\n    .dataframe thead th {\n        text-align: right;\n    }\n</style>\n<table border=\"1\" class=\"dataframe\">\n  <thead>\n    <tr style=\"text-align: right;\">\n      <th></th>\n      <th>Weight</th>\n      <th>Temp</th>\n      <th>Speed</th>\n    </tr>\n  </thead>\n  <tbody>\n    <tr>\n      <th>2021-04-28</th>\n      <td>0.653619</td>\n      <td>0.864436</td>\n      <td>-0.742165</td>\n    </tr>\n    <tr>\n      <th>2021-04-29</th>\n      <td>2.269755</td>\n      <td>-1.454366</td>\n      <td>0.045759</td>\n    </tr>\n    <tr>\n      <th>2021-04-30</th>\n      <td>-0.187184</td>\n      <td>1.532779</td>\n      <td>1.469359</td>\n    </tr>\n  </tbody>\n</table>\n</div>"
     },
     "metadata": {},
     "execution_count": 87
    }
   ],
   "source": [
    "df.tail(3)"
   ]
  },
  {
   "source": [
    "### Attributes"
   ],
   "cell_type": "markdown",
   "metadata": {}
  },
  {
   "cell_type": "code",
   "execution_count": 88,
   "metadata": {},
   "outputs": [
    {
     "output_type": "stream",
     "name": "stdout",
     "text": [
      "Index(['Weight', 'Temp', 'Speed'], dtype='object')\nIndex(['weight', 'temp', 'speed'], dtype='object')\n"
     ]
    }
   ],
   "source": [
    "print(df.columns)\n",
    "df.columns = [x.lower() for x in df.columns]\n",
    "print(df.columns)"
   ]
  },
  {
   "cell_type": "code",
   "execution_count": 89,
   "metadata": {},
   "outputs": [
    {
     "output_type": "stream",
     "name": "stdout",
     "text": [
      "<class 'pandas.core.arrays.numpy_.PandasArray'>\n<PandasArray>\n[0, 0, 1, 2, 3]\nLength: 5, dtype: int64\n"
     ]
    }
   ],
   "source": [
    "print(type(s.array))\n",
    "print(s.array)"
   ]
  },
  {
   "cell_type": "code",
   "execution_count": 90,
   "metadata": {},
   "outputs": [
    {
     "output_type": "stream",
     "name": "stdout",
     "text": [
      "<class 'numpy.ndarray'>\n[0 0 1 2 3]\n"
     ]
    }
   ],
   "source": [
    "print(type(s.to_numpy()))\n",
    "print(s.to_numpy())"
   ]
  },
  {
   "source": [
    "### Iterating over Series"
   ],
   "cell_type": "markdown",
   "metadata": {}
  },
  {
   "cell_type": "code",
   "execution_count": 91,
   "metadata": {},
   "outputs": [
    {
     "output_type": "stream",
     "name": "stdout",
     "text": [
      "2021-04-21    1.764052\n2021-04-22    2.240893\n2021-04-23    0.950088\n2021-04-24    0.410599\n2021-04-25    0.761038\n2021-04-26    0.333674\n2021-04-27    0.313068\n2021-04-28    0.653619\n2021-04-29    2.269755\n2021-04-30   -0.187184\nFreq: D, Name: weight, dtype: float64\n"
     ]
    }
   ],
   "source": [
    "print(df['weight'])"
   ]
  },
  {
   "cell_type": "code",
   "execution_count": 92,
   "metadata": {},
   "outputs": [
    {
     "output_type": "stream",
     "name": "stdout",
     "text": [
      "1.764052345967664\n2.240893199201458\n0.9500884175255894\n0.41059850193837233\n0.7610377251469934\n0.33367432737426683\n0.31306770165090136\n0.6536185954403606\n2.2697546239876076\n-0.1871838500258336\n"
     ]
    }
   ],
   "source": [
    "for weight in df['weight']:\n",
    "    print(weight)"
   ]
  },
  {
   "cell_type": "code",
   "execution_count": 104,
   "metadata": {},
   "outputs": [],
   "source": [
    "s2 = df['weight']"
   ]
  },
  {
   "cell_type": "code",
   "execution_count": 105,
   "metadata": {},
   "outputs": [
    {
     "output_type": "stream",
     "name": "stdout",
     "text": [
      "2021-04-21 00:00:00 0.4001572083672233\n2021-04-22 00:00:00 1.8675579901499675\n2021-04-23 00:00:00 -0.1513572082976979\n2021-04-24 00:00:00 0.144043571160878\n2021-04-25 00:00:00 0.12167501649282841\n2021-04-26 00:00:00 1.4940790731576061\n2021-04-27 00:00:00 -0.8540957393017248\n2021-04-28 00:00:00 0.8644361988595057\n2021-04-29 00:00:00 -1.4543656745987648\n2021-04-30 00:00:00 1.5327792143584575\n"
     ]
    }
   ],
   "source": [
    "for v1,v2 in s2.iteritems():\n",
    "    print(v1, v2)"
   ]
  },
  {
   "source": [
    "### Iterating over Data Frames"
   ],
   "cell_type": "markdown",
   "metadata": {}
  },
  {
   "cell_type": "code",
   "execution_count": 93,
   "metadata": {},
   "outputs": [
    {
     "output_type": "stream",
     "name": "stdout",
     "text": [
      "              weight      temp     speed\n2021-04-21  1.764052  0.400157  0.978738\n2021-04-22  2.240893  1.867558 -0.977278\n2021-04-23  0.950088 -0.151357 -0.103219\n2021-04-24  0.410599  0.144044  1.454274\n2021-04-25  0.761038  0.121675  0.443863\n2021-04-26  0.333674  1.494079 -0.205158\n2021-04-27  0.313068 -0.854096 -2.552990\n2021-04-28  0.653619  0.864436 -0.742165\n2021-04-29  2.269755 -1.454366  0.045759\n2021-04-30 -0.187184  1.532779  1.469359\n"
     ]
    }
   ],
   "source": [
    "print(df)"
   ]
  },
  {
   "cell_type": "code",
   "execution_count": 94,
   "metadata": {},
   "outputs": [
    {
     "output_type": "stream",
     "name": "stdout",
     "text": [
      "weight\ntemp\nspeed\n"
     ]
    }
   ],
   "source": [
    "for v in df:\n",
    "    print(v)"
   ]
  },
  {
   "cell_type": "code",
   "execution_count": 95,
   "metadata": {},
   "outputs": [
    {
     "output_type": "stream",
     "name": "stdout",
     "text": [
      "<class 'pandas._libs.tslibs.timestamps.Timestamp'>\n<class 'pandas.core.series.Series'>\n2021-04-21 00:00:00 weight    1.764052\ntemp      0.400157\nspeed     0.978738\nName: 2021-04-21 00:00:00, dtype: float64 \n\n<class 'pandas._libs.tslibs.timestamps.Timestamp'>\n<class 'pandas.core.series.Series'>\n2021-04-22 00:00:00 weight    2.240893\ntemp      1.867558\nspeed    -0.977278\nName: 2021-04-22 00:00:00, dtype: float64 \n\n<class 'pandas._libs.tslibs.timestamps.Timestamp'>\n<class 'pandas.core.series.Series'>\n2021-04-23 00:00:00 weight    0.950088\ntemp     -0.151357\nspeed    -0.103219\nName: 2021-04-23 00:00:00, dtype: float64 \n\n<class 'pandas._libs.tslibs.timestamps.Timestamp'>\n<class 'pandas.core.series.Series'>\n2021-04-24 00:00:00 weight    0.410599\ntemp      0.144044\nspeed     1.454274\nName: 2021-04-24 00:00:00, dtype: float64 \n\n<class 'pandas._libs.tslibs.timestamps.Timestamp'>\n<class 'pandas.core.series.Series'>\n2021-04-25 00:00:00 weight    0.761038\ntemp      0.121675\nspeed     0.443863\nName: 2021-04-25 00:00:00, dtype: float64 \n\n<class 'pandas._libs.tslibs.timestamps.Timestamp'>\n<class 'pandas.core.series.Series'>\n2021-04-26 00:00:00 weight    0.333674\ntemp      1.494079\nspeed    -0.205158\nName: 2021-04-26 00:00:00, dtype: float64 \n\n<class 'pandas._libs.tslibs.timestamps.Timestamp'>\n<class 'pandas.core.series.Series'>\n2021-04-27 00:00:00 weight    0.313068\ntemp     -0.854096\nspeed    -2.552990\nName: 2021-04-27 00:00:00, dtype: float64 \n\n<class 'pandas._libs.tslibs.timestamps.Timestamp'>\n<class 'pandas.core.series.Series'>\n2021-04-28 00:00:00 weight    0.653619\ntemp      0.864436\nspeed    -0.742165\nName: 2021-04-28 00:00:00, dtype: float64 \n\n<class 'pandas._libs.tslibs.timestamps.Timestamp'>\n<class 'pandas.core.series.Series'>\n2021-04-29 00:00:00 weight    2.269755\ntemp     -1.454366\nspeed     0.045759\nName: 2021-04-29 00:00:00, dtype: float64 \n\n<class 'pandas._libs.tslibs.timestamps.Timestamp'>\n<class 'pandas.core.series.Series'>\n2021-04-30 00:00:00 weight   -0.187184\ntemp      1.532779\nspeed     1.469359\nName: 2021-04-30 00:00:00, dtype: float64 \n\n"
     ]
    }
   ],
   "source": [
    "for key, val in df.iterrows():\n",
    "    print(type(key))\n",
    "    print(type(val))\n",
    "    print(key, val, \"\\n\")"
   ]
  },
  {
   "source": [
    "#### Indexing\n",
    "\n",
    "``.loc`` is primarily label based, but may also be used with a boolean array. .loc will raise KeyError when the items are not found.\n",
    "\n",
    "``.iloc`` is primarily integer position based (from 0 to length-1 of the axis), but may also be used with a boolean array. .iloc will raise IndexError if a requested indexer is out-of-bounds.\n",
    "\n",
    "| Object Type | Indexers |\n",
    "|-|-|\n",
    "| Series | s.loc\\[indexer\\] |\n",
    "| DataFrame | df.loc\\[row_indexer,column_indexer\\] |\n",
    "\n",
    "##### Standard Indexing\n",
    "\n",
    "| Object Type | Selection | Return Value Type |\n",
    "|-|-|-|\n",
    "| Series | series\\[label\\] | scalar value |\n",
    "| DataFrame | frame\\[colname\\] | Series corresponding to colname |\n"
   ],
   "cell_type": "markdown",
   "metadata": {}
  },
  {
   "cell_type": "code",
   "execution_count": 96,
   "metadata": {},
   "outputs": [
    {
     "output_type": "stream",
     "name": "stdout",
     "text": [
      "2021-04-21    1.764052\n2021-04-22    2.240893\n2021-04-23    0.950088\n2021-04-24    0.410599\n2021-04-25    0.761038\n2021-04-26    0.333674\n2021-04-27    0.313068\n2021-04-28    0.653619\n2021-04-29    2.269755\n2021-04-30   -0.187184\nFreq: D, Name: weight, dtype: float64\n"
     ]
    }
   ],
   "source": [
    "s = df['weight']\n",
    "\n",
    "print(s)"
   ]
  },
  {
   "cell_type": "code",
   "execution_count": 97,
   "metadata": {},
   "outputs": [
    {
     "output_type": "stream",
     "name": "stdout",
     "text": [
      "1.764052345967664\n1.764052345967664\n"
     ]
    }
   ],
   "source": [
    "print(s[0])\n",
    "print(s['2021-04-21'])"
   ]
  },
  {
   "cell_type": "code",
   "execution_count": 98,
   "metadata": {},
   "outputs": [
    {
     "output_type": "stream",
     "name": "stdout",
     "text": [
      "              weight      temp     speed\n",
      "2021-04-21  1.764052  0.400157  0.978738\n",
      "              weight      temp     speed\n",
      "2021-04-21  0.400157  1.764052  0.978738\n"
     ]
    }
   ],
   "source": [
    "print(df.head(1))\n",
    "\n",
    "df[[\"weight\", \"temp\"]] = df[[\"temp\", \"weight\"]]\n",
    "\n",
    "print(df.head(1))"
   ]
  },
  {
   "cell_type": "code",
   "execution_count": 99,
   "metadata": {},
   "outputs": [
    {
     "output_type": "stream",
     "name": "stdout",
     "text": [
      "              weight      temp     speed\n2021-04-22  1.867558  2.240893 -0.977278\n2021-04-23 -0.151357  0.950088 -0.103219\n2021-04-24  0.144044  0.410599  1.454274\n2021-04-25  0.121675  0.761038  0.443863\n"
     ]
    }
   ],
   "source": [
    "print(df.loc['2021-04-22':'2021-04-25'])"
   ]
  },
  {
   "cell_type": "code",
   "execution_count": 100,
   "metadata": {},
   "outputs": [
    {
     "output_type": "stream",
     "name": "stdout",
     "text": [
      "2021-04-22    1.867558\n2021-04-23   -0.151357\n2021-04-24    0.144044\n2021-04-25    0.121675\nFreq: D, Name: weight, dtype: float64\n"
     ]
    }
   ],
   "source": [
    "print(df.loc['2021-04-22':'2021-04-25', 'weight'])"
   ]
  },
  {
   "cell_type": "code",
   "execution_count": 101,
   "metadata": {},
   "outputs": [
    {
     "output_type": "stream",
     "name": "stdout",
     "text": [
      "2021-04-22    1.867558\n2021-04-23   -0.151357\n2021-04-24    0.144044\n2021-04-25    0.121675\nFreq: D, Name: weight, dtype: float64\n"
     ]
    }
   ],
   "source": [
    "print(df.loc['2021-04-22':'2021-04-25']['weight'])"
   ]
  },
  {
   "cell_type": "code",
   "execution_count": 102,
   "metadata": {},
   "outputs": [
    {
     "output_type": "stream",
     "name": "stdout",
     "text": [
      "              weight      temp     speed\n2021-04-22  1.867558  2.240893 -0.977278\n2021-04-23 -0.151357  0.950088 -0.103219\n2021-04-24  0.144044  0.410599  1.454274\n2021-04-25  0.121675  0.761038  0.443863\n"
     ]
    }
   ],
   "source": [
    "print(df.iloc[1:5])"
   ]
  },
  {
   "cell_type": "code",
   "execution_count": 103,
   "metadata": {},
   "outputs": [
    {
     "output_type": "stream",
     "name": "stdout",
     "text": [
      "2021-04-22    1.867558\n2021-04-23   -0.151357\n2021-04-24    0.144044\n2021-04-25    0.121675\nFreq: D, Name: weight, dtype: float64\n"
     ]
    }
   ],
   "source": [
    "print(df.iloc[1:5, 0])"
   ]
  }
 ],
 "metadata": {
  "anaconda-cloud": {},
  "kernelspec": {
   "name": "python385jvsc74a57bd0423c48e3256333a0e0252f1efeec30283ab6ba0213e3a05c32b0541c29f89950",
   "display_name": "Python 3.8.5 64-bit ('pyUdemy': conda)"
  },
  "language_info": {
   "codemirror_mode": {
    "name": "ipython",
    "version": 3
   },
   "file_extension": ".py",
   "mimetype": "text/x-python",
   "name": "python",
   "nbconvert_exporter": "python",
   "pygments_lexer": "ipython3",
   "version": "3.8.5"
  }
 },
 "nbformat": 4,
 "nbformat_minor": 0
}